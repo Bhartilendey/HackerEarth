{
 "cells": [
  {
   "cell_type": "markdown",
   "id": "7fddc5b1",
   "metadata": {},
   "source": [
    "# Business License Status Prediction"
   ]
  },
  {
   "cell_type": "markdown",
   "id": "22e29d58",
   "metadata": {},
   "source": [
    "## Import Required Libraries"
   ]
  },
  {
   "cell_type": "code",
   "execution_count": 247,
   "id": "b7da0dd7",
   "metadata": {},
   "outputs": [],
   "source": [
    "# Importing libraries\n",
    "import pandas as pd\n",
    "import numpy as np\n",
    "import matplotlib.pyplot as plt\n",
    "import seaborn as sns\n",
    "from sklearn.preprocessing import LabelEncoder\n",
    "from sklearn import metrics\n",
    "from sklearn.model_selection import GridSearchCV, RandomizedSearchCV\n",
    "from sklearn.model_selection import StratifiedKFold\n",
    "from sklearn.model_selection import train_test_split\n",
    "from sklearn.metrics import precision_score, recall_score, f1_score, roc_auc_score, accuracy_score, classification_report\n",
    "from datetime import datetime"
   ]
  },
  {
   "cell_type": "markdown",
   "id": "ebca53a3",
   "metadata": {},
   "source": [
    "## Loading the Train Data and Test Data"
   ]
  },
  {
   "cell_type": "code",
   "execution_count": 248,
   "id": "15c8727a",
   "metadata": {},
   "outputs": [
    {
     "name": "stderr",
     "output_type": "stream",
     "text": [
      "C:\\Users\\Bharti Lenday\\anaconda3\\lib\\site-packages\\IPython\\core\\interactiveshell.py:3441: DtypeWarning: Columns (9) have mixed types.Specify dtype option on import or set low_memory=False.\n",
      "  exec(code_obj, self.user_global_ns, self.user_ns)\n"
     ]
    }
   ],
   "source": [
    "# Importing the dataset\n",
    "Train = pd.read_csv(r'C:\\Users\\Bharti Lenday\\ZS_Train_file.csv')\n",
    "Test = pd.read_csv(r'C:\\Users\\Bharti Lenday\\ZS_Test_File.csv')"
   ]
  },
  {
   "cell_type": "code",
   "execution_count": 249,
   "id": "282f2567",
   "metadata": {},
   "outputs": [
    {
     "data": {
      "text/html": [
       "<div>\n",
       "<style scoped>\n",
       "    .dataframe tbody tr th:only-of-type {\n",
       "        vertical-align: middle;\n",
       "    }\n",
       "\n",
       "    .dataframe tbody tr th {\n",
       "        vertical-align: top;\n",
       "    }\n",
       "\n",
       "    .dataframe thead th {\n",
       "        text-align: right;\n",
       "    }\n",
       "</style>\n",
       "<table border=\"1\" class=\"dataframe\">\n",
       "  <thead>\n",
       "    <tr style=\"text-align: right;\">\n",
       "      <th></th>\n",
       "      <th>ID</th>\n",
       "    </tr>\n",
       "  </thead>\n",
       "  <tbody>\n",
       "    <tr>\n",
       "      <th>0</th>\n",
       "      <td>1516615-20120216</td>\n",
       "    </tr>\n",
       "    <tr>\n",
       "      <th>1</th>\n",
       "      <td>69813-20110616</td>\n",
       "    </tr>\n",
       "    <tr>\n",
       "      <th>2</th>\n",
       "      <td>1519227-20041116</td>\n",
       "    </tr>\n",
       "  </tbody>\n",
       "</table>\n",
       "</div>"
      ],
      "text/plain": [
       "                 ID\n",
       "0  1516615-20120216\n",
       "1    69813-20110616\n",
       "2  1519227-20041116"
      ]
     },
     "execution_count": 249,
     "metadata": {},
     "output_type": "execute_result"
    }
   ],
   "source": [
    "my_submission = pd.DataFrame({'ID': Test.ID})\n",
    "my_submission.head(3)"
   ]
  },
  {
   "cell_type": "markdown",
   "id": "58300b75",
   "metadata": {},
   "source": [
    "## Data Inspection"
   ]
  },
  {
   "cell_type": "code",
   "execution_count": 250,
   "id": "eea4d032",
   "metadata": {},
   "outputs": [
    {
     "data": {
      "text/html": [
       "<div>\n",
       "<style scoped>\n",
       "    .dataframe tbody tr th:only-of-type {\n",
       "        vertical-align: middle;\n",
       "    }\n",
       "\n",
       "    .dataframe tbody tr th {\n",
       "        vertical-align: top;\n",
       "    }\n",
       "\n",
       "    .dataframe thead th {\n",
       "        text-align: right;\n",
       "    }\n",
       "</style>\n",
       "<table border=\"1\" class=\"dataframe\">\n",
       "  <thead>\n",
       "    <tr style=\"text-align: right;\">\n",
       "      <th></th>\n",
       "      <th>ID</th>\n",
       "      <th>LICENSE ID</th>\n",
       "      <th>ACCOUNT NUMBER</th>\n",
       "      <th>SITE NUMBER</th>\n",
       "      <th>LEGAL NAME</th>\n",
       "      <th>DOING BUSINESS AS NAME</th>\n",
       "      <th>ADDRESS</th>\n",
       "      <th>CITY</th>\n",
       "      <th>STATE</th>\n",
       "      <th>ZIP CODE</th>\n",
       "      <th>...</th>\n",
       "      <th>LICENSE TERM START DATE</th>\n",
       "      <th>LICENSE TERM EXPIRATION DATE</th>\n",
       "      <th>LICENSE APPROVED FOR ISSUANCE</th>\n",
       "      <th>DATE ISSUED</th>\n",
       "      <th>LICENSE STATUS CHANGE DATE</th>\n",
       "      <th>SSA</th>\n",
       "      <th>LATITUDE</th>\n",
       "      <th>LONGITUDE</th>\n",
       "      <th>LOCATION</th>\n",
       "      <th>LICENSE STATUS</th>\n",
       "    </tr>\n",
       "  </thead>\n",
       "  <tbody>\n",
       "    <tr>\n",
       "      <th>0</th>\n",
       "      <td>35342-20020816</td>\n",
       "      <td>1256593</td>\n",
       "      <td>32811</td>\n",
       "      <td>1</td>\n",
       "      <td>CARMEN CAHUE</td>\n",
       "      <td>CLAUDIA'S BRIDAL SHOP</td>\n",
       "      <td>2625 S CENTRAL PARK AVE  1</td>\n",
       "      <td>CHICAGO</td>\n",
       "      <td>IL</td>\n",
       "      <td>60623</td>\n",
       "      <td>...</td>\n",
       "      <td>2002-08-16T00:00:00</td>\n",
       "      <td>2003-08-15T00:00:00</td>\n",
       "      <td>2002-08-21T00:00:00</td>\n",
       "      <td>2006-04-11T00:00:00</td>\n",
       "      <td>NaN</td>\n",
       "      <td>25.0</td>\n",
       "      <td>41.843613</td>\n",
       "      <td>-87.714618</td>\n",
       "      <td>{'latitude': '41.843612879431845', 'longitude'...</td>\n",
       "      <td>AAI</td>\n",
       "    </tr>\n",
       "    <tr>\n",
       "      <th>1</th>\n",
       "      <td>1358463-20051116</td>\n",
       "      <td>1639294</td>\n",
       "      <td>262311</td>\n",
       "      <td>29</td>\n",
       "      <td>ISLA TROPICAL, INC.</td>\n",
       "      <td>ISLA TROPICAL</td>\n",
       "      <td>2825 W MONTROSE AVE</td>\n",
       "      <td>CHICAGO</td>\n",
       "      <td>IL</td>\n",
       "      <td>60618</td>\n",
       "      <td>...</td>\n",
       "      <td>2005-11-16T00:00:00</td>\n",
       "      <td>2006-11-15T00:00:00</td>\n",
       "      <td>2006-04-05T00:00:00</td>\n",
       "      <td>2006-06-12T00:00:00</td>\n",
       "      <td>2006-06-15T00:00:00</td>\n",
       "      <td>60.0</td>\n",
       "      <td>41.961132</td>\n",
       "      <td>-87.699626</td>\n",
       "      <td>{'latitude': '41.96113244107215', 'longitude':...</td>\n",
       "      <td>AAC</td>\n",
       "    </tr>\n",
       "    <tr>\n",
       "      <th>2</th>\n",
       "      <td>1980233-20090722</td>\n",
       "      <td>1980233</td>\n",
       "      <td>345008</td>\n",
       "      <td>1</td>\n",
       "      <td>DJS REMODELING</td>\n",
       "      <td>DJS REMODELING, INC.</td>\n",
       "      <td>1605  CLAVEY RD 1</td>\n",
       "      <td>HIGHLAND</td>\n",
       "      <td>IL</td>\n",
       "      <td>60035</td>\n",
       "      <td>...</td>\n",
       "      <td>2009-07-22T00:00:00</td>\n",
       "      <td>2011-07-15T00:00:00</td>\n",
       "      <td>2009-07-22T00:00:00</td>\n",
       "      <td>2009-07-22T00:00:00</td>\n",
       "      <td>NaN</td>\n",
       "      <td>NaN</td>\n",
       "      <td>NaN</td>\n",
       "      <td>NaN</td>\n",
       "      <td>NaN</td>\n",
       "      <td>AAI</td>\n",
       "    </tr>\n",
       "  </tbody>\n",
       "</table>\n",
       "<p>3 rows × 32 columns</p>\n",
       "</div>"
      ],
      "text/plain": [
       "                 ID  LICENSE ID  ACCOUNT NUMBER  SITE NUMBER  \\\n",
       "0    35342-20020816     1256593           32811            1   \n",
       "1  1358463-20051116     1639294          262311           29   \n",
       "2  1980233-20090722     1980233          345008            1   \n",
       "\n",
       "            LEGAL NAME DOING BUSINESS AS NAME                     ADDRESS  \\\n",
       "0         CARMEN CAHUE  CLAUDIA'S BRIDAL SHOP  2625 S CENTRAL PARK AVE  1   \n",
       "1  ISLA TROPICAL, INC.          ISLA TROPICAL         2825 W MONTROSE AVE   \n",
       "2       DJS REMODELING   DJS REMODELING, INC.           1605  CLAVEY RD 1   \n",
       "\n",
       "       CITY STATE ZIP CODE  ...  LICENSE TERM START DATE  \\\n",
       "0   CHICAGO    IL    60623  ...      2002-08-16T00:00:00   \n",
       "1   CHICAGO    IL    60618  ...      2005-11-16T00:00:00   \n",
       "2  HIGHLAND    IL    60035  ...      2009-07-22T00:00:00   \n",
       "\n",
       "   LICENSE TERM EXPIRATION DATE LICENSE APPROVED FOR ISSUANCE  \\\n",
       "0           2003-08-15T00:00:00           2002-08-21T00:00:00   \n",
       "1           2006-11-15T00:00:00           2006-04-05T00:00:00   \n",
       "2           2011-07-15T00:00:00           2009-07-22T00:00:00   \n",
       "\n",
       "           DATE ISSUED  LICENSE STATUS CHANGE DATE   SSA   LATITUDE  \\\n",
       "0  2006-04-11T00:00:00                         NaN  25.0  41.843613   \n",
       "1  2006-06-12T00:00:00         2006-06-15T00:00:00  60.0  41.961132   \n",
       "2  2009-07-22T00:00:00                         NaN   NaN        NaN   \n",
       "\n",
       "   LONGITUDE                                           LOCATION LICENSE STATUS  \n",
       "0 -87.714618  {'latitude': '41.843612879431845', 'longitude'...            AAI  \n",
       "1 -87.699626  {'latitude': '41.96113244107215', 'longitude':...            AAC  \n",
       "2        NaN                                                NaN            AAI  \n",
       "\n",
       "[3 rows x 32 columns]"
      ]
     },
     "execution_count": 250,
     "metadata": {},
     "output_type": "execute_result"
    }
   ],
   "source": [
    "Train.head(3)"
   ]
  },
  {
   "cell_type": "code",
   "execution_count": 251,
   "id": "0ea05f0a",
   "metadata": {},
   "outputs": [
    {
     "data": {
      "text/html": [
       "<div>\n",
       "<style scoped>\n",
       "    .dataframe tbody tr th:only-of-type {\n",
       "        vertical-align: middle;\n",
       "    }\n",
       "\n",
       "    .dataframe tbody tr th {\n",
       "        vertical-align: top;\n",
       "    }\n",
       "\n",
       "    .dataframe thead th {\n",
       "        text-align: right;\n",
       "    }\n",
       "</style>\n",
       "<table border=\"1\" class=\"dataframe\">\n",
       "  <thead>\n",
       "    <tr style=\"text-align: right;\">\n",
       "      <th></th>\n",
       "      <th>ID</th>\n",
       "      <th>LICENSE ID</th>\n",
       "      <th>ACCOUNT NUMBER</th>\n",
       "      <th>SITE NUMBER</th>\n",
       "      <th>LEGAL NAME</th>\n",
       "      <th>DOING BUSINESS AS NAME</th>\n",
       "      <th>ADDRESS</th>\n",
       "      <th>CITY</th>\n",
       "      <th>STATE</th>\n",
       "      <th>ZIP CODE</th>\n",
       "      <th>...</th>\n",
       "      <th>CONDITIONAL APPROVAL</th>\n",
       "      <th>LICENSE TERM START DATE</th>\n",
       "      <th>LICENSE TERM EXPIRATION DATE</th>\n",
       "      <th>LICENSE APPROVED FOR ISSUANCE</th>\n",
       "      <th>DATE ISSUED</th>\n",
       "      <th>LICENSE STATUS CHANGE DATE</th>\n",
       "      <th>SSA</th>\n",
       "      <th>LATITUDE</th>\n",
       "      <th>LONGITUDE</th>\n",
       "      <th>LOCATION</th>\n",
       "    </tr>\n",
       "  </thead>\n",
       "  <tbody>\n",
       "    <tr>\n",
       "      <th>0</th>\n",
       "      <td>1516615-20120216</td>\n",
       "      <td>2132209</td>\n",
       "      <td>280120</td>\n",
       "      <td>1</td>\n",
       "      <td>RS HOMES I LLC</td>\n",
       "      <td>RS HOMES I LLC</td>\n",
       "      <td>350 W HUBBARD ST 3 300</td>\n",
       "      <td>CHICAGO</td>\n",
       "      <td>IL</td>\n",
       "      <td>60610.0</td>\n",
       "      <td>...</td>\n",
       "      <td>N</td>\n",
       "      <td>2012-02-16T00:00:00</td>\n",
       "      <td>2014-02-15T00:00:00</td>\n",
       "      <td>2012-01-19T00:00:00</td>\n",
       "      <td>2012-01-20T00:00:00</td>\n",
       "      <td>2012-12-29T00:00:00</td>\n",
       "      <td>NaN</td>\n",
       "      <td>41.890047</td>\n",
       "      <td>-87.637467</td>\n",
       "      <td>{'latitude': '41.89004724888915', 'longitude':...</td>\n",
       "    </tr>\n",
       "    <tr>\n",
       "      <th>1</th>\n",
       "      <td>69813-20110616</td>\n",
       "      <td>2090759</td>\n",
       "      <td>65043</td>\n",
       "      <td>1</td>\n",
       "      <td>CSX INTERMODAL INC</td>\n",
       "      <td>CSX INTERMODAL</td>\n",
       "      <td>2101 W 59TH ST 1ST</td>\n",
       "      <td>CHICAGO</td>\n",
       "      <td>IL</td>\n",
       "      <td>60636.0</td>\n",
       "      <td>...</td>\n",
       "      <td>N</td>\n",
       "      <td>2011-06-16T00:00:00</td>\n",
       "      <td>2013-06-15T00:00:00</td>\n",
       "      <td>2012-11-02T00:00:00</td>\n",
       "      <td>2012-11-05T00:00:00</td>\n",
       "      <td>2012-12-29T00:00:00</td>\n",
       "      <td>NaN</td>\n",
       "      <td>41.786485</td>\n",
       "      <td>-87.676665</td>\n",
       "      <td>{'latitude': '41.786485235679486', 'longitude'...</td>\n",
       "    </tr>\n",
       "    <tr>\n",
       "      <th>2</th>\n",
       "      <td>1519227-20041116</td>\n",
       "      <td>1541990</td>\n",
       "      <td>281270</td>\n",
       "      <td>1</td>\n",
       "      <td>LOCOMIBILE  LOFTS LLC</td>\n",
       "      <td>LOCOMOBILE LOFTS LLC</td>\n",
       "      <td>1133 S WABASH AVE 1ST</td>\n",
       "      <td>CHICAGO</td>\n",
       "      <td>IL</td>\n",
       "      <td>60605.0</td>\n",
       "      <td>...</td>\n",
       "      <td>N</td>\n",
       "      <td>2004-11-16T00:00:00</td>\n",
       "      <td>2005-11-15T00:00:00</td>\n",
       "      <td>2004-12-06T00:00:00</td>\n",
       "      <td>2004-12-07T00:00:00</td>\n",
       "      <td>NaN</td>\n",
       "      <td>NaN</td>\n",
       "      <td>41.868269</td>\n",
       "      <td>-87.625695</td>\n",
       "      <td>{'latitude': '41.86826924843568', 'longitude':...</td>\n",
       "    </tr>\n",
       "  </tbody>\n",
       "</table>\n",
       "<p>3 rows × 31 columns</p>\n",
       "</div>"
      ],
      "text/plain": [
       "                 ID  LICENSE ID  ACCOUNT NUMBER  SITE NUMBER  \\\n",
       "0  1516615-20120216     2132209          280120            1   \n",
       "1    69813-20110616     2090759           65043            1   \n",
       "2  1519227-20041116     1541990          281270            1   \n",
       "\n",
       "              LEGAL NAME DOING BUSINESS AS NAME                 ADDRESS  \\\n",
       "0         RS HOMES I LLC         RS HOMES I LLC  350 W HUBBARD ST 3 300   \n",
       "1     CSX INTERMODAL INC         CSX INTERMODAL      2101 W 59TH ST 1ST   \n",
       "2  LOCOMIBILE  LOFTS LLC   LOCOMOBILE LOFTS LLC   1133 S WABASH AVE 1ST   \n",
       "\n",
       "      CITY STATE  ZIP CODE  ...  CONDITIONAL APPROVAL  \\\n",
       "0  CHICAGO    IL   60610.0  ...                     N   \n",
       "1  CHICAGO    IL   60636.0  ...                     N   \n",
       "2  CHICAGO    IL   60605.0  ...                     N   \n",
       "\n",
       "   LICENSE TERM START DATE LICENSE TERM EXPIRATION DATE  \\\n",
       "0      2012-02-16T00:00:00          2014-02-15T00:00:00   \n",
       "1      2011-06-16T00:00:00          2013-06-15T00:00:00   \n",
       "2      2004-11-16T00:00:00          2005-11-15T00:00:00   \n",
       "\n",
       "   LICENSE APPROVED FOR ISSUANCE          DATE ISSUED  \\\n",
       "0            2012-01-19T00:00:00  2012-01-20T00:00:00   \n",
       "1            2012-11-02T00:00:00  2012-11-05T00:00:00   \n",
       "2            2004-12-06T00:00:00  2004-12-07T00:00:00   \n",
       "\n",
       "  LICENSE STATUS CHANGE DATE  SSA   LATITUDE  LONGITUDE  \\\n",
       "0        2012-12-29T00:00:00  NaN  41.890047 -87.637467   \n",
       "1        2012-12-29T00:00:00  NaN  41.786485 -87.676665   \n",
       "2                        NaN  NaN  41.868269 -87.625695   \n",
       "\n",
       "                                            LOCATION  \n",
       "0  {'latitude': '41.89004724888915', 'longitude':...  \n",
       "1  {'latitude': '41.786485235679486', 'longitude'...  \n",
       "2  {'latitude': '41.86826924843568', 'longitude':...  \n",
       "\n",
       "[3 rows x 31 columns]"
      ]
     },
     "execution_count": 251,
     "metadata": {},
     "output_type": "execute_result"
    }
   ],
   "source": [
    "Test.head(3)"
   ]
  },
  {
   "cell_type": "code",
   "execution_count": 252,
   "id": "ddffcc7b",
   "metadata": {},
   "outputs": [
    {
     "name": "stdout",
     "output_type": "stream",
     "text": [
      "Shape of the Train data: (85895, 32)\n",
      "Shape of the Test data: (57239, 31)\n"
     ]
    }
   ],
   "source": [
    "# Shape of the dataset\n",
    "print('Shape of the Train data:',Train.shape)\n",
    "print('Shape of the Test data:',Test.shape)"
   ]
  },
  {
   "cell_type": "markdown",
   "id": "4cc5cb05",
   "metadata": {},
   "source": [
    "\n",
    "* **The Train data contains 85895 rows and 32 columns including the target column.**\n",
    "* **The Test data contains 57239 rows and 31 columns.**"
   ]
  },
  {
   "cell_type": "code",
   "execution_count": 253,
   "id": "dddf3c0a",
   "metadata": {},
   "outputs": [
    {
     "name": "stdout",
     "output_type": "stream",
     "text": [
      "Data type of Train data :\n",
      " ID                                    object\n",
      "LICENSE ID                             int64\n",
      "ACCOUNT NUMBER                         int64\n",
      "SITE NUMBER                            int64\n",
      "LEGAL NAME                            object\n",
      "DOING BUSINESS AS NAME                object\n",
      "ADDRESS                               object\n",
      "CITY                                  object\n",
      "STATE                                 object\n",
      "ZIP CODE                              object\n",
      "WARD                                 float64\n",
      "PRECINCT                             float64\n",
      "WARD PRECINCT                         object\n",
      "POLICE DISTRICT                      float64\n",
      "LICENSE CODE                           int64\n",
      "LICENSE DESCRIPTION                   object\n",
      "LICENSE NUMBER                       float64\n",
      "APPLICATION TYPE                      object\n",
      "APPLICATION CREATED DATE              object\n",
      "APPLICATION REQUIREMENTS COMPLETE     object\n",
      "PAYMENT DATE                          object\n",
      "CONDITIONAL APPROVAL                  object\n",
      "LICENSE TERM START DATE               object\n",
      "LICENSE TERM EXPIRATION DATE          object\n",
      "LICENSE APPROVED FOR ISSUANCE         object\n",
      "DATE ISSUED                           object\n",
      "LICENSE STATUS CHANGE DATE            object\n",
      "SSA                                  float64\n",
      "LATITUDE                             float64\n",
      "LONGITUDE                            float64\n",
      "LOCATION                              object\n",
      "LICENSE STATUS                        object\n",
      "dtype: object \n",
      "\n",
      "\n",
      "Data type of Test data :\n",
      " ID                                    object\n",
      "LICENSE ID                             int64\n",
      "ACCOUNT NUMBER                         int64\n",
      "SITE NUMBER                            int64\n",
      "LEGAL NAME                            object\n",
      "DOING BUSINESS AS NAME                object\n",
      "ADDRESS                               object\n",
      "CITY                                  object\n",
      "STATE                                 object\n",
      "ZIP CODE                             float64\n",
      "WARD                                 float64\n",
      "PRECINCT                             float64\n",
      "WARD PRECINCT                         object\n",
      "POLICE DISTRICT                      float64\n",
      "LICENSE CODE                           int64\n",
      "LICENSE DESCRIPTION                   object\n",
      "LICENSE NUMBER                         int64\n",
      "APPLICATION TYPE                      object\n",
      "APPLICATION CREATED DATE              object\n",
      "APPLICATION REQUIREMENTS COMPLETE     object\n",
      "PAYMENT DATE                          object\n",
      "CONDITIONAL APPROVAL                  object\n",
      "LICENSE TERM START DATE               object\n",
      "LICENSE TERM EXPIRATION DATE          object\n",
      "LICENSE APPROVED FOR ISSUANCE         object\n",
      "DATE ISSUED                           object\n",
      "LICENSE STATUS CHANGE DATE            object\n",
      "SSA                                  float64\n",
      "LATITUDE                             float64\n",
      "LONGITUDE                            float64\n",
      "LOCATION                              object\n",
      "dtype: object\n"
     ]
    }
   ],
   "source": [
    "# Checking the data types of each column of this dataset.\n",
    "print('Data type of Train data :\\n' , Train.dtypes,'\\n\\n')\n",
    "print('Data type of Test data :\\n', Test.dtypes)"
   ]
  },
  {
   "cell_type": "code",
   "execution_count": 254,
   "id": "bc689d8a",
   "metadata": {},
   "outputs": [
    {
     "name": "stdout",
     "output_type": "stream",
     "text": [
      "Columns of Train data :\n",
      " Index(['ID', 'LICENSE ID', 'ACCOUNT NUMBER', 'SITE NUMBER', 'LEGAL NAME',\n",
      "       'DOING BUSINESS AS NAME', 'ADDRESS', 'CITY', 'STATE', 'ZIP CODE',\n",
      "       'WARD', 'PRECINCT', 'WARD PRECINCT', 'POLICE DISTRICT', 'LICENSE CODE',\n",
      "       'LICENSE DESCRIPTION', 'LICENSE NUMBER', 'APPLICATION TYPE',\n",
      "       'APPLICATION CREATED DATE', 'APPLICATION REQUIREMENTS COMPLETE',\n",
      "       'PAYMENT DATE', 'CONDITIONAL APPROVAL', 'LICENSE TERM START DATE',\n",
      "       'LICENSE TERM EXPIRATION DATE', 'LICENSE APPROVED FOR ISSUANCE',\n",
      "       'DATE ISSUED', 'LICENSE STATUS CHANGE DATE', 'SSA', 'LATITUDE',\n",
      "       'LONGITUDE', 'LOCATION', 'LICENSE STATUS'],\n",
      "      dtype='object') \n",
      "\n",
      "\n",
      "\n",
      "Columns of Test data :\n",
      " Index(['ID', 'LICENSE ID', 'ACCOUNT NUMBER', 'SITE NUMBER', 'LEGAL NAME',\n",
      "       'DOING BUSINESS AS NAME', 'ADDRESS', 'CITY', 'STATE', 'ZIP CODE',\n",
      "       'WARD', 'PRECINCT', 'WARD PRECINCT', 'POLICE DISTRICT', 'LICENSE CODE',\n",
      "       'LICENSE DESCRIPTION', 'LICENSE NUMBER', 'APPLICATION TYPE',\n",
      "       'APPLICATION CREATED DATE', 'APPLICATION REQUIREMENTS COMPLETE',\n",
      "       'PAYMENT DATE', 'CONDITIONAL APPROVAL', 'LICENSE TERM START DATE',\n",
      "       'LICENSE TERM EXPIRATION DATE', 'LICENSE APPROVED FOR ISSUANCE',\n",
      "       'DATE ISSUED', 'LICENSE STATUS CHANGE DATE', 'SSA', 'LATITUDE',\n",
      "       'LONGITUDE', 'LOCATION'],\n",
      "      dtype='object')\n"
     ]
    }
   ],
   "source": [
    "# Checking the columns of both the data.\n",
    "print('Columns of Train data :\\n' , Train.columns,'\\n\\n\\n')\n",
    "print('Columns of Test data :\\n', Test.columns)"
   ]
  },
  {
   "cell_type": "markdown",
   "id": "ee98b024",
   "metadata": {},
   "source": [
    "**Test data does not include the target variable i.e. 'LICENSE STATUS'  Column.**"
   ]
  },
  {
   "cell_type": "code",
   "execution_count": 255,
   "id": "fa67ce51",
   "metadata": {},
   "outputs": [
    {
     "name": "stdout",
     "output_type": "stream",
     "text": [
      "<class 'pandas.core.frame.DataFrame'>\n",
      "RangeIndex: 85895 entries, 0 to 85894\n",
      "Data columns (total 32 columns):\n",
      " #   Column                             Non-Null Count  Dtype  \n",
      "---  ------                             --------------  -----  \n",
      " 0   ID                                 85895 non-null  object \n",
      " 1   LICENSE ID                         85895 non-null  int64  \n",
      " 2   ACCOUNT NUMBER                     85895 non-null  int64  \n",
      " 3   SITE NUMBER                        85895 non-null  int64  \n",
      " 4   LEGAL NAME                         85895 non-null  object \n",
      " 5   DOING BUSINESS AS NAME             85894 non-null  object \n",
      " 6   ADDRESS                            85895 non-null  object \n",
      " 7   CITY                               85895 non-null  object \n",
      " 8   STATE                              85895 non-null  object \n",
      " 9   ZIP CODE                           85864 non-null  object \n",
      " 10  WARD                               36194 non-null  float64\n",
      " 11  PRECINCT                           29194 non-null  float64\n",
      " 12  WARD PRECINCT                      36195 non-null  object \n",
      " 13  POLICE DISTRICT                    31883 non-null  float64\n",
      " 14  LICENSE CODE                       85895 non-null  int64  \n",
      " 15  LICENSE DESCRIPTION                85895 non-null  object \n",
      " 16  LICENSE NUMBER                     85894 non-null  float64\n",
      " 17  APPLICATION TYPE                   85895 non-null  object \n",
      " 18  APPLICATION CREATED DATE           21235 non-null  object \n",
      " 19  APPLICATION REQUIREMENTS COMPLETE  85681 non-null  object \n",
      " 20  PAYMENT DATE                       84606 non-null  object \n",
      " 21  CONDITIONAL APPROVAL               85895 non-null  object \n",
      " 22  LICENSE TERM START DATE            85667 non-null  object \n",
      " 23  LICENSE TERM EXPIRATION DATE       85877 non-null  object \n",
      " 24  LICENSE APPROVED FOR ISSUANCE      79106 non-null  object \n",
      " 25  DATE ISSUED                        85895 non-null  object \n",
      " 26  LICENSE STATUS CHANGE DATE         30495 non-null  object \n",
      " 27  SSA                                9449 non-null   float64\n",
      " 28  LATITUDE                           38649 non-null  float64\n",
      " 29  LONGITUDE                          38649 non-null  float64\n",
      " 30  LOCATION                           38649 non-null  object \n",
      " 31  LICENSE STATUS                     85895 non-null  object \n",
      "dtypes: float64(7), int64(4), object(21)\n",
      "memory usage: 21.0+ MB\n",
      "None \n",
      "\n",
      "\n",
      "<class 'pandas.core.frame.DataFrame'>\n",
      "RangeIndex: 57239 entries, 0 to 57238\n",
      "Data columns (total 31 columns):\n",
      " #   Column                             Non-Null Count  Dtype  \n",
      "---  ------                             --------------  -----  \n",
      " 0   ID                                 57239 non-null  object \n",
      " 1   LICENSE ID                         57239 non-null  int64  \n",
      " 2   ACCOUNT NUMBER                     57239 non-null  int64  \n",
      " 3   SITE NUMBER                        57239 non-null  int64  \n",
      " 4   LEGAL NAME                         57239 non-null  object \n",
      " 5   DOING BUSINESS AS NAME             57237 non-null  object \n",
      " 6   ADDRESS                            57239 non-null  object \n",
      " 7   CITY                               57239 non-null  object \n",
      " 8   STATE                              57239 non-null  object \n",
      " 9   ZIP CODE                           57227 non-null  float64\n",
      " 10  WARD                               56613 non-null  float64\n",
      " 11  PRECINCT                           55661 non-null  float64\n",
      " 12  WARD PRECINCT                      56623 non-null  object \n",
      " 13  POLICE DISTRICT                    55764 non-null  float64\n",
      " 14  LICENSE CODE                       57239 non-null  int64  \n",
      " 15  LICENSE DESCRIPTION                57239 non-null  object \n",
      " 16  LICENSE NUMBER                     57239 non-null  int64  \n",
      " 17  APPLICATION TYPE                   57239 non-null  object \n",
      " 18  APPLICATION CREATED DATE           12652 non-null  object \n",
      " 19  APPLICATION REQUIREMENTS COMPLETE  56811 non-null  object \n",
      " 20  PAYMENT DATE                       56188 non-null  object \n",
      " 21  CONDITIONAL APPROVAL               57239 non-null  object \n",
      " 22  LICENSE TERM START DATE            57121 non-null  object \n",
      " 23  LICENSE TERM EXPIRATION DATE       57233 non-null  object \n",
      " 24  LICENSE APPROVED FOR ISSUANCE      54860 non-null  object \n",
      " 25  DATE ISSUED                        57239 non-null  object \n",
      " 26  LICENSE STATUS CHANGE DATE         33993 non-null  object \n",
      " 27  SSA                                15908 non-null  float64\n",
      " 28  LATITUDE                           56329 non-null  float64\n",
      " 29  LONGITUDE                          56329 non-null  float64\n",
      " 30  LOCATION                           56329 non-null  object \n",
      "dtypes: float64(7), int64(5), object(19)\n",
      "memory usage: 13.5+ MB\n",
      "None\n"
     ]
    }
   ],
   "source": [
    "# Information of both the data\n",
    "print( Train.info(),'\\n\\n')\n",
    "print( Test.info())"
   ]
  },
  {
   "cell_type": "code",
   "execution_count": 256,
   "id": "208a6ba6",
   "metadata": {},
   "outputs": [
    {
     "data": {
      "text/html": [
       "<div>\n",
       "<style scoped>\n",
       "    .dataframe tbody tr th:only-of-type {\n",
       "        vertical-align: middle;\n",
       "    }\n",
       "\n",
       "    .dataframe tbody tr th {\n",
       "        vertical-align: top;\n",
       "    }\n",
       "\n",
       "    .dataframe thead th {\n",
       "        text-align: right;\n",
       "    }\n",
       "</style>\n",
       "<table border=\"1\" class=\"dataframe\">\n",
       "  <thead>\n",
       "    <tr style=\"text-align: right;\">\n",
       "      <th></th>\n",
       "      <th>LICENSE ID</th>\n",
       "      <th>ACCOUNT NUMBER</th>\n",
       "      <th>SITE NUMBER</th>\n",
       "      <th>WARD</th>\n",
       "      <th>PRECINCT</th>\n",
       "      <th>POLICE DISTRICT</th>\n",
       "      <th>LICENSE CODE</th>\n",
       "      <th>LICENSE NUMBER</th>\n",
       "      <th>SSA</th>\n",
       "      <th>LATITUDE</th>\n",
       "      <th>LONGITUDE</th>\n",
       "    </tr>\n",
       "  </thead>\n",
       "  <tbody>\n",
       "    <tr>\n",
       "      <th>count</th>\n",
       "      <td>8.589500e+04</td>\n",
       "      <td>85895.000000</td>\n",
       "      <td>85895.000000</td>\n",
       "      <td>36194.000000</td>\n",
       "      <td>29194.000000</td>\n",
       "      <td>31883.000000</td>\n",
       "      <td>85895.000000</td>\n",
       "      <td>8.589400e+04</td>\n",
       "      <td>9449.000000</td>\n",
       "      <td>38649.000000</td>\n",
       "      <td>38649.000000</td>\n",
       "    </tr>\n",
       "    <tr>\n",
       "      <th>mean</th>\n",
       "      <td>1.751303e+06</td>\n",
       "      <td>196695.421701</td>\n",
       "      <td>2.556028</td>\n",
       "      <td>28.528927</td>\n",
       "      <td>54.632973</td>\n",
       "      <td>13.529812</td>\n",
       "      <td>1111.736620</td>\n",
       "      <td>1.228151e+06</td>\n",
       "      <td>29.152080</td>\n",
       "      <td>41.880952</td>\n",
       "      <td>-87.681165</td>\n",
       "    </tr>\n",
       "    <tr>\n",
       "      <th>std</th>\n",
       "      <td>3.358780e+05</td>\n",
       "      <td>126819.343760</td>\n",
       "      <td>8.655706</td>\n",
       "      <td>13.921710</td>\n",
       "      <td>163.174955</td>\n",
       "      <td>7.275874</td>\n",
       "      <td>250.020872</td>\n",
       "      <td>7.431487e+05</td>\n",
       "      <td>17.419898</td>\n",
       "      <td>0.079617</td>\n",
       "      <td>0.056248</td>\n",
       "    </tr>\n",
       "    <tr>\n",
       "      <th>min</th>\n",
       "      <td>3.079300e+04</td>\n",
       "      <td>10.000000</td>\n",
       "      <td>1.000000</td>\n",
       "      <td>1.000000</td>\n",
       "      <td>1.000000</td>\n",
       "      <td>1.000000</td>\n",
       "      <td>1002.000000</td>\n",
       "      <td>1.290000e+02</td>\n",
       "      <td>1.000000</td>\n",
       "      <td>41.644694</td>\n",
       "      <td>-87.915285</td>\n",
       "    </tr>\n",
       "    <tr>\n",
       "      <th>25%</th>\n",
       "      <td>1.469024e+06</td>\n",
       "      <td>54615.000000</td>\n",
       "      <td>1.000000</td>\n",
       "      <td>17.000000</td>\n",
       "      <td>12.000000</td>\n",
       "      <td>8.000000</td>\n",
       "      <td>1010.000000</td>\n",
       "      <td>8.710900e+04</td>\n",
       "      <td>17.000000</td>\n",
       "      <td>41.834312</td>\n",
       "      <td>-87.719150</td>\n",
       "    </tr>\n",
       "    <tr>\n",
       "      <th>50%</th>\n",
       "      <td>1.778754e+06</td>\n",
       "      <td>248313.000000</td>\n",
       "      <td>1.000000</td>\n",
       "      <td>30.000000</td>\n",
       "      <td>26.000000</td>\n",
       "      <td>14.000000</td>\n",
       "      <td>1010.000000</td>\n",
       "      <td>1.442202e+06</td>\n",
       "      <td>28.000000</td>\n",
       "      <td>41.892679</td>\n",
       "      <td>-87.673321</td>\n",
       "    </tr>\n",
       "    <tr>\n",
       "      <th>75%</th>\n",
       "      <td>2.067578e+06</td>\n",
       "      <td>300243.500000</td>\n",
       "      <td>2.000000</td>\n",
       "      <td>42.000000</td>\n",
       "      <td>41.000000</td>\n",
       "      <td>19.000000</td>\n",
       "      <td>1011.000000</td>\n",
       "      <td>1.816581e+06</td>\n",
       "      <td>40.000000</td>\n",
       "      <td>41.938624</td>\n",
       "      <td>-87.639509</td>\n",
       "    </tr>\n",
       "    <tr>\n",
       "      <th>max</th>\n",
       "      <td>2.456551e+06</td>\n",
       "      <td>397444.000000</td>\n",
       "      <td>417.000000</td>\n",
       "      <td>50.000000</td>\n",
       "      <td>999.000000</td>\n",
       "      <td>181.000000</td>\n",
       "      <td>8340.000000</td>\n",
       "      <td>2.391410e+06</td>\n",
       "      <td>69.000000</td>\n",
       "      <td>42.022660</td>\n",
       "      <td>-87.525872</td>\n",
       "    </tr>\n",
       "  </tbody>\n",
       "</table>\n",
       "</div>"
      ],
      "text/plain": [
       "         LICENSE ID  ACCOUNT NUMBER   SITE NUMBER          WARD      PRECINCT  \\\n",
       "count  8.589500e+04    85895.000000  85895.000000  36194.000000  29194.000000   \n",
       "mean   1.751303e+06   196695.421701      2.556028     28.528927     54.632973   \n",
       "std    3.358780e+05   126819.343760      8.655706     13.921710    163.174955   \n",
       "min    3.079300e+04       10.000000      1.000000      1.000000      1.000000   \n",
       "25%    1.469024e+06    54615.000000      1.000000     17.000000     12.000000   \n",
       "50%    1.778754e+06   248313.000000      1.000000     30.000000     26.000000   \n",
       "75%    2.067578e+06   300243.500000      2.000000     42.000000     41.000000   \n",
       "max    2.456551e+06   397444.000000    417.000000     50.000000    999.000000   \n",
       "\n",
       "       POLICE DISTRICT  LICENSE CODE  LICENSE NUMBER          SSA  \\\n",
       "count     31883.000000  85895.000000    8.589400e+04  9449.000000   \n",
       "mean         13.529812   1111.736620    1.228151e+06    29.152080   \n",
       "std           7.275874    250.020872    7.431487e+05    17.419898   \n",
       "min           1.000000   1002.000000    1.290000e+02     1.000000   \n",
       "25%           8.000000   1010.000000    8.710900e+04    17.000000   \n",
       "50%          14.000000   1010.000000    1.442202e+06    28.000000   \n",
       "75%          19.000000   1011.000000    1.816581e+06    40.000000   \n",
       "max         181.000000   8340.000000    2.391410e+06    69.000000   \n",
       "\n",
       "           LATITUDE     LONGITUDE  \n",
       "count  38649.000000  38649.000000  \n",
       "mean      41.880952    -87.681165  \n",
       "std        0.079617      0.056248  \n",
       "min       41.644694    -87.915285  \n",
       "25%       41.834312    -87.719150  \n",
       "50%       41.892679    -87.673321  \n",
       "75%       41.938624    -87.639509  \n",
       "max       42.022660    -87.525872  "
      ]
     },
     "execution_count": 256,
     "metadata": {},
     "output_type": "execute_result"
    }
   ],
   "source": [
    "# Describe both data\n",
    "Train.describe()"
   ]
  },
  {
   "cell_type": "code",
   "execution_count": 257,
   "id": "a8a99597",
   "metadata": {},
   "outputs": [
    {
     "data": {
      "text/html": [
       "<div>\n",
       "<style scoped>\n",
       "    .dataframe tbody tr th:only-of-type {\n",
       "        vertical-align: middle;\n",
       "    }\n",
       "\n",
       "    .dataframe tbody tr th {\n",
       "        vertical-align: top;\n",
       "    }\n",
       "\n",
       "    .dataframe thead th {\n",
       "        text-align: right;\n",
       "    }\n",
       "</style>\n",
       "<table border=\"1\" class=\"dataframe\">\n",
       "  <thead>\n",
       "    <tr style=\"text-align: right;\">\n",
       "      <th></th>\n",
       "      <th>LICENSE ID</th>\n",
       "      <th>ACCOUNT NUMBER</th>\n",
       "      <th>SITE NUMBER</th>\n",
       "      <th>ZIP CODE</th>\n",
       "      <th>WARD</th>\n",
       "      <th>PRECINCT</th>\n",
       "      <th>POLICE DISTRICT</th>\n",
       "      <th>LICENSE CODE</th>\n",
       "      <th>LICENSE NUMBER</th>\n",
       "      <th>SSA</th>\n",
       "      <th>LATITUDE</th>\n",
       "      <th>LONGITUDE</th>\n",
       "    </tr>\n",
       "  </thead>\n",
       "  <tbody>\n",
       "    <tr>\n",
       "      <th>count</th>\n",
       "      <td>5.723900e+04</td>\n",
       "      <td>57239.000000</td>\n",
       "      <td>57239.000000</td>\n",
       "      <td>57227.000000</td>\n",
       "      <td>56613.000000</td>\n",
       "      <td>55661.000000</td>\n",
       "      <td>55764.00000</td>\n",
       "      <td>57239.000000</td>\n",
       "      <td>5.723900e+04</td>\n",
       "      <td>15908.000000</td>\n",
       "      <td>56329.000000</td>\n",
       "      <td>56329.000000</td>\n",
       "    </tr>\n",
       "    <tr>\n",
       "      <th>mean</th>\n",
       "      <td>1.867003e+06</td>\n",
       "      <td>187884.083719</td>\n",
       "      <td>4.518685</td>\n",
       "      <td>60580.682982</td>\n",
       "      <td>28.072987</td>\n",
       "      <td>27.203105</td>\n",
       "      <td>13.16369</td>\n",
       "      <td>1243.865197</td>\n",
       "      <td>1.208141e+06</td>\n",
       "      <td>29.852653</td>\n",
       "      <td>41.879834</td>\n",
       "      <td>-87.678037</td>\n",
       "    </tr>\n",
       "    <tr>\n",
       "      <th>std</th>\n",
       "      <td>3.788378e+05</td>\n",
       "      <td>139139.743948</td>\n",
       "      <td>19.860738</td>\n",
       "      <td>2088.082252</td>\n",
       "      <td>14.587923</td>\n",
       "      <td>20.639461</td>\n",
       "      <td>7.11839</td>\n",
       "      <td>683.092249</td>\n",
       "      <td>8.530084e+05</td>\n",
       "      <td>17.447423</td>\n",
       "      <td>0.078721</td>\n",
       "      <td>0.055403</td>\n",
       "    </tr>\n",
       "    <tr>\n",
       "      <th>min</th>\n",
       "      <td>9.803000e+03</td>\n",
       "      <td>10.000000</td>\n",
       "      <td>1.000000</td>\n",
       "      <td>1830.000000</td>\n",
       "      <td>1.000000</td>\n",
       "      <td>1.000000</td>\n",
       "      <td>0.00000</td>\n",
       "      <td>1002.000000</td>\n",
       "      <td>4.300000e+01</td>\n",
       "      <td>1.000000</td>\n",
       "      <td>41.644712</td>\n",
       "      <td>-87.933976</td>\n",
       "    </tr>\n",
       "    <tr>\n",
       "      <th>25%</th>\n",
       "      <td>1.553288e+06</td>\n",
       "      <td>41316.000000</td>\n",
       "      <td>1.000000</td>\n",
       "      <td>60612.000000</td>\n",
       "      <td>16.000000</td>\n",
       "      <td>12.000000</td>\n",
       "      <td>8.00000</td>\n",
       "      <td>1010.000000</td>\n",
       "      <td>6.149350e+04</td>\n",
       "      <td>17.000000</td>\n",
       "      <td>41.834519</td>\n",
       "      <td>-87.713276</td>\n",
       "    </tr>\n",
       "    <tr>\n",
       "      <th>50%</th>\n",
       "      <td>1.912282e+06</td>\n",
       "      <td>222091.000000</td>\n",
       "      <td>1.000000</td>\n",
       "      <td>60624.000000</td>\n",
       "      <td>30.000000</td>\n",
       "      <td>26.000000</td>\n",
       "      <td>14.00000</td>\n",
       "      <td>1010.000000</td>\n",
       "      <td>1.473632e+06</td>\n",
       "      <td>29.000000</td>\n",
       "      <td>41.891538</td>\n",
       "      <td>-87.669686</td>\n",
       "    </tr>\n",
       "    <tr>\n",
       "      <th>75%</th>\n",
       "      <td>2.137864e+06</td>\n",
       "      <td>312884.000000</td>\n",
       "      <td>2.000000</td>\n",
       "      <td>60641.000000</td>\n",
       "      <td>42.000000</td>\n",
       "      <td>41.000000</td>\n",
       "      <td>18.00000</td>\n",
       "      <td>1275.000000</td>\n",
       "      <td>1.928348e+06</td>\n",
       "      <td>43.000000</td>\n",
       "      <td>41.938297</td>\n",
       "      <td>-87.635921</td>\n",
       "    </tr>\n",
       "    <tr>\n",
       "      <th>max</th>\n",
       "      <td>2.615886e+06</td>\n",
       "      <td>429413.000000</td>\n",
       "      <td>507.000000</td>\n",
       "      <td>98003.000000</td>\n",
       "      <td>50.000000</td>\n",
       "      <td>999.000000</td>\n",
       "      <td>25.00000</td>\n",
       "      <td>8344.000000</td>\n",
       "      <td>2.615886e+06</td>\n",
       "      <td>69.000000</td>\n",
       "      <td>42.022630</td>\n",
       "      <td>-87.525872</td>\n",
       "    </tr>\n",
       "  </tbody>\n",
       "</table>\n",
       "</div>"
      ],
      "text/plain": [
       "         LICENSE ID  ACCOUNT NUMBER   SITE NUMBER      ZIP CODE          WARD  \\\n",
       "count  5.723900e+04    57239.000000  57239.000000  57227.000000  56613.000000   \n",
       "mean   1.867003e+06   187884.083719      4.518685  60580.682982     28.072987   \n",
       "std    3.788378e+05   139139.743948     19.860738   2088.082252     14.587923   \n",
       "min    9.803000e+03       10.000000      1.000000   1830.000000      1.000000   \n",
       "25%    1.553288e+06    41316.000000      1.000000  60612.000000     16.000000   \n",
       "50%    1.912282e+06   222091.000000      1.000000  60624.000000     30.000000   \n",
       "75%    2.137864e+06   312884.000000      2.000000  60641.000000     42.000000   \n",
       "max    2.615886e+06   429413.000000    507.000000  98003.000000     50.000000   \n",
       "\n",
       "           PRECINCT  POLICE DISTRICT  LICENSE CODE  LICENSE NUMBER  \\\n",
       "count  55661.000000      55764.00000  57239.000000    5.723900e+04   \n",
       "mean      27.203105         13.16369   1243.865197    1.208141e+06   \n",
       "std       20.639461          7.11839    683.092249    8.530084e+05   \n",
       "min        1.000000          0.00000   1002.000000    4.300000e+01   \n",
       "25%       12.000000          8.00000   1010.000000    6.149350e+04   \n",
       "50%       26.000000         14.00000   1010.000000    1.473632e+06   \n",
       "75%       41.000000         18.00000   1275.000000    1.928348e+06   \n",
       "max      999.000000         25.00000   8344.000000    2.615886e+06   \n",
       "\n",
       "                SSA      LATITUDE     LONGITUDE  \n",
       "count  15908.000000  56329.000000  56329.000000  \n",
       "mean      29.852653     41.879834    -87.678037  \n",
       "std       17.447423      0.078721      0.055403  \n",
       "min        1.000000     41.644712    -87.933976  \n",
       "25%       17.000000     41.834519    -87.713276  \n",
       "50%       29.000000     41.891538    -87.669686  \n",
       "75%       43.000000     41.938297    -87.635921  \n",
       "max       69.000000     42.022630    -87.525872  "
      ]
     },
     "execution_count": 257,
     "metadata": {},
     "output_type": "execute_result"
    }
   ],
   "source": [
    "Test.describe()"
   ]
  },
  {
   "cell_type": "code",
   "execution_count": 258,
   "id": "337d3180",
   "metadata": {},
   "outputs": [
    {
     "name": "stdout",
     "output_type": "stream",
     "text": [
      "Unique value of = ID [[85895]]\n",
      "['35342-20020816' '1358463-20051116' '1980233-20090722' ...\n",
      " '74137-20090116' '2049545-20111016' '1070196-20040216']\n",
      "\n",
      "Unique value of = LICENSE ID [[85895]]\n",
      "[1256593 1639294 1980233 ... 1939358 2110060 1461628]\n",
      "\n",
      "Unique value of = ACCOUNT NUMBER [[38897]]\n",
      "[ 32811 262311 345008 ... 354402  64945 361777]\n",
      "\n",
      "Unique value of = SITE NUMBER [[177]]\n",
      "[  1  29   2   3   5  19  30  14  42  12  35  21  94  13   4  22  10   6\n",
      "  25 171  70   8   7  15   9  34  31  16  78  18  75  88 111  63  20  37\n",
      "  36  38  11  27  66  89  33  79  48  62  23  73  26  77 112  64  17  80\n",
      "  44 139  50  54  92  43  53 127  28 123 108  46  95  24 145  76  86  82\n",
      "  49 116  67 105  40  65  69  97  32  52 119  83 122  45 215  41  93  99\n",
      "  58  56  60 140  91 181 103  68 129  39 188  59  51 237  96  47 101  55\n",
      "  74 126 121  57  85  72  90  61 146  81 114 183 120 307 144  87  71 117\n",
      " 160 125 159  84 118 187 100 147 158 153 107 163 133 136 128 134 113 151\n",
      " 115 135 102 138 148 166 130 164 106 137  98 150 173 110 172 124 109 131\n",
      " 157 149 141 242 142 104 170 174 132 168 185 165 417 161 152]\n",
      "\n",
      "Unique value of = LEGAL NAME [[38744]]\n",
      "['CARMEN CAHUE' 'ISLA TROPICAL, INC.' 'DJS REMODELING' ...\n",
      " 'TRIPLE AAA WIRELESS, INC.' 'WOJCIECH GRANAT' 'JOSEPH M MINICK']\n",
      "\n",
      "Unique value of = DOING BUSINESS AS NAME [[41687]]\n",
      "[\"CLAUDIA'S BRIDAL SHOP\" 'ISLA TROPICAL' 'DJS REMODELING, INC.' ...\n",
      " 'QUICKCOM' 'ALBERT ELECTRIC CO' 'REBEL MEDIA']\n",
      "\n",
      "Unique value of = ADDRESS [[42146]]\n",
      "['2625 S CENTRAL PARK AVE  1' '2825 W MONTROSE AVE' '1605  CLAVEY RD 1'\n",
      " ... '6522 W 107 ST 1ST' '5630 N SHERIDAN RD  505' '8707  VANGUARD DR']\n",
      "\n",
      "Unique value of = CITY [[1223]]\n",
      "['CHICAGO' 'HIGHLAND' 'LEMONT' ... 'ABERDEEN' 'PENSACOLA' 'MACHESNEY PARK']\n",
      "\n",
      "Unique value of = STATE [[54]]\n",
      "['IL' 'IN' 'MS' 'NY' 'PA' 'MO' 'WI' 'GA' 'MI' 'TX' 'FL' 'MD' 'IA' 'TN'\n",
      " 'AZ' 'CT' 'NJ' 'CO' 'CA' 'NC' 'MN' 'KS' 'NV' 'SD' 'VA' 'MA' 'DC' 'NE'\n",
      " 'OH' 'SC' 'DE' 'LA' 'UT' 'AL' 'WA' 'VT' 'AR' 'ON' 'MT' 'HI' 'RI' 'OR'\n",
      " 'NM' 'KY' 'OK' 'QC' 'NH' 'ID' 'AK' 'CN' 'WV' 'ME' 'GB' 'WY']\n",
      "\n",
      "Unique value of = ZIP CODE [[2173]]\n",
      "['60623' '60618' '60035' ... 60511.0 30076.0 61115.0]\n",
      "\n",
      "Unique value of = WARD [[51]]\n",
      "[22. 33. nan 25. 35.  2. 18. 17. 45. 39. 42. 30. 34. 43. 49. 10. 32.  1.\n",
      " 31. 27. 20. 11. 40. 12.  7.  6. 28. 44. 48. 29. 37. 46. 47.  3. 38. 14.\n",
      " 13. 16.  5. 15. 21.  8. 36.  4. 23. 26. 41. 24. 50. 19.  9.]\n",
      "\n",
      "Unique value of = PRECINCT [[77]]\n",
      "[ 28.  23.  nan   6. 999.  37.  17.  21.  60.   4.  11.  68.   9.  33.\n",
      "  27.   1.  43.  44.   7.  18.  49.  30.  25.  57.  69.  29.  56.  45.\n",
      "  26.  31.  35.  19.  12.  13.  40.  15.  55.   5.  34.  14.  16.  39.\n",
      "  62.  53.  32.  36.  38.  20.  10.   8.  50.  41.  71.  63.  47.  24.\n",
      "  52.  48.  46.   3.   2.  61.  22.  51.  42.  58.  59.  54.  73.  66.\n",
      "  67.  65.  76.  72.  64.  74.  70.]\n",
      "\n",
      "Unique value of = WARD PRECINCT [[2383]]\n",
      "['22-28' '33-23' nan ... '42-57' '37-9' '17-37']\n",
      "\n",
      "Unique value of = POLICE DISTRICT [[29]]\n",
      "[ 10.  17.  nan  12.  25.  18.   8.  16.   1.  24.   4.  14.   9.  19.\n",
      "  20.   3.   7.  15.   2.   6.  22.  11.   5. 161.  23.  13.  21. 181.\n",
      "  81.]\n",
      "\n",
      "Unique value of = LICENSE CODE [[106]]\n",
      "[1010 1315 1011 1569 1059 1008 1006 1046 1012 1603 1472 1605 1604 1013\n",
      " 1525 1054 1060 1133 1020 1061 1275 2101 1676 1842 1470 1316 1606 1607\n",
      " 1064 1474 1568 1014 1475 1477 1431 1009 1784 1782 1456 1571 1053 1374\n",
      " 1570 1524 8100 1584 1572 1481 1932 1004 1062 1585 1586 1930 1372 1005\n",
      " 1840 1800 1007 1625 1371 1608 1050 1690 1900 1479 1055 1016 1002 1786\n",
      " 1070 1573 1684 1370 1375 1471 1049 1931 4401 1030 1063 1255 1480 1688\n",
      " 1841 1483 1505 1685 1056 1039 1609 1587 1594 1682 1253 1783 1482 4404\n",
      " 1478 1058 1550 1833 1032 1686 1473 8340]\n",
      "\n",
      "Unique value of = LICENSE DESCRIPTION [[106]]\n",
      "['Limited Business License' 'Mobile Food Dispenser' 'Home Repair'\n",
      " 'Motor Vehicle Repair : Engine Only (Class II)' 'Kennels and Catteries'\n",
      " 'Hazardous Materials' 'Retail Food Establishment'\n",
      " 'Automatic Amusement Device Operator' 'Home Occupation'\n",
      " 'Peddler, food (fruits and vegtables only)' 'Music and Dance'\n",
      " 'Street Performer' 'Peddler, non-food' 'Body Piercing'\n",
      " 'Massage Therapist' 'Veterinary Hospital' 'Auctioneer' 'Broker'\n",
      " 'Residential Real Estate Developer' 'Electronic Equipment Repair'\n",
      " 'Filling Station' 'Valet Parking Operator' 'Scavenger, Private'\n",
      " 'Repossessor Class B Employee' 'Tavern'\n",
      " 'Mobile Frozen Desserts Dispenser - Non-Motorized'\n",
      " 'Peddler,food - (fruits and vegetables only) - special'\n",
      " 'Peddler, non-food, special' 'Grooming Facility' 'Package Goods'\n",
      " 'Motor Vehicle Repair; Specialty(Class I)' 'Retail Computing Center'\n",
      " 'Consumption on Premises - Incidental Activity' 'Outdoor Patio'\n",
      " 'Junk Peddler' 'Manufacturing Establishments' 'Tobacco Dealer Wholesale'\n",
      " 'Tobacco Vending, Individual' 'Laundry, Late Hour'\n",
      " 'Tire Facilty Class I (100 - 1,000 Tires)' 'Pet Shop'\n",
      " 'Bed-And-Breakfast Establishment'\n",
      " 'Motor Vehicle Repair: Engine/Body(Class III)' 'Massage Establishment'\n",
      " 'Animal Exhibition' 'Day Care Center 2 - 6 Years'\n",
      " 'Tire Facility Class II (1,001 - 5,000 Tires)' \"Caterer's Liquor License\"\n",
      " 'Expediter - Class B Employee' 'Laboratories' 'Animal Care Facility'\n",
      " 'Day Care Center Under 2 Years' 'Day Care Center Under 2 and 2 - 6 Years'\n",
      " 'Expediter - Class A' 'Single Room Occupancy Class II'\n",
      " 'Long-Term Care Facility' 'Repossessor Class A' 'Board-Up Work'\n",
      " 'Wholesale Food Establishment' 'Raffles' 'Single Room Occupancy Class I'\n",
      " 'Vacation Rental' 'Public Place of Amusement'\n",
      " \"Children's Activities Facilities\" 'Day Labor Agency'\n",
      " 'Navy Pier - Outdoor Fixed' 'Humane Society'\n",
      " 'Retail Food Est.-Supplemental License for Dog-Friendly Areas'\n",
      " 'Accessory Garage' 'Tobacco Vending Machine Operator' 'Affiliation'\n",
      " 'Tire Facility Class III (5,001 - More Tires)'\n",
      " 'Itinerant Merchant, Class I' 'Hotel' 'Hospital' 'Late Hour'\n",
      " 'Public Place of Amusement-TCC' 'Expediter - Class B' 'Produce Merchant'\n",
      " 'Navy Pier Vendor (Non-Food)' 'Guard Dog Service'\n",
      " 'Explosives, Certificate of Fitness' 'Wrigley Field'\n",
      " \"Airport Pushcart Liquor O'Hare - Class A\" 'Repossessor Class B'\n",
      " 'Riverwalk Venue Liquor License'\n",
      " 'Assisted Living/Shared Housing Establishment'\n",
      " 'Itinerant Merchant, Class II' 'Performing Arts Venue'\n",
      " 'Bicycle Messenger Service' 'Secondhand Dealer (No Valuable Objects)'\n",
      " 'Night Care Privilege' 'Pawnbroker'\n",
      " \"Secondhand Dealer - Children's Products\" 'Explosives' 'Tobacco Sampler'\n",
      " \"Caterer's Registration (Liquor)\" 'Regulated Business License'\n",
      " 'Navy Pier - Mobile' 'Indoor Special Event' 'Private Booting Operation'\n",
      " 'Weapons Dealer' 'Animal Care License'\n",
      " 'Airport Pushcart Liquor Midway - Class A' 'Not-For-Profit Club'\n",
      " 'Motor Vehicle Services License']\n",
      "\n",
      "Unique value of = LICENSE NUMBER [[49769]]\n",
      "[  35342. 1358463. 1980233. ...   12652. 1821421. 1070196.]\n",
      "\n",
      "Unique value of = APPLICATION TYPE [[5]]\n",
      "['RENEW' 'ISSUE' 'C_LOC' 'C_EXPA' 'C_CAPA']\n",
      "\n",
      "Unique value of = APPLICATION CREATED DATE [[2900]]\n",
      "[nan '2009-06-29T00:00:00' '2004-02-10T00:00:00' ... '2001-03-09T00:00:00'\n",
      " '2001-09-04T00:00:00' '2000-11-06T00:00:00']\n",
      "\n",
      "Unique value of = APPLICATION REQUIREMENTS COMPLETE [[3079]]\n",
      "['2002-06-28T00:00:00' '2005-09-22T00:00:00' '2009-07-22T00:00:00' ...\n",
      " '2011-12-11T00:00:00' '2000-11-06T00:00:00' '2001-11-08T00:00:00']\n",
      "\n",
      "Unique value of = PAYMENT DATE [[4357]]\n",
      "['2002-08-21T00:00:00' '2005-11-03T00:00:00' '2009-07-22T00:00:00' ...\n",
      " '2001-03-13T00:00:00' '2015-08-13T00:00:00' '2013-01-25T00:00:00']\n",
      "\n",
      "Unique value of = CONDITIONAL APPROVAL [[2]]\n",
      "['N' 'Y']\n",
      "\n",
      "Unique value of = LICENSE TERM START DATE [[2826]]\n",
      "['2002-08-16T00:00:00' '2005-11-16T00:00:00' '2009-07-22T00:00:00' ...\n",
      " '2004-11-08T00:00:00' '2002-08-22T00:00:00' '2013-05-03T00:00:00']\n",
      "\n",
      "Unique value of = LICENSE TERM EXPIRATION DATE [[298]]\n",
      "['2003-08-15T00:00:00' '2006-11-15T00:00:00' '2011-07-15T00:00:00'\n",
      " '2005-02-15T00:00:00' '2010-05-15T00:00:00' '2013-12-15T00:00:00'\n",
      " '2004-08-15T00:00:00' '2003-02-15T00:00:00' '2002-08-15T00:00:00'\n",
      " '2008-04-15T00:00:00' '2007-05-15T00:00:00' '2008-08-15T00:00:00'\n",
      " '2013-11-15T00:00:00' '2014-02-15T00:00:00' '2009-02-15T00:00:00'\n",
      " '2006-02-15T00:00:00' '2007-02-15T00:00:00' '2011-03-15T00:00:00'\n",
      " '2009-11-15T00:00:00' '2010-01-15T00:00:00' '2005-11-15T00:00:00'\n",
      " '2012-07-15T00:00:00' '2002-11-15T00:00:00' '2010-03-15T00:00:00'\n",
      " '2011-04-15T00:00:00' '2015-09-15T00:00:00' '2009-04-15T00:00:00'\n",
      " '2012-10-15T00:00:00' '2012-09-15T00:00:00' '2013-08-15T00:00:00'\n",
      " '2018-02-15T00:00:00' '2006-08-15T00:00:00' '2014-12-15T00:00:00'\n",
      " '2007-11-15T00:00:00' '2004-02-15T00:00:00' '2012-08-15T00:00:00'\n",
      " '2015-01-15T00:00:00' '2014-08-15T00:00:00' '2008-11-15T00:00:00'\n",
      " '2009-03-15T00:00:00' '2016-04-15T00:00:00' '2004-11-15T00:00:00'\n",
      " '2013-04-15T00:00:00' '2008-05-15T00:00:00' '2014-10-15T00:00:00'\n",
      " '2014-11-15T00:00:00' '2014-04-15T00:00:00' '2014-01-15T00:00:00'\n",
      " '2015-06-15T00:00:00' '2014-03-15T00:00:00' '2012-02-15T00:00:00'\n",
      " '2010-04-15T00:00:00' '2009-09-15T00:00:00' '2010-09-15T00:00:00'\n",
      " '2016-03-15T00:00:00' '2013-05-15T00:00:00' '2017-02-15T00:00:00'\n",
      " '2011-02-15T00:00:00' '2012-06-30T00:00:00' '2009-07-15T00:00:00'\n",
      " '2001-02-15T00:00:00' '2011-01-15T00:00:00' '2003-11-15T00:00:00'\n",
      " '2017-05-15T00:00:00' '2013-09-15T00:00:00' '2012-05-15T00:00:00'\n",
      " '2008-03-15T00:00:00' nan '2015-05-15T00:00:00' '2012-04-15T00:00:00'\n",
      " '2013-03-15T00:00:00' '2013-07-15T00:00:00' '2014-07-15T00:00:00'\n",
      " '2013-10-15T00:00:00' '2011-05-15T00:00:00' '2015-12-15T00:00:00'\n",
      " '2009-12-15T00:00:00' '2015-04-15T00:00:00' '2010-02-15T00:00:00'\n",
      " '2018-04-15T00:00:00' '2009-06-15T00:00:00' '2010-08-15T00:00:00'\n",
      " '2007-08-15T00:00:00' '2013-06-15T00:00:00' '2013-01-15T00:00:00'\n",
      " '2014-06-15T00:00:00' '2009-05-15T00:00:00' '2004-05-15T00:00:00'\n",
      " '2009-08-15T00:00:00' '2012-11-15T00:00:00' '2005-08-15T00:00:00'\n",
      " '2010-07-15T00:00:00' '2005-05-15T00:00:00' '2012-03-15T00:00:00'\n",
      " '2012-06-15T00:00:00' '2009-01-15T00:00:00' '2008-01-15T00:00:00'\n",
      " '2010-11-15T00:00:00' '2010-06-15T00:00:00' '2014-05-15T00:00:00'\n",
      " '2012-12-15T00:00:00' '2013-02-15T00:00:00' '2006-05-15T00:00:00'\n",
      " '2007-12-15T00:00:00' '2011-08-15T00:00:00' '2003-05-15T00:00:00'\n",
      " '2011-06-15T00:00:00' '2018-03-15T00:00:00' '2011-09-15T00:00:00'\n",
      " '2012-01-15T00:00:00' '2011-11-15T00:00:00' '2009-10-15T00:00:00'\n",
      " '2011-10-15T00:00:00' '2016-02-15T00:00:00' '2002-02-15T00:00:00'\n",
      " '2007-10-15T00:00:00' '2016-09-15T00:00:00' '2016-05-15T00:00:00'\n",
      " '2008-10-15T00:00:00' '2015-02-15T00:00:00' '2008-07-15T00:00:00'\n",
      " '2008-02-15T00:00:00' '2014-09-15T00:00:00' '2017-06-15T00:00:00'\n",
      " '2015-03-15T00:00:00' '2016-01-15T00:00:00' '2002-05-15T00:00:00'\n",
      " '2017-08-15T00:00:00' '2008-09-15T00:00:00' '2010-12-15T00:00:00'\n",
      " '2017-10-15T00:00:00' '2008-12-15T00:00:00' '2008-06-15T00:00:00'\n",
      " '2010-10-15T00:00:00' '2011-12-15T00:00:00' '2017-01-15T00:00:00'\n",
      " '2018-01-15T00:00:00' '2015-10-15T00:00:00' '2016-11-15T00:00:00'\n",
      " '2017-03-15T00:00:00' '2016-12-15T00:00:00' '2016-06-15T00:00:00'\n",
      " '2001-08-15T00:00:00' '2015-11-15T00:00:00' '2017-09-15T00:00:00'\n",
      " '2017-04-15T00:00:00' '2007-03-15T00:00:00' '1997-02-15T00:00:00'\n",
      " '2017-11-15T00:00:00' '2012-11-30T00:00:00' '2008-05-25T00:00:00'\n",
      " '2007-09-15T00:00:00' '2015-08-15T00:00:00' '2016-08-15T00:00:00'\n",
      " '2013-04-30T00:00:00' '2001-02-20T00:00:00' '2018-05-15T00:00:00'\n",
      " '2015-07-15T00:00:00' '2016-10-15T00:00:00' '2000-08-15T00:00:00'\n",
      " '2016-07-15T00:00:00' '2007-07-15T00:00:00' '2017-12-15T00:00:00'\n",
      " '2000-02-15T00:00:00' '2005-11-10T00:00:00' '2002-04-02T00:00:00'\n",
      " '2017-07-15T00:00:00' '1998-02-15T00:00:00' '2001-01-08T00:00:00'\n",
      " '2001-11-01T00:00:00' '2001-01-30T00:00:00' '2002-02-27T00:00:00'\n",
      " '2011-07-30T00:00:00' '2000-11-15T00:00:00' '2010-05-08T00:00:00'\n",
      " '2001-11-15T00:00:00' '2009-12-20T00:00:00' '2007-12-28T00:00:00'\n",
      " '1999-02-15T00:00:00' '2001-09-25T00:00:00' '2011-08-31T00:00:00'\n",
      " '2011-04-09T00:00:00' '2001-02-01T00:00:00' '2000-12-28T00:00:00'\n",
      " '2002-03-01T00:00:00' '2008-12-25T00:00:00' '2009-07-25T00:00:00'\n",
      " '2003-11-10T00:00:00' '1997-08-15T00:00:00' '2001-01-05T00:00:00'\n",
      " '1998-11-15T00:00:00' '2004-11-10T00:00:00' '2002-03-28T00:00:00'\n",
      " '2007-12-07T00:00:00' '2001-01-31T00:00:00' '2002-03-19T00:00:00'\n",
      " '2011-04-30T00:00:00' '2002-04-10T00:00:00' '2007-06-15T00:00:00'\n",
      " '2001-08-17T00:00:00' '2001-08-10T00:00:00' '2000-05-15T00:00:00'\n",
      " '2007-07-01T00:00:00' '2001-03-02T00:00:00' '2001-08-06T00:00:00'\n",
      " '2008-07-11T00:00:00' '2001-11-14T00:00:00' '2001-04-16T00:00:00'\n",
      " '1998-08-15T00:00:00' '2001-01-26T00:00:00' '2002-03-11T00:00:00'\n",
      " '1995-08-15T00:00:00' '2002-02-26T00:00:00' '2001-05-15T00:00:00'\n",
      " '2001-09-10T00:00:00' '2001-08-01T00:00:00' '1999-05-15T00:00:00'\n",
      " '2007-06-09T00:00:00' '2002-03-29T00:00:00' '2012-10-31T00:00:00'\n",
      " '2002-02-01T00:00:00' '2011-08-07T00:00:00' '2002-04-09T00:00:00'\n",
      " '2010-10-17T00:00:00' '2002-04-04T00:00:00' '2002-03-15T00:00:00'\n",
      " '2001-08-20T00:00:00' '2001-09-06T00:00:00' '2012-04-30T00:00:00'\n",
      " '2001-08-28T00:00:00' '2010-06-20T00:00:00' '2001-01-22T00:00:00'\n",
      " '2008-01-27T00:00:00' '2001-10-04T00:00:00' '2002-02-06T00:00:00'\n",
      " '2007-04-15T00:00:00' '2012-11-10T00:00:00' '2001-05-23T00:00:00'\n",
      " '2000-11-21T00:00:00' '2000-10-20T00:00:00' '2002-02-07T00:00:00'\n",
      " '2001-03-16T00:00:00' '2007-08-05T00:00:00' '2007-05-06T00:00:00'\n",
      " '2009-06-07T00:00:00' '2011-10-31T00:00:00' '2000-09-26T00:00:00'\n",
      " '2007-09-02T00:00:00' '2008-12-03T00:00:00' '2002-03-25T00:00:00'\n",
      " '2000-11-13T00:00:00' '1996-08-15T00:00:00' '2001-02-07T00:00:00'\n",
      " '2009-05-31T00:00:00' '2010-08-31T00:00:00' '2012-09-03T00:00:00'\n",
      " '2001-04-17T00:00:00' '2001-08-14T00:00:00' '2001-02-16T00:00:00'\n",
      " '2000-10-25T00:00:00' '2010-07-25T00:00:00' '1996-11-15T00:00:00'\n",
      " '2001-05-16T00:00:00' '2011-08-14T00:00:00' '2008-11-10T00:00:00'\n",
      " '2007-05-05T00:00:00' '2011-10-09T00:00:00' '2002-03-08T00:00:00'\n",
      " '2002-03-05T00:00:00' '2001-05-30T00:00:00' '2000-09-15T00:00:00'\n",
      " '2012-08-31T00:00:00' '2001-11-21T00:00:00' '2001-11-16T00:00:00'\n",
      " '2008-07-27T00:00:00' '2008-08-10T00:00:00' '2000-12-04T00:00:00'\n",
      " '2009-07-26T00:00:00' '2001-08-27T00:00:00' '2002-03-22T00:00:00'\n",
      " '2010-07-24T00:00:00' '2002-02-20T00:00:00' '2001-01-23T00:00:00'\n",
      " '2002-02-05T00:00:00' '2001-05-02T00:00:00' '1996-02-15T00:00:00'\n",
      " '2011-08-04T00:00:00' '2011-09-16T00:00:00' '2007-10-20T00:00:00'\n",
      " '2007-12-14T00:00:00' '2000-12-01T00:00:00' '2001-01-29T00:00:00'\n",
      " '2002-10-15T00:00:00' '2001-07-03T00:00:00' '2010-05-09T00:00:00'\n",
      " '1901-01-01T00:00:00' '2001-07-30T00:00:00' '2001-03-22T00:00:00']\n",
      "\n",
      "Unique value of = LICENSE APPROVED FOR ISSUANCE [[4224]]\n",
      "['2002-08-21T00:00:00' '2006-04-05T00:00:00' '2009-07-22T00:00:00' ...\n",
      " '2013-01-25T00:00:00' '2005-09-26T00:00:00' '2009-11-27T00:00:00']\n",
      "\n",
      "Unique value of = DATE ISSUED [[3498]]\n",
      "['2006-04-11T00:00:00' '2006-06-12T00:00:00' '2009-07-22T00:00:00' ...\n",
      " '2015-12-28T00:00:00' '2015-09-24T00:00:00' '2013-01-28T00:00:00']\n",
      "\n",
      "Unique value of = LICENSE STATUS CHANGE DATE [[3153]]\n",
      "[nan '2006-06-15T00:00:00' '2004-05-04T00:00:00' ... '2014-11-12T00:00:00'\n",
      " '2011-12-22T00:00:00' '2013-06-20T00:00:00']\n",
      "\n",
      "Unique value of = SSA [[54]]\n",
      "[25. 60. nan 14. 28. 45. 24. 10. 13. 35. 27. 17.  1. 26. 34. 54.  3. 42.\n",
      " 22. 52. 32. 49. 39. 33. 69. 31. 62. 50. 23. 56. 21.  8. 19. 43. 16. 38.\n",
      " 59. 47. 51. 18. 29. 20.  5. 40.  2. 61. 41. 48.  4. 55.  7. 63. 64. 44.]\n",
      "\n",
      "Unique value of = LATITUDE [[21374]]\n",
      "[41.84361288 41.96113244         nan ... 41.75990959 41.87262868\n",
      " 41.69124624]\n",
      "\n",
      "Unique value of = LONGITUDE [[21381]]\n",
      "[-87.71461847 -87.69962604          nan ... -87.65049077 -87.62740312\n",
      " -87.64249541]\n",
      "\n",
      "Unique value of = LOCATION [[21389]]\n",
      "['{\\'latitude\\': \\'41.843612879431845\\', \\'longitude\\': \\'-87.71461847216574\\', \\'needs_recoding\\': False, \\'human_address\\': \\'{\"address\":\"\",\"city\":\"\",\"state\":\"\",\"zip\":\"\"}\\'}'\n",
      " '{\\'latitude\\': \\'41.96113244107215\\', \\'longitude\\': \\'-87.69962604438346\\', \\'needs_recoding\\': False, \\'human_address\\': \\'{\"address\":\"\",\"city\":\"\",\"state\":\"\",\"zip\":\"\"}\\'}'\n",
      " nan ...\n",
      " '{\\'latitude\\': \\'41.759909589825696\\', \\'longitude\\': \\'-87.65049076923084\\', \\'needs_recoding\\': False, \\'human_address\\': \\'{\"address\":\"\",\"city\":\"\",\"state\":\"\",\"zip\":\"\"}\\'}'\n",
      " '{\\'latitude\\': \\'41.87262867709242\\', \\'longitude\\': \\'-87.62740311569992\\', \\'needs_recoding\\': False, \\'human_address\\': \\'{\"address\":\"\",\"city\":\"\",\"state\":\"\",\"zip\":\"\"}\\'}'\n",
      " '{\\'latitude\\': \\'41.69124623504896\\', \\'longitude\\': \\'-87.64249540758229\\', \\'needs_recoding\\': False, \\'human_address\\': \\'{\"address\":\"\",\"city\":\"\",\"state\":\"\",\"zip\":\"\"}\\'}']\n",
      "\n",
      "Unique value of = LICENSE STATUS [[5]]\n",
      "['AAI' 'AAC' 'REV' 'REA' 'INQ']\n",
      "\n"
     ]
    }
   ],
   "source": [
    "# Number of unique values in each columns and unique values in each columns.\n",
    "\n",
    "for i in Train.columns:\n",
    "    print(\"Unique value of = {} [[{}]]\\n{}\\n\".format(i, len(Train[i].unique()), Train[i].unique()))"
   ]
  },
  {
   "cell_type": "code",
   "execution_count": 259,
   "id": "2dc34bcb",
   "metadata": {},
   "outputs": [
    {
     "data": {
      "text/plain": [
       "AAI    55400\n",
       "AAC    30200\n",
       "REV      290\n",
       "REA        3\n",
       "INQ        2\n",
       "Name: LICENSE STATUS, dtype: int64"
      ]
     },
     "execution_count": 259,
     "metadata": {},
     "output_type": "execute_result"
    }
   ],
   "source": [
    "#Distribution of Target Variable\n",
    "Train['LICENSE STATUS'].value_counts()"
   ]
  },
  {
   "cell_type": "code",
   "execution_count": 260,
   "id": "5a41c492",
   "metadata": {},
   "outputs": [
    {
     "name": "stderr",
     "output_type": "stream",
     "text": [
      "C:\\Users\\Bharti Lenday\\anaconda3\\lib\\site-packages\\seaborn\\_decorators.py:36: FutureWarning: Pass the following variable as a keyword arg: x. From version 0.12, the only valid positional argument will be `data`, and passing other arguments without an explicit keyword will result in an error or misinterpretation.\n",
      "  warnings.warn(\n"
     ]
    },
    {
     "data": {
      "image/png": "[encoded data removed]",
      "text/plain": [
       "<Figure size 432x288 with 1 Axes>"
      ]
     },
     "metadata": {
      "needs_background": "light"
     },
     "output_type": "display_data"
    }
   ],
   "source": [
    "plt.title('Distribution of Target Variable')\n",
    "sns.countplot(Train['LICENSE STATUS'])\n",
    "plt.show()"
   ]
  },
  {
   "cell_type": "code",
   "execution_count": 261,
   "id": "3252c2ac",
   "metadata": {},
   "outputs": [
    {
     "data": {
      "text/plain": [
       "ID                                   85895\n",
       "LICENSE ID                           85895\n",
       "ACCOUNT NUMBER                       38897\n",
       "SITE NUMBER                            177\n",
       "LEGAL NAME                           38744\n",
       "DOING BUSINESS AS NAME               41686\n",
       "ADDRESS                              42146\n",
       "CITY                                  1223\n",
       "STATE                                   54\n",
       "ZIP CODE                              2172\n",
       "WARD                                    50\n",
       "PRECINCT                                76\n",
       "WARD PRECINCT                         2382\n",
       "POLICE DISTRICT                         28\n",
       "LICENSE CODE                           106\n",
       "LICENSE DESCRIPTION                    106\n",
       "LICENSE NUMBER                       49768\n",
       "APPLICATION TYPE                         5\n",
       "APPLICATION CREATED DATE              2899\n",
       "APPLICATION REQUIREMENTS COMPLETE     3078\n",
       "PAYMENT DATE                          4356\n",
       "CONDITIONAL APPROVAL                     2\n",
       "LICENSE TERM START DATE               2825\n",
       "LICENSE TERM EXPIRATION DATE           297\n",
       "LICENSE APPROVED FOR ISSUANCE         4223\n",
       "DATE ISSUED                           3498\n",
       "LICENSE STATUS CHANGE DATE            3152\n",
       "SSA                                     53\n",
       "LATITUDE                             21373\n",
       "LONGITUDE                            21380\n",
       "LOCATION                             21388\n",
       "LICENSE STATUS                           5\n",
       "dtype: int64"
      ]
     },
     "execution_count": 261,
     "metadata": {},
     "output_type": "execute_result"
    }
   ],
   "source": [
    "Train.nunique()"
   ]
  },
  {
   "cell_type": "code",
   "execution_count": 262,
   "id": "c0602650",
   "metadata": {},
   "outputs": [
    {
     "data": {
      "text/plain": [
       "ID                                   57239\n",
       "LICENSE ID                           57239\n",
       "ACCOUNT NUMBER                       36724\n",
       "SITE NUMBER                            297\n",
       "LEGAL NAME                           36523\n",
       "DOING BUSINESS AS NAME               39364\n",
       "ADDRESS                              39637\n",
       "CITY                                   331\n",
       "STATE                                   43\n",
       "ZIP CODE                               420\n",
       "WARD                                    50\n",
       "PRECINCT                                76\n",
       "WARD PRECINCT                         2459\n",
       "POLICE DISTRICT                         25\n",
       "LICENSE CODE                           124\n",
       "LICENSE DESCRIPTION                    124\n",
       "LICENSE NUMBER                       49383\n",
       "APPLICATION TYPE                         6\n",
       "APPLICATION CREATED DATE              3684\n",
       "APPLICATION REQUIREMENTS COMPLETE     3884\n",
       "PAYMENT DATE                          4930\n",
       "CONDITIONAL APPROVAL                     2\n",
       "LICENSE TERM START DATE               3737\n",
       "LICENSE TERM EXPIRATION DATE           402\n",
       "LICENSE APPROVED FOR ISSUANCE         4844\n",
       "DATE ISSUED                           4042\n",
       "LICENSE STATUS CHANGE DATE            3934\n",
       "SSA                                     53\n",
       "LATITUDE                             28795\n",
       "LONGITUDE                            28793\n",
       "LOCATION                             28810\n",
       "dtype: int64"
      ]
     },
     "execution_count": 262,
     "metadata": {},
     "output_type": "execute_result"
    }
   ],
   "source": [
    "Test.nunique()"
   ]
  },
  {
   "cell_type": "markdown",
   "id": "8b5f9ac3",
   "metadata": {},
   "source": [
    "## Data Preprocessing"
   ]
  },
  {
   "cell_type": "markdown",
   "id": "24d8b1ef",
   "metadata": {},
   "source": [
    "### Feature extraction"
   ]
  },
  {
   "cell_type": "code",
   "execution_count": 263,
   "id": "a7c2bbd9",
   "metadata": {},
   "outputs": [],
   "source": [
    "# Function to extraxt date from datetime columns.\n",
    "\n",
    "date_columns = ['APPLICATION REQUIREMENTS COMPLETE','PAYMENT DATE','LICENSE TERM START DATE','LICENSE TERM EXPIRATION DATE',\n",
    "                'DATE ISSUED','LICENSE STATUS CHANGE DATE','LICENSE APPROVED FOR ISSUANCE']\n",
    "def dates(date_columns):\n",
    "     for i in date_columns:\n",
    "            Train[i]= pd.to_datetime(Train[i])\n",
    "            Test[i]= pd.to_datetime(Test[i])"
   ]
  },
  {
   "cell_type": "code",
   "execution_count": 264,
   "id": "e1cb0ae0",
   "metadata": {},
   "outputs": [],
   "source": [
    "dates(date_columns)"
   ]
  },
  {
   "cell_type": "code",
   "execution_count": 265,
   "id": "76c463c9",
   "metadata": {},
   "outputs": [],
   "source": [
    "# Function to obtain year and month from date column.\n",
    "\n",
    "def Get_year(col_name, date_column):\n",
    "    Train[col_name] = Train[date_column].apply(lambda x : x.year)\n",
    "    Test[col_name] = Test[date_column].apply(lambda x : x.year)\n",
    "    \n",
    "\n",
    "def Get_month(col_name, actual_date_column):\n",
    "    Train[col_name] = Train[actual_date_column].apply(lambda x : x.month)\n",
    "    Test[col_name] = Test[actual_date_column].apply(lambda x : x.month)    "
   ]
  },
  {
   "cell_type": "code",
   "execution_count": 266,
   "id": "21a0c2bc",
   "metadata": {},
   "outputs": [],
   "source": [
    "Get_year('PAYMENT YEAR', 'PAYMENT DATE')\n",
    "Get_year('PAYMENT MONTH', 'PAYMENT DATE')\n",
    "Get_year('APPLICATION REQUIREMENTS COMPLETE YEAR', 'APPLICATION REQUIREMENTS COMPLETE')\n",
    "Get_year('LICENSE TERM START YEAR', 'LICENSE TERM START DATE')\n",
    "Get_year('LICENSE TERM EXPIRATION YEAR', 'LICENSE TERM EXPIRATION DATE')\n",
    "Get_year('DATE ISSUED YEAR', 'DATE ISSUED')\n",
    "Get_year('LICENSE STATUS CHANGE YEAR', 'LICENSE STATUS CHANGE DATE')\n",
    "Get_year('LICENSE APPROVED FOR ISSUANCE YEAR', 'LICENSE APPROVED FOR ISSUANCE')"
   ]
  },
  {
   "cell_type": "code",
   "execution_count": 267,
   "id": "32e7b7ad",
   "metadata": {},
   "outputs": [],
   "source": [
    "Train['LICENSE VALIDITY'] = abs(Train['LICENSE TERM EXPIRATION YEAR']-Train['LICENSE TERM START YEAR'])\n",
    "Test['LICENSE VALIDITY'] = abs(Test['LICENSE TERM EXPIRATION YEAR']-Test['LICENSE TERM START YEAR'])"
   ]
  },
  {
   "cell_type": "markdown",
   "id": "1f09ee85",
   "metadata": {},
   "source": [
    "### Dimensionality Reduction"
   ]
  },
  {
   "cell_type": "code",
   "execution_count": 268,
   "id": "e22f4a79",
   "metadata": {},
   "outputs": [],
   "source": [
    "# Dropping unnecessary columns \n",
    "column_list = ['ID','LICENSE ID','LOCATION','ADDRESS','APPLICATION CREATED DATE','SSA','APPLICATION REQUIREMENTS COMPLETE',\n",
    "               'PAYMENT DATE', 'LICENSE TERM START DATE','LICENSE TERM EXPIRATION DATE','LICENSE APPROVED FOR ISSUANCE',\n",
    "               'DATE ISSUED','LICENSE STATUS CHANGE DATE','LICENSE TERM START YEAR','LICENSE TERM EXPIRATION YEAR'] \n",
    "Train = Train.drop(column_list, axis = 1)\n",
    "Test = Test.drop(column_list, axis = 1)"
   ]
  },
  {
   "cell_type": "code",
   "execution_count": 269,
   "id": "7c59aae0",
   "metadata": {},
   "outputs": [
    {
     "data": {
      "text/html": [
       "<div>\n",
       "<style scoped>\n",
       "    .dataframe tbody tr th:only-of-type {\n",
       "        vertical-align: middle;\n",
       "    }\n",
       "\n",
       "    .dataframe tbody tr th {\n",
       "        vertical-align: top;\n",
       "    }\n",
       "\n",
       "    .dataframe thead th {\n",
       "        text-align: right;\n",
       "    }\n",
       "</style>\n",
       "<table border=\"1\" class=\"dataframe\">\n",
       "  <thead>\n",
       "    <tr style=\"text-align: right;\">\n",
       "      <th></th>\n",
       "      <th>ACCOUNT NUMBER</th>\n",
       "      <th>SITE NUMBER</th>\n",
       "      <th>LEGAL NAME</th>\n",
       "      <th>DOING BUSINESS AS NAME</th>\n",
       "      <th>CITY</th>\n",
       "      <th>STATE</th>\n",
       "      <th>ZIP CODE</th>\n",
       "      <th>WARD</th>\n",
       "      <th>PRECINCT</th>\n",
       "      <th>WARD PRECINCT</th>\n",
       "      <th>...</th>\n",
       "      <th>LATITUDE</th>\n",
       "      <th>LONGITUDE</th>\n",
       "      <th>LICENSE STATUS</th>\n",
       "      <th>PAYMENT YEAR</th>\n",
       "      <th>PAYMENT MONTH</th>\n",
       "      <th>APPLICATION REQUIREMENTS COMPLETE YEAR</th>\n",
       "      <th>DATE ISSUED YEAR</th>\n",
       "      <th>LICENSE STATUS CHANGE YEAR</th>\n",
       "      <th>LICENSE APPROVED FOR ISSUANCE YEAR</th>\n",
       "      <th>LICENSE VALIDITY</th>\n",
       "    </tr>\n",
       "  </thead>\n",
       "  <tbody>\n",
       "    <tr>\n",
       "      <th>0</th>\n",
       "      <td>32811</td>\n",
       "      <td>1</td>\n",
       "      <td>CARMEN CAHUE</td>\n",
       "      <td>CLAUDIA'S BRIDAL SHOP</td>\n",
       "      <td>CHICAGO</td>\n",
       "      <td>IL</td>\n",
       "      <td>60623</td>\n",
       "      <td>22.0</td>\n",
       "      <td>28.0</td>\n",
       "      <td>22-28</td>\n",
       "      <td>...</td>\n",
       "      <td>41.843613</td>\n",
       "      <td>-87.714618</td>\n",
       "      <td>AAI</td>\n",
       "      <td>2002.0</td>\n",
       "      <td>2002.0</td>\n",
       "      <td>2002.0</td>\n",
       "      <td>2006</td>\n",
       "      <td>NaN</td>\n",
       "      <td>2002.0</td>\n",
       "      <td>1.0</td>\n",
       "    </tr>\n",
       "    <tr>\n",
       "      <th>1</th>\n",
       "      <td>262311</td>\n",
       "      <td>29</td>\n",
       "      <td>ISLA TROPICAL, INC.</td>\n",
       "      <td>ISLA TROPICAL</td>\n",
       "      <td>CHICAGO</td>\n",
       "      <td>IL</td>\n",
       "      <td>60618</td>\n",
       "      <td>33.0</td>\n",
       "      <td>23.0</td>\n",
       "      <td>33-23</td>\n",
       "      <td>...</td>\n",
       "      <td>41.961132</td>\n",
       "      <td>-87.699626</td>\n",
       "      <td>AAC</td>\n",
       "      <td>2005.0</td>\n",
       "      <td>2005.0</td>\n",
       "      <td>2005.0</td>\n",
       "      <td>2006</td>\n",
       "      <td>2006.0</td>\n",
       "      <td>2006.0</td>\n",
       "      <td>1.0</td>\n",
       "    </tr>\n",
       "    <tr>\n",
       "      <th>2</th>\n",
       "      <td>345008</td>\n",
       "      <td>1</td>\n",
       "      <td>DJS REMODELING</td>\n",
       "      <td>DJS REMODELING, INC.</td>\n",
       "      <td>HIGHLAND</td>\n",
       "      <td>IL</td>\n",
       "      <td>60035</td>\n",
       "      <td>NaN</td>\n",
       "      <td>NaN</td>\n",
       "      <td>NaN</td>\n",
       "      <td>...</td>\n",
       "      <td>NaN</td>\n",
       "      <td>NaN</td>\n",
       "      <td>AAI</td>\n",
       "      <td>2009.0</td>\n",
       "      <td>2009.0</td>\n",
       "      <td>2009.0</td>\n",
       "      <td>2009</td>\n",
       "      <td>NaN</td>\n",
       "      <td>2009.0</td>\n",
       "      <td>2.0</td>\n",
       "    </tr>\n",
       "  </tbody>\n",
       "</table>\n",
       "<p>3 rows × 26 columns</p>\n",
       "</div>"
      ],
      "text/plain": [
       "   ACCOUNT NUMBER  SITE NUMBER           LEGAL NAME DOING BUSINESS AS NAME  \\\n",
       "0           32811            1         CARMEN CAHUE  CLAUDIA'S BRIDAL SHOP   \n",
       "1          262311           29  ISLA TROPICAL, INC.          ISLA TROPICAL   \n",
       "2          345008            1       DJS REMODELING   DJS REMODELING, INC.   \n",
       "\n",
       "       CITY STATE ZIP CODE  WARD  PRECINCT WARD PRECINCT  ...   LATITUDE  \\\n",
       "0   CHICAGO    IL    60623  22.0      28.0         22-28  ...  41.843613   \n",
       "1   CHICAGO    IL    60618  33.0      23.0         33-23  ...  41.961132   \n",
       "2  HIGHLAND    IL    60035   NaN       NaN           NaN  ...        NaN   \n",
       "\n",
       "   LONGITUDE LICENSE STATUS  PAYMENT YEAR PAYMENT MONTH  \\\n",
       "0 -87.714618            AAI        2002.0        2002.0   \n",
       "1 -87.699626            AAC        2005.0        2005.0   \n",
       "2        NaN            AAI        2009.0        2009.0   \n",
       "\n",
       "  APPLICATION REQUIREMENTS COMPLETE YEAR  DATE ISSUED YEAR  \\\n",
       "0                                 2002.0              2006   \n",
       "1                                 2005.0              2006   \n",
       "2                                 2009.0              2009   \n",
       "\n",
       "   LICENSE STATUS CHANGE YEAR LICENSE APPROVED FOR ISSUANCE YEAR  \\\n",
       "0                         NaN                             2002.0   \n",
       "1                      2006.0                             2006.0   \n",
       "2                         NaN                             2009.0   \n",
       "\n",
       "   LICENSE VALIDITY  \n",
       "0               1.0  \n",
       "1               1.0  \n",
       "2               2.0  \n",
       "\n",
       "[3 rows x 26 columns]"
      ]
     },
     "execution_count": 269,
     "metadata": {},
     "output_type": "execute_result"
    }
   ],
   "source": [
    "Train.head(3)"
   ]
  },
  {
   "cell_type": "markdown",
   "id": "e1706199",
   "metadata": {},
   "source": [
    "### Missing Value Analysis"
   ]
  },
  {
   "cell_type": "markdown",
   "id": "88ff8f6e",
   "metadata": {},
   "source": [
    "**Checking Missing values in Train and Test data set.**"
   ]
  },
  {
   "cell_type": "code",
   "execution_count": 270,
   "id": "d42406a3",
   "metadata": {},
   "outputs": [
    {
     "name": "stdout",
     "output_type": "stream",
     "text": [
      "ACCOUNT NUMBER                                0\n",
      "SITE NUMBER                                   0\n",
      "LEGAL NAME                                    0\n",
      "DOING BUSINESS AS NAME                        1\n",
      "CITY                                          0\n",
      "STATE                                         0\n",
      "ZIP CODE                                     31\n",
      "WARD                                      49701\n",
      "PRECINCT                                  56701\n",
      "WARD PRECINCT                             49700\n",
      "POLICE DISTRICT                           54012\n",
      "LICENSE CODE                                  0\n",
      "LICENSE DESCRIPTION                           0\n",
      "LICENSE NUMBER                                1\n",
      "APPLICATION TYPE                              0\n",
      "CONDITIONAL APPROVAL                          0\n",
      "LATITUDE                                  47246\n",
      "LONGITUDE                                 47246\n",
      "LICENSE STATUS                                0\n",
      "PAYMENT YEAR                               1289\n",
      "PAYMENT MONTH                              1289\n",
      "APPLICATION REQUIREMENTS COMPLETE YEAR      214\n",
      "DATE ISSUED YEAR                              0\n",
      "LICENSE STATUS CHANGE YEAR                55400\n",
      "LICENSE APPROVED FOR ISSUANCE YEAR         6789\n",
      "LICENSE VALIDITY                            228\n",
      "dtype: int64\n"
     ]
    },
    {
     "data": {
      "text/plain": [
       "<AxesSubplot:>"
      ]
     },
     "execution_count": 270,
     "metadata": {},
     "output_type": "execute_result"
    },
    {
     "data": {
      "image/png": "[encoded data removed]",
      "text/plain": [
       "<Figure size 432x288 with 2 Axes>"
      ]
     },
     "metadata": {
      "needs_background": "light"
     },
     "output_type": "display_data"
    }
   ],
   "source": [
    "# Train data set\n",
    "print(Train.isnull().sum())\n",
    "\n",
    "# Visualizing the same using heatmap.\n",
    "sns.heatmap(Train.isnull(), cmap = 'YlGnBu')"
   ]
  },
  {
   "cell_type": "code",
   "execution_count": 271,
   "id": "1f85b7f4",
   "metadata": {},
   "outputs": [
    {
     "name": "stdout",
     "output_type": "stream",
     "text": [
      "ACCOUNT NUMBER                                0\n",
      "SITE NUMBER                                   0\n",
      "LEGAL NAME                                    0\n",
      "DOING BUSINESS AS NAME                        2\n",
      "CITY                                          0\n",
      "STATE                                         0\n",
      "ZIP CODE                                     12\n",
      "WARD                                        626\n",
      "PRECINCT                                   1578\n",
      "WARD PRECINCT                               616\n",
      "POLICE DISTRICT                            1475\n",
      "LICENSE CODE                                  0\n",
      "LICENSE DESCRIPTION                           0\n",
      "LICENSE NUMBER                                0\n",
      "APPLICATION TYPE                              0\n",
      "CONDITIONAL APPROVAL                          0\n",
      "LATITUDE                                    910\n",
      "LONGITUDE                                   910\n",
      "PAYMENT YEAR                               1051\n",
      "PAYMENT MONTH                              1051\n",
      "APPLICATION REQUIREMENTS COMPLETE YEAR      428\n",
      "DATE ISSUED YEAR                              0\n",
      "LICENSE STATUS CHANGE YEAR                23246\n",
      "LICENSE APPROVED FOR ISSUANCE YEAR         2379\n",
      "LICENSE VALIDITY                            118\n",
      "dtype: int64\n"
     ]
    },
    {
     "data": {
      "text/plain": [
       "<AxesSubplot:>"
      ]
     },
     "execution_count": 271,
     "metadata": {},
     "output_type": "execute_result"
    },
    {
     "data": {
      "image/png": "[encoded data removed]",
      "text/plain": [
       "<Figure size 432x288 with 2 Axes>"
      ]
     },
     "metadata": {
      "needs_background": "light"
     },
     "output_type": "display_data"
    }
   ],
   "source": [
    "# Test data set\n",
    "print(Test.isnull().sum())\n",
    "\n",
    "# Visualizing the same using heatmap.\n",
    "sns.heatmap(Test.isnull(), cmap = 'YlGnBu')"
   ]
  },
  {
   "cell_type": "markdown",
   "id": "cf696c83",
   "metadata": {},
   "source": [
    "**Impute missing values in 'DOING BUSINESS AS NAME' with 'None'.**"
   ]
  },
  {
   "cell_type": "code",
   "execution_count": 272,
   "id": "489eed98",
   "metadata": {},
   "outputs": [],
   "source": [
    "Train['DOING BUSINESS AS NAME'] = Train['DOING BUSINESS AS NAME'].fillna('None')\n",
    "Test['DOING BUSINESS AS NAME'] = Test['DOING BUSINESS AS NAME'].fillna('None')"
   ]
  },
  {
   "cell_type": "markdown",
   "id": "db70f5a2",
   "metadata": {},
   "source": [
    "**Extract useful information from the column 'LEGAL NAME' and 'DOING BUSINESS AS NAME'.**"
   ]
  },
  {
   "cell_type": "code",
   "execution_count": 273,
   "id": "a985b993",
   "metadata": {},
   "outputs": [
    {
     "data": {
      "text/html": [
       "<div>\n",
       "<style scoped>\n",
       "    .dataframe tbody tr th:only-of-type {\n",
       "        vertical-align: middle;\n",
       "    }\n",
       "\n",
       "    .dataframe tbody tr th {\n",
       "        vertical-align: top;\n",
       "    }\n",
       "\n",
       "    .dataframe thead th {\n",
       "        text-align: right;\n",
       "    }\n",
       "</style>\n",
       "<table border=\"1\" class=\"dataframe\">\n",
       "  <thead>\n",
       "    <tr style=\"text-align: right;\">\n",
       "      <th></th>\n",
       "      <th>ACCOUNT NUMBER</th>\n",
       "      <th>SITE NUMBER</th>\n",
       "      <th>LEGAL NAME</th>\n",
       "      <th>DOING BUSINESS AS NAME</th>\n",
       "      <th>CITY</th>\n",
       "      <th>STATE</th>\n",
       "      <th>ZIP CODE</th>\n",
       "      <th>WARD</th>\n",
       "      <th>PRECINCT</th>\n",
       "      <th>WARD PRECINCT</th>\n",
       "      <th>...</th>\n",
       "      <th>LATITUDE</th>\n",
       "      <th>LONGITUDE</th>\n",
       "      <th>LICENSE STATUS</th>\n",
       "      <th>PAYMENT YEAR</th>\n",
       "      <th>PAYMENT MONTH</th>\n",
       "      <th>APPLICATION REQUIREMENTS COMPLETE YEAR</th>\n",
       "      <th>DATE ISSUED YEAR</th>\n",
       "      <th>LICENSE STATUS CHANGE YEAR</th>\n",
       "      <th>LICENSE APPROVED FOR ISSUANCE YEAR</th>\n",
       "      <th>LICENSE VALIDITY</th>\n",
       "    </tr>\n",
       "  </thead>\n",
       "  <tbody>\n",
       "    <tr>\n",
       "      <th>0</th>\n",
       "      <td>32811</td>\n",
       "      <td>1</td>\n",
       "      <td>CARMEN CAHUE</td>\n",
       "      <td>CLAUDIA'S BRIDAL SHOP</td>\n",
       "      <td>CHICAGO</td>\n",
       "      <td>IL</td>\n",
       "      <td>60623</td>\n",
       "      <td>22.0</td>\n",
       "      <td>28.0</td>\n",
       "      <td>22-28</td>\n",
       "      <td>...</td>\n",
       "      <td>41.843613</td>\n",
       "      <td>-87.714618</td>\n",
       "      <td>AAI</td>\n",
       "      <td>2002.0</td>\n",
       "      <td>2002.0</td>\n",
       "      <td>2002.0</td>\n",
       "      <td>2006</td>\n",
       "      <td>NaN</td>\n",
       "      <td>2002.0</td>\n",
       "      <td>1.0</td>\n",
       "    </tr>\n",
       "    <tr>\n",
       "      <th>1</th>\n",
       "      <td>262311</td>\n",
       "      <td>29</td>\n",
       "      <td>ISLA TROPICAL, INC.</td>\n",
       "      <td>ISLA TROPICAL</td>\n",
       "      <td>CHICAGO</td>\n",
       "      <td>IL</td>\n",
       "      <td>60618</td>\n",
       "      <td>33.0</td>\n",
       "      <td>23.0</td>\n",
       "      <td>33-23</td>\n",
       "      <td>...</td>\n",
       "      <td>41.961132</td>\n",
       "      <td>-87.699626</td>\n",
       "      <td>AAC</td>\n",
       "      <td>2005.0</td>\n",
       "      <td>2005.0</td>\n",
       "      <td>2005.0</td>\n",
       "      <td>2006</td>\n",
       "      <td>2006.0</td>\n",
       "      <td>2006.0</td>\n",
       "      <td>1.0</td>\n",
       "    </tr>\n",
       "    <tr>\n",
       "      <th>2</th>\n",
       "      <td>345008</td>\n",
       "      <td>1</td>\n",
       "      <td>DJS REMODELING</td>\n",
       "      <td>DJS REMODELING, INC.</td>\n",
       "      <td>HIGHLAND</td>\n",
       "      <td>IL</td>\n",
       "      <td>60035</td>\n",
       "      <td>NaN</td>\n",
       "      <td>NaN</td>\n",
       "      <td>NaN</td>\n",
       "      <td>...</td>\n",
       "      <td>NaN</td>\n",
       "      <td>NaN</td>\n",
       "      <td>AAI</td>\n",
       "      <td>2009.0</td>\n",
       "      <td>2009.0</td>\n",
       "      <td>2009.0</td>\n",
       "      <td>2009</td>\n",
       "      <td>NaN</td>\n",
       "      <td>2009.0</td>\n",
       "      <td>2.0</td>\n",
       "    </tr>\n",
       "  </tbody>\n",
       "</table>\n",
       "<p>3 rows × 26 columns</p>\n",
       "</div>"
      ],
      "text/plain": [
       "   ACCOUNT NUMBER  SITE NUMBER           LEGAL NAME DOING BUSINESS AS NAME  \\\n",
       "0           32811            1         CARMEN CAHUE  CLAUDIA'S BRIDAL SHOP   \n",
       "1          262311           29  ISLA TROPICAL, INC.          ISLA TROPICAL   \n",
       "2          345008            1       DJS REMODELING   DJS REMODELING, INC.   \n",
       "\n",
       "       CITY STATE ZIP CODE  WARD  PRECINCT WARD PRECINCT  ...   LATITUDE  \\\n",
       "0   CHICAGO    IL    60623  22.0      28.0         22-28  ...  41.843613   \n",
       "1   CHICAGO    IL    60618  33.0      23.0         33-23  ...  41.961132   \n",
       "2  HIGHLAND    IL    60035   NaN       NaN           NaN  ...        NaN   \n",
       "\n",
       "   LONGITUDE LICENSE STATUS  PAYMENT YEAR PAYMENT MONTH  \\\n",
       "0 -87.714618            AAI        2002.0        2002.0   \n",
       "1 -87.699626            AAC        2005.0        2005.0   \n",
       "2        NaN            AAI        2009.0        2009.0   \n",
       "\n",
       "  APPLICATION REQUIREMENTS COMPLETE YEAR  DATE ISSUED YEAR  \\\n",
       "0                                 2002.0              2006   \n",
       "1                                 2005.0              2006   \n",
       "2                                 2009.0              2009   \n",
       "\n",
       "   LICENSE STATUS CHANGE YEAR LICENSE APPROVED FOR ISSUANCE YEAR  \\\n",
       "0                         NaN                             2002.0   \n",
       "1                      2006.0                             2006.0   \n",
       "2                         NaN                             2009.0   \n",
       "\n",
       "   LICENSE VALIDITY  \n",
       "0               1.0  \n",
       "1               1.0  \n",
       "2               2.0  \n",
       "\n",
       "[3 rows x 26 columns]"
      ]
     },
     "execution_count": 273,
     "metadata": {},
     "output_type": "execute_result"
    }
   ],
   "source": [
    "Train['LEGAL NAME'].apply(lambda x : x.upper) \n",
    "Train['DOING BUSINESS AS NAME'].apply(lambda x : x.upper)\n",
    "Train.head(3)"
   ]
  },
  {
   "cell_type": "code",
   "execution_count": 274,
   "id": "d1c1bc34",
   "metadata": {},
   "outputs": [
    {
     "data": {
      "text/html": [
       "<div>\n",
       "<style scoped>\n",
       "    .dataframe tbody tr th:only-of-type {\n",
       "        vertical-align: middle;\n",
       "    }\n",
       "\n",
       "    .dataframe tbody tr th {\n",
       "        vertical-align: top;\n",
       "    }\n",
       "\n",
       "    .dataframe thead th {\n",
       "        text-align: right;\n",
       "    }\n",
       "</style>\n",
       "<table border=\"1\" class=\"dataframe\">\n",
       "  <thead>\n",
       "    <tr style=\"text-align: right;\">\n",
       "      <th></th>\n",
       "      <th>ACCOUNT NUMBER</th>\n",
       "      <th>SITE NUMBER</th>\n",
       "      <th>LEGAL NAME</th>\n",
       "      <th>DOING BUSINESS AS NAME</th>\n",
       "      <th>CITY</th>\n",
       "      <th>STATE</th>\n",
       "      <th>ZIP CODE</th>\n",
       "      <th>WARD</th>\n",
       "      <th>PRECINCT</th>\n",
       "      <th>WARD PRECINCT</th>\n",
       "      <th>...</th>\n",
       "      <th>CONDITIONAL APPROVAL</th>\n",
       "      <th>LATITUDE</th>\n",
       "      <th>LONGITUDE</th>\n",
       "      <th>PAYMENT YEAR</th>\n",
       "      <th>PAYMENT MONTH</th>\n",
       "      <th>APPLICATION REQUIREMENTS COMPLETE YEAR</th>\n",
       "      <th>DATE ISSUED YEAR</th>\n",
       "      <th>LICENSE STATUS CHANGE YEAR</th>\n",
       "      <th>LICENSE APPROVED FOR ISSUANCE YEAR</th>\n",
       "      <th>LICENSE VALIDITY</th>\n",
       "    </tr>\n",
       "  </thead>\n",
       "  <tbody>\n",
       "    <tr>\n",
       "      <th>0</th>\n",
       "      <td>280120</td>\n",
       "      <td>1</td>\n",
       "      <td>RS HOMES I LLC</td>\n",
       "      <td>RS HOMES I LLC</td>\n",
       "      <td>CHICAGO</td>\n",
       "      <td>IL</td>\n",
       "      <td>60610.0</td>\n",
       "      <td>42.0</td>\n",
       "      <td>67.0</td>\n",
       "      <td>42-67</td>\n",
       "      <td>...</td>\n",
       "      <td>N</td>\n",
       "      <td>41.890047</td>\n",
       "      <td>-87.637467</td>\n",
       "      <td>2012.0</td>\n",
       "      <td>2012.0</td>\n",
       "      <td>2011.0</td>\n",
       "      <td>2012</td>\n",
       "      <td>2012.0</td>\n",
       "      <td>2012.0</td>\n",
       "      <td>2.0</td>\n",
       "    </tr>\n",
       "    <tr>\n",
       "      <th>1</th>\n",
       "      <td>65043</td>\n",
       "      <td>1</td>\n",
       "      <td>CSX INTERMODAL INC</td>\n",
       "      <td>CSX INTERMODAL</td>\n",
       "      <td>CHICAGO</td>\n",
       "      <td>IL</td>\n",
       "      <td>60636.0</td>\n",
       "      <td>16.0</td>\n",
       "      <td>5.0</td>\n",
       "      <td>16-May</td>\n",
       "      <td>...</td>\n",
       "      <td>N</td>\n",
       "      <td>41.786485</td>\n",
       "      <td>-87.676665</td>\n",
       "      <td>2012.0</td>\n",
       "      <td>2012.0</td>\n",
       "      <td>2011.0</td>\n",
       "      <td>2012</td>\n",
       "      <td>2012.0</td>\n",
       "      <td>2012.0</td>\n",
       "      <td>2.0</td>\n",
       "    </tr>\n",
       "    <tr>\n",
       "      <th>2</th>\n",
       "      <td>281270</td>\n",
       "      <td>1</td>\n",
       "      <td>LOCOMIBILE  LOFTS LLC</td>\n",
       "      <td>LOCOMOBILE LOFTS LLC</td>\n",
       "      <td>CHICAGO</td>\n",
       "      <td>IL</td>\n",
       "      <td>60605.0</td>\n",
       "      <td>4.0</td>\n",
       "      <td>8.0</td>\n",
       "      <td>04-Aug</td>\n",
       "      <td>...</td>\n",
       "      <td>N</td>\n",
       "      <td>41.868269</td>\n",
       "      <td>-87.625695</td>\n",
       "      <td>2004.0</td>\n",
       "      <td>2004.0</td>\n",
       "      <td>2004.0</td>\n",
       "      <td>2004</td>\n",
       "      <td>NaN</td>\n",
       "      <td>2004.0</td>\n",
       "      <td>1.0</td>\n",
       "    </tr>\n",
       "  </tbody>\n",
       "</table>\n",
       "<p>3 rows × 25 columns</p>\n",
       "</div>"
      ],
      "text/plain": [
       "   ACCOUNT NUMBER  SITE NUMBER             LEGAL NAME DOING BUSINESS AS NAME  \\\n",
       "0          280120            1         RS HOMES I LLC         RS HOMES I LLC   \n",
       "1           65043            1     CSX INTERMODAL INC         CSX INTERMODAL   \n",
       "2          281270            1  LOCOMIBILE  LOFTS LLC   LOCOMOBILE LOFTS LLC   \n",
       "\n",
       "      CITY STATE  ZIP CODE  WARD  PRECINCT WARD PRECINCT  ...  \\\n",
       "0  CHICAGO    IL   60610.0  42.0      67.0         42-67  ...   \n",
       "1  CHICAGO    IL   60636.0  16.0       5.0        16-May  ...   \n",
       "2  CHICAGO    IL   60605.0   4.0       8.0        04-Aug  ...   \n",
       "\n",
       "   CONDITIONAL APPROVAL   LATITUDE  LONGITUDE  PAYMENT YEAR PAYMENT MONTH  \\\n",
       "0                     N  41.890047 -87.637467        2012.0        2012.0   \n",
       "1                     N  41.786485 -87.676665        2012.0        2012.0   \n",
       "2                     N  41.868269 -87.625695        2004.0        2004.0   \n",
       "\n",
       "  APPLICATION REQUIREMENTS COMPLETE YEAR  DATE ISSUED YEAR  \\\n",
       "0                                 2011.0              2012   \n",
       "1                                 2011.0              2012   \n",
       "2                                 2004.0              2004   \n",
       "\n",
       "   LICENSE STATUS CHANGE YEAR  LICENSE APPROVED FOR ISSUANCE YEAR  \\\n",
       "0                      2012.0                              2012.0   \n",
       "1                      2012.0                              2012.0   \n",
       "2                         NaN                              2004.0   \n",
       "\n",
       "   LICENSE VALIDITY  \n",
       "0               2.0  \n",
       "1               2.0  \n",
       "2               1.0  \n",
       "\n",
       "[3 rows x 25 columns]"
      ]
     },
     "execution_count": 274,
     "metadata": {},
     "output_type": "execute_result"
    }
   ],
   "source": [
    "Test['LEGAL NAME'].apply(lambda x : x.upper) \n",
    "Test['DOING BUSINESS AS NAME'].apply(lambda x : x.upper)\n",
    "Test.head(3)"
   ]
  },
  {
   "cell_type": "code",
   "execution_count": 275,
   "id": "31f85b67",
   "metadata": {},
   "outputs": [],
   "source": [
    "Train['LEGAL TYPE'] = 'PVT'\n",
    "Test['LEGAL TYPE'] = 'PVT'"
   ]
  },
  {
   "cell_type": "code",
   "execution_count": 276,
   "id": "a280983a",
   "metadata": {},
   "outputs": [],
   "source": [
    "Train['LEGAL TYPE'] = np.where(Train['LEGAL NAME'].str.contains('INC'),'INC',Train['LEGAL TYPE'])\n",
    "Train['LEGAL TYPE'] = np.where(Train['DOING BUSINESS AS NAME'].str.contains('INC'),'INC',Train['LEGAL TYPE'])\n",
    "Train['LEGAL TYPE'] = np.where(Train['LEGAL NAME'].str.contains('INCORPORATED'),'INC',Train['LEGAL TYPE'])\n",
    "Train['LEGAL TYPE'] = np.where(Train['DOING BUSINESS AS NAME'].str.contains('INCORPORATED'),'INC',Train['LEGAL TYPE'])"
   ]
  },
  {
   "cell_type": "code",
   "execution_count": 277,
   "id": "07540cda",
   "metadata": {},
   "outputs": [],
   "source": [
    "Test['LEGAL TYPE'] = np.where(Test['LEGAL NAME'].str.contains('INC'),'INC',Test['LEGAL TYPE'])\n",
    "Test['LEGAL TYPE'] = np.where(Test['DOING BUSINESS AS NAME'].str.contains('INC'),'INC',Test['LEGAL TYPE'])\n",
    "Test['LEGAL TYPE'] = np.where(Test['LEGAL NAME'].str.contains('INCORPORATED'),'INC',Test['LEGAL TYPE'])\n",
    "Test['LEGAL TYPE'] = np.where(Test['DOING BUSINESS AS NAME'].str.contains('INCORPORATED'),'INC',Test['LEGAL TYPE'])"
   ]
  },
  {
   "cell_type": "code",
   "execution_count": 278,
   "id": "dda0f024",
   "metadata": {},
   "outputs": [],
   "source": [
    "Train['LEGAL TYPE'] = np.where(Train['LEGAL NAME'].str.contains('LLC'),'LLC',Train['LEGAL TYPE'])\n",
    "Train['LEGAL TYPE'] = np.where(Train['DOING BUSINESS AS NAME'].str.contains('LLC'),'LLC',Train['LEGAL TYPE'])"
   ]
  },
  {
   "cell_type": "code",
   "execution_count": 279,
   "id": "24d81d14",
   "metadata": {},
   "outputs": [],
   "source": [
    "Test['LEGAL TYPE'] = np.where(Test['LEGAL NAME'].str.contains('LLC'),'LLC',Test['LEGAL TYPE'])\n",
    "Test['LEGAL TYPE'] = np.where(Test['DOING BUSINESS AS NAME'].str.contains('LLC'),'LLC',Test['LEGAL TYPE'])"
   ]
  },
  {
   "cell_type": "code",
   "execution_count": 280,
   "id": "84e9bd3b",
   "metadata": {},
   "outputs": [],
   "source": [
    "Train['LEGAL TYPE'] = np.where(Train['LEGAL NAME'].str.contains('CO'),'CORP',Train['LEGAL TYPE'])\n",
    "Train['LEGAL TYPE'] = np.where(Train['DOING BUSINESS AS NAME'].str.contains('CO'),'CORP',Train['LEGAL TYPE'])\n",
    "Train['LEGAL TYPE'] = np.where(Train['LEGAL NAME'].str.contains('CORP'),'CORP',Train['LEGAL TYPE'])\n",
    "Train['LEGAL TYPE'] = np.where(Train['DOING BUSINESS AS NAME'].str.contains('CORP'),'CORP',Train['LEGAL TYPE'])\n",
    "Train['LEGAL TYPE'] = np.where(Train['LEGAL NAME'].str.contains('CORPORATION'),'CORP',Train['LEGAL TYPE'])\n",
    "Train['LEGAL TYPE'] = np.where(Train['DOING BUSINESS AS NAME'].str.contains('CORPORATION'),'CORP',Train['LEGAL TYPE'])"
   ]
  },
  {
   "cell_type": "code",
   "execution_count": 281,
   "id": "41a566eb",
   "metadata": {},
   "outputs": [],
   "source": [
    "Test['LEGAL TYPE'] = np.where(Test['LEGAL NAME'].str.contains('CO'),'CORP',Test['LEGAL TYPE'])\n",
    "Test['LEGAL TYPE'] = np.where(Test['DOING BUSINESS AS NAME'].str.contains('CO'),'CORP',Test['LEGAL TYPE'])\n",
    "Test['LEGAL TYPE'] = np.where(Test['LEGAL NAME'].str.contains('CORP'),'CORP',Test['LEGAL TYPE'])\n",
    "Test['LEGAL TYPE'] = np.where(Test['DOING BUSINESS AS NAME'].str.contains('CORP'),'CORP',Test['LEGAL TYPE'])\n",
    "Test['LEGAL TYPE'] = np.where(Test['LEGAL NAME'].str.contains('CORPORATION'),'CORP',Test['LEGAL TYPE'])\n",
    "Test['LEGAL TYPE'] = np.where(Test['DOING BUSINESS AS NAME'].str.contains('CORPORATION'),'CORP',Test['LEGAL TYPE'])"
   ]
  },
  {
   "cell_type": "code",
   "execution_count": 282,
   "id": "60b5a505",
   "metadata": {},
   "outputs": [],
   "source": [
    "Train['LEGAL TYPE'] = np.where(Train['LEGAL NAME'].str.contains('LTD'),'LTD',Train['LEGAL TYPE'])\n",
    "Train['LEGAL TYPE'] = np.where(Train['DOING BUSINESS AS NAME'].str.contains('LTD'),'LTD',Train['LEGAL TYPE'])\n",
    "Train['LEGAL TYPE'] = np.where(Train['LEGAL NAME'].str.contains('LIMITED'),'LTD',Train['LEGAL TYPE'])\n",
    "Train['LEGAL TYPE'] = np.where(Train['DOING BUSINESS AS NAME'].str.contains('LIMITED'),'LTD',Train['LEGAL TYPE'])"
   ]
  },
  {
   "cell_type": "code",
   "execution_count": 283,
   "id": "aadeaa46",
   "metadata": {},
   "outputs": [],
   "source": [
    "Test['LEGAL TYPE'] = np.where(Test['LEGAL NAME'].str.contains('LTD'),'LTD',Test['LEGAL TYPE'])\n",
    "Test['LEGAL TYPE'] = np.where(Test['DOING BUSINESS AS NAME'].str.contains('LTD'),'LTD',Test['LEGAL TYPE'])\n",
    "Test['LEGAL TYPE'] = np.where(Test['LEGAL NAME'].str.contains('LIMITED'),'LTD',Test['LEGAL TYPE'])\n",
    "Test['LEGAL TYPE'] = np.where(Test['DOING BUSINESS AS NAME'].str.contains('LIMITED'),'LTD',Test['LEGAL TYPE'])"
   ]
  },
  {
   "cell_type": "code",
   "execution_count": 284,
   "id": "04e2f962",
   "metadata": {},
   "outputs": [
    {
     "data": {
      "text/plain": [
       "CORP    27760\n",
       "PVT     27366\n",
       "INC     24449\n",
       "LLC      4705\n",
       "LTD      1615\n",
       "Name: LEGAL TYPE, dtype: int64"
      ]
     },
     "execution_count": 284,
     "metadata": {},
     "output_type": "execute_result"
    }
   ],
   "source": [
    "Train['LEGAL TYPE'].value_counts()"
   ]
  },
  {
   "cell_type": "code",
   "execution_count": 285,
   "id": "7c998ecc",
   "metadata": {},
   "outputs": [
    {
     "data": {
      "text/plain": [
       "INC     19604\n",
       "PVT     17989\n",
       "CORP    13495\n",
       "LLC      4632\n",
       "LTD      1519\n",
       "Name: LEGAL TYPE, dtype: int64"
      ]
     },
     "execution_count": 285,
     "metadata": {},
     "output_type": "execute_result"
    }
   ],
   "source": [
    "Test['LEGAL TYPE'].value_counts()"
   ]
  },
  {
   "cell_type": "code",
   "execution_count": 286,
   "id": "a0fcdbd1",
   "metadata": {},
   "outputs": [],
   "source": [
    "# Dropping unnecessary columns \n",
    "column_list = ['DOING BUSINESS AS NAME', 'LEGAL NAME'] \n",
    "Train = Train.drop(column_list, axis = 1)\n",
    "Test = Test.drop(column_list, axis = 1)"
   ]
  },
  {
   "cell_type": "markdown",
   "id": "1f10dd44",
   "metadata": {},
   "source": [
    "**Derive useful information from column 'LICENSE DESCRIPTION'.**"
   ]
  },
  {
   "cell_type": "code",
   "execution_count": 287,
   "id": "26424145",
   "metadata": {},
   "outputs": [
    {
     "data": {
      "text/plain": [
       "106"
      ]
     },
     "execution_count": 287,
     "metadata": {},
     "output_type": "execute_result"
    }
   ],
   "source": [
    "Train['LICENSE DESCRIPTION'].nunique()"
   ]
  },
  {
   "cell_type": "code",
   "execution_count": 288,
   "id": "b29363c9",
   "metadata": {},
   "outputs": [
    {
     "data": {
      "text/plain": [
       "array(['Limited Business License', 'Mobile Food Dispenser', 'Home Repair',\n",
       "       'Motor Vehicle Repair : Engine Only (Class II)',\n",
       "       'Kennels and Catteries', 'Hazardous Materials',\n",
       "       'Retail Food Establishment', 'Automatic Amusement Device Operator',\n",
       "       'Home Occupation', 'Peddler, food (fruits and vegtables only)',\n",
       "       'Music and Dance', 'Street Performer', 'Peddler, non-food',\n",
       "       'Body Piercing', 'Massage Therapist', 'Veterinary Hospital',\n",
       "       'Auctioneer', 'Broker', 'Residential Real Estate Developer',\n",
       "       'Electronic Equipment Repair', 'Filling Station',\n",
       "       'Valet Parking Operator', 'Scavenger, Private',\n",
       "       'Repossessor Class B Employee', 'Tavern',\n",
       "       'Mobile Frozen Desserts Dispenser - Non-Motorized',\n",
       "       'Peddler,food - (fruits and vegetables only) - special',\n",
       "       'Peddler, non-food, special', 'Grooming Facility', 'Package Goods',\n",
       "       'Motor Vehicle Repair; Specialty(Class I)',\n",
       "       'Retail Computing Center',\n",
       "       'Consumption on Premises - Incidental Activity', 'Outdoor Patio',\n",
       "       'Junk Peddler', 'Manufacturing Establishments',\n",
       "       'Tobacco Dealer Wholesale', 'Tobacco Vending, Individual',\n",
       "       'Laundry, Late Hour', 'Tire Facilty Class I (100 - 1,000 Tires)',\n",
       "       'Pet Shop', 'Bed-And-Breakfast Establishment',\n",
       "       'Motor Vehicle Repair: Engine/Body(Class III)',\n",
       "       'Massage Establishment', 'Animal Exhibition',\n",
       "       'Day Care Center 2 - 6 Years',\n",
       "       'Tire Facility Class II (1,001 - 5,000 Tires)',\n",
       "       \"Caterer's Liquor License\", 'Expediter - Class B Employee',\n",
       "       'Laboratories', 'Animal Care Facility',\n",
       "       'Day Care Center Under 2 Years',\n",
       "       'Day Care Center Under 2 and 2 - 6 Years', 'Expediter - Class A',\n",
       "       'Single Room Occupancy Class II', 'Long-Term Care Facility',\n",
       "       'Repossessor Class A', 'Board-Up Work',\n",
       "       'Wholesale Food Establishment', 'Raffles',\n",
       "       'Single Room Occupancy Class I', 'Vacation Rental',\n",
       "       'Public Place of Amusement', \"Children's Activities Facilities\",\n",
       "       'Day Labor Agency', 'Navy Pier - Outdoor Fixed', 'Humane Society',\n",
       "       'Retail Food Est.-Supplemental License for Dog-Friendly Areas',\n",
       "       'Accessory Garage', 'Tobacco Vending Machine Operator',\n",
       "       'Affiliation', 'Tire Facility Class III (5,001 - More Tires)',\n",
       "       'Itinerant Merchant, Class I', 'Hotel', 'Hospital', 'Late Hour',\n",
       "       'Public Place of Amusement-TCC', 'Expediter - Class B',\n",
       "       'Produce Merchant', 'Navy Pier Vendor (Non-Food)',\n",
       "       'Guard Dog Service', 'Explosives, Certificate of Fitness',\n",
       "       'Wrigley Field', \"Airport Pushcart Liquor O'Hare - Class A\",\n",
       "       'Repossessor Class B', 'Riverwalk Venue Liquor License',\n",
       "       'Assisted Living/Shared Housing Establishment',\n",
       "       'Itinerant Merchant, Class II', 'Performing Arts Venue',\n",
       "       'Bicycle Messenger Service',\n",
       "       'Secondhand Dealer (No Valuable Objects)', 'Night Care Privilege',\n",
       "       'Pawnbroker', \"Secondhand Dealer - Children's Products\",\n",
       "       'Explosives', 'Tobacco Sampler', \"Caterer's Registration (Liquor)\",\n",
       "       'Regulated Business License', 'Navy Pier - Mobile',\n",
       "       'Indoor Special Event', 'Private Booting Operation',\n",
       "       'Weapons Dealer', 'Animal Care License',\n",
       "       'Airport Pushcart Liquor Midway - Class A', 'Not-For-Profit Club',\n",
       "       'Motor Vehicle Services License'], dtype=object)"
      ]
     },
     "execution_count": 288,
     "metadata": {},
     "output_type": "execute_result"
    }
   ],
   "source": [
    "Train['LICENSE DESCRIPTION'].unique()"
   ]
  },
  {
   "cell_type": "code",
   "execution_count": 289,
   "id": "c6b50f51",
   "metadata": {},
   "outputs": [],
   "source": [
    "Train['LICENSE DESCRIPTION'] = Train['LICENSE DESCRIPTION'].replace('Motor Vehicle Repair : Engine Only (Class II)', 'Motor Vehicle Repair')\n",
    "Train['LICENSE DESCRIPTION'] = Train['LICENSE DESCRIPTION'].replace('Motor Vehicle Repair: Engine/Body(Class III)', 'Motor Vehicle Repair')\n",
    "Train['LICENSE DESCRIPTION'] = Train['LICENSE DESCRIPTION'].replace('Motor Vehicle Repair; Specialty(Class I)', 'Motor Vehicle Repair')\n",
    "Train['LICENSE DESCRIPTION'] = Train['LICENSE DESCRIPTION'].replace('Day Care Center Under 2 Years', 'Day Care Center')\n",
    "Train['LICENSE DESCRIPTION'] = Train['LICENSE DESCRIPTION'].replace('Day Care Center 2 - 6 Years', 'Day Care Center')\n",
    "Train['LICENSE DESCRIPTION'] = Train['LICENSE DESCRIPTION'].replace('Day Care Center Under 2 and 2 - 6 Years', 'Day Care Center')\n",
    "Train['LICENSE DESCRIPTION'] = Train['LICENSE DESCRIPTION'].replace('Peddler, non-food', 'Peddler')\n",
    "Train['LICENSE DESCRIPTION'] = Train['LICENSE DESCRIPTION'].replace('Peddler, non-food, special', 'Peddler')\n",
    "Train['LICENSE DESCRIPTION'] = Train['LICENSE DESCRIPTION'].replace('Junk Peddler', 'Peddler')\n",
    "Train['LICENSE DESCRIPTION'] = Train['LICENSE DESCRIPTION'].replace('Peddler, food (fruits and vegtables only)', 'Peddler')\n",
    "Train['LICENSE DESCRIPTION'] = Train['LICENSE DESCRIPTION'].replace('Peddler,food - (fruits and vegetables only) - special', 'Peddler')\n",
    "Train['LICENSE DESCRIPTION'] = Train['LICENSE DESCRIPTION'].replace('Tire Facilty Class I (100 - 1,000 Tires)', 'Tire Facilty')\n",
    "Train['LICENSE DESCRIPTION'] = Train['LICENSE DESCRIPTION'].replace('Tire Facility Class II (1,001 - 5,000 Tires)', 'Tire Facilty')\n",
    "Train['LICENSE DESCRIPTION'] = Train['LICENSE DESCRIPTION'].replace('Tire Facility Class III (5,001 - More Tires)', 'Tire Facilty')\n",
    "Train['LICENSE DESCRIPTION'] = Train['LICENSE DESCRIPTION'].replace('Repossessor Class A', 'Repossessor')\n",
    "Train['LICENSE DESCRIPTION'] = Train['LICENSE DESCRIPTION'].replace('Repossessor Class B', 'Repossessor')\n",
    "Train['LICENSE DESCRIPTION'] = Train['LICENSE DESCRIPTION'].replace('Repossessor Class B Employee', 'Repossessor')\n",
    "Train['LICENSE DESCRIPTION'] = Train['LICENSE DESCRIPTION'].replace('Expediter - Class B', 'Expediter')\n",
    "Train['LICENSE DESCRIPTION'] = Train['LICENSE DESCRIPTION'].replace('Expediter - Class A', 'Expediter')\n",
    "Train['LICENSE DESCRIPTION'] = Train['LICENSE DESCRIPTION'].replace('Expediter - Class B Employee', 'Expediter')\n",
    "Train['LICENSE DESCRIPTION'] = Train['LICENSE DESCRIPTION'].replace('Itinerant Merchant, Class II', 'Itinerant Merchant')\n",
    "Train['LICENSE DESCRIPTION'] = Train['LICENSE DESCRIPTION'].replace('Itinerant Merchant, Class I', 'Itinerant Merchant')\n",
    "Train['LICENSE DESCRIPTION'] = Train['LICENSE DESCRIPTION'].replace('Single Room Occupancy Class II', 'Single Room Occupancy')\n",
    "Train['LICENSE DESCRIPTION'] = Train['LICENSE DESCRIPTION'].replace('Single Room Occupancy Class I', 'Single Room Occupancy')\n",
    "Train['LICENSE DESCRIPTION'] = Train['LICENSE DESCRIPTION'].replace('Tobacco Dealer Wholesale', 'Tobacco')\n",
    "Train['LICENSE DESCRIPTION'] = Train['LICENSE DESCRIPTION'].replace('Tobacco Vending, Individual', 'Tobacco')\n",
    "Train['LICENSE DESCRIPTION'] = Train['LICENSE DESCRIPTION'].replace('Tobacco Vending Machine Operator', 'Tobacco')\n",
    "Train['LICENSE DESCRIPTION'] = Train['LICENSE DESCRIPTION'].replace('Tobacco Sampler', 'Tobacco')\n",
    "Train['LICENSE DESCRIPTION'] = Train['LICENSE DESCRIPTION'].replace('Secondhand Dealer - Children\\'s Products', 'Secondhand Dealer')\n",
    "Train['LICENSE DESCRIPTION'] = Train['LICENSE DESCRIPTION'].replace('Secondhand Dealer (No Valuable Objects)', 'Secondhand Dealer')"
   ]
  },
  {
   "cell_type": "code",
   "execution_count": 290,
   "id": "b7be6461",
   "metadata": {},
   "outputs": [],
   "source": [
    "Test['LICENSE DESCRIPTION'] = Test['LICENSE DESCRIPTION'].replace('Motor Vehicle Repair : Engine Only (Class II)', 'Motor Vehicle Repair')\n",
    "Test['LICENSE DESCRIPTION'] = Test['LICENSE DESCRIPTION'].replace('Motor Vehicle Repair: Engine/Body(Class III)', 'Motor Vehicle Repair')\n",
    "Test['LICENSE DESCRIPTION'] = Test['LICENSE DESCRIPTION'].replace('Motor Vehicle Repair; Specialty(Class I)', 'Motor Vehicle Repair')\n",
    "Test['LICENSE DESCRIPTION'] = Test['LICENSE DESCRIPTION'].replace('Day Care Center Under 2 Years', 'Day Care Center')\n",
    "Test['LICENSE DESCRIPTION'] = Test['LICENSE DESCRIPTION'].replace('Day Care Center 2 - 6 Years', 'Day Care Center')\n",
    "Test['LICENSE DESCRIPTION'] = Test['LICENSE DESCRIPTION'].replace('Day Care Center Under 2 and 2 - 6 Years', 'Day Care Center')\n",
    "Test['LICENSE DESCRIPTION'] = Test['LICENSE DESCRIPTION'].replace('Peddler, non-food', 'Peddler')\n",
    "Test['LICENSE DESCRIPTION'] = Test['LICENSE DESCRIPTION'].replace('Junk Peddler', 'Peddler')\n",
    "Test['LICENSE DESCRIPTION'] = Test['LICENSE DESCRIPTION'].replace('Peddler, non-food, special', 'Peddler')\n",
    "Test['LICENSE DESCRIPTION'] = Test['LICENSE DESCRIPTION'].replace('Peddler, food (fruits and vegtables only)', 'Peddler')\n",
    "Test['LICENSE DESCRIPTION'] = Test['LICENSE DESCRIPTION'].replace('Peddler,food - (fruits and vegetables only) - special', 'Peddler')\n",
    "Test['LICENSE DESCRIPTION'] = Test['LICENSE DESCRIPTION'].replace('Tire Facilty Class I (100 - 1,000 Tires)', 'Tire Facilty')\n",
    "Test['LICENSE DESCRIPTION'] = Test['LICENSE DESCRIPTION'].replace('Tire Facility Class II (1,001 - 5,000 Tires)', 'Tire Facilty')\n",
    "Test['LICENSE DESCRIPTION'] = Test['LICENSE DESCRIPTION'].replace('Tire Facility Class III (5,001 - More Tires)', 'Tire Facilty')\n",
    "Test['LICENSE DESCRIPTION'] = Test['LICENSE DESCRIPTION'].replace('Repossessor Class A', 'Repossessor')\n",
    "Test['LICENSE DESCRIPTION'] = Test['LICENSE DESCRIPTION'].replace('Repossessor Class B', 'Repossessor')\n",
    "Test['LICENSE DESCRIPTION'] = Test['LICENSE DESCRIPTION'].replace('Repossessor Class B Employee', 'Repossessor')\n",
    "Test['LICENSE DESCRIPTION'] = Test['LICENSE DESCRIPTION'].replace('Expediter - Class B', 'Expediter')\n",
    "Test['LICENSE DESCRIPTION'] = Test['LICENSE DESCRIPTION'].replace('Expediter - Class A', 'Expediter')\n",
    "Test['LICENSE DESCRIPTION'] = Test['LICENSE DESCRIPTION'].replace('Expediter - Class B Employee', 'Expediter')\n",
    "Test['LICENSE DESCRIPTION'] = Test['LICENSE DESCRIPTION'].replace('Itinerant Merchant, Class II', 'Itinerant Merchant')\n",
    "Test['LICENSE DESCRIPTION'] = Test['LICENSE DESCRIPTION'].replace('Itinerant Merchant, Class I', 'Itinerant Merchant')\n",
    "Test['LICENSE DESCRIPTION'] = Test['LICENSE DESCRIPTION'].replace('Single Room Occupancy Class II', 'Single Room Occupancy')\n",
    "Test['LICENSE DESCRIPTION'] = Test['LICENSE DESCRIPTION'].replace('Single Room Occupancy Class I', 'Single Room Occupancy')\n",
    "Test['LICENSE DESCRIPTION'] = Test['LICENSE DESCRIPTION'].replace('Tobacco Dealer Wholesale', 'Tobacco')\n",
    "Test['LICENSE DESCRIPTION'] = Test['LICENSE DESCRIPTION'].replace('Tobacco Vending, Individual', 'Tobacco')\n",
    "Test['LICENSE DESCRIPTION'] = Test['LICENSE DESCRIPTION'].replace('Tobacco Vending Machine Operator', 'Tobacco')\n",
    "Test['LICENSE DESCRIPTION'] = Test['LICENSE DESCRIPTION'].replace('Tobacco Sampler', 'Tobacco')\n",
    "Test['LICENSE DESCRIPTION'] = Test['LICENSE DESCRIPTION'].replace('Secondhand Dealer - Children\\'s Products', 'Secondhand Dealer')\n",
    "Test['LICENSE DESCRIPTION'] = Test['LICENSE DESCRIPTION'].replace('Secondhand Dealer (No Valuable Objects)', 'Secondhand Dealer')"
   ]
  },
  {
   "cell_type": "code",
   "execution_count": 291,
   "id": "8ee18be0",
   "metadata": {},
   "outputs": [
    {
     "data": {
      "text/plain": [
       "Limited Business License                    50078\n",
       "Home Repair                                 10633\n",
       "Peddler                                      3914\n",
       "Home Occupation                              2809\n",
       "Retail Food Establishment                    2321\n",
       "                                            ...  \n",
       "Indoor Special Event                            1\n",
       "Caterer's Registration (Liquor)                 1\n",
       "Affiliation                                     1\n",
       "Airport Pushcart Liquor O'Hare - Class A        1\n",
       "Motor Vehicle Services License                  1\n",
       "Name: LICENSE DESCRIPTION, Length: 86, dtype: int64"
      ]
     },
     "execution_count": 291,
     "metadata": {},
     "output_type": "execute_result"
    }
   ],
   "source": [
    "Train['LICENSE DESCRIPTION'].value_counts()"
   ]
  },
  {
   "cell_type": "markdown",
   "id": "b7323ab3",
   "metadata": {},
   "source": [
    "### Impute Missing values"
   ]
  },
  {
   "cell_type": "code",
   "execution_count": 292,
   "id": "7ad4e7d0",
   "metadata": {},
   "outputs": [],
   "source": [
    "list1 = ['ZIP CODE','WARD','PRECINCT','POLICE DISTRICT','WARD PRECINCT','LICENSE NUMBER']\n",
    "for i in list1:\n",
    "    Train[i]= Train[i].fillna(0)\n",
    "    Test[i] = Test[i].fillna(0)"
   ]
  },
  {
   "cell_type": "code",
   "execution_count": 293,
   "id": "7115c2bf",
   "metadata": {},
   "outputs": [],
   "source": [
    "list2 = ['LICENSE VALIDITY', 'PAYMENT YEAR', 'LICENSE APPROVED FOR ISSUANCE YEAR','APPLICATION REQUIREMENTS COMPLETE YEAR'\n",
    "         ,'LICENSE STATUS CHANGE YEAR','PAYMENT MONTH']\n",
    "for i in list2:\n",
    "         Train[i] =  Train[i].fillna(round( Train[i].mean()))\n",
    "         Test[i] = Test[i].fillna(round(Test[i].mean()))"
   ]
  },
  {
   "cell_type": "code",
   "execution_count": 294,
   "id": "e00f2854",
   "metadata": {},
   "outputs": [],
   "source": [
    "list3 = ['LATITUDE', 'LONGITUDE']\n",
    "for i in list3:\n",
    "         Train[i] =  Train[i].fillna( Train[i].mean())\n",
    "         Test[i] = Test[i].fillna(Test[i].mean())"
   ]
  },
  {
   "cell_type": "code",
   "execution_count": 295,
   "id": "c321d917",
   "metadata": {},
   "outputs": [
    {
     "data": {
      "text/plain": [
       "ACCOUNT NUMBER                            0\n",
       "SITE NUMBER                               0\n",
       "CITY                                      0\n",
       "STATE                                     0\n",
       "ZIP CODE                                  0\n",
       "WARD                                      0\n",
       "PRECINCT                                  0\n",
       "WARD PRECINCT                             0\n",
       "POLICE DISTRICT                           0\n",
       "LICENSE CODE                              0\n",
       "LICENSE DESCRIPTION                       0\n",
       "LICENSE NUMBER                            0\n",
       "APPLICATION TYPE                          0\n",
       "CONDITIONAL APPROVAL                      0\n",
       "LATITUDE                                  0\n",
       "LONGITUDE                                 0\n",
       "LICENSE STATUS                            0\n",
       "PAYMENT YEAR                              0\n",
       "PAYMENT MONTH                             0\n",
       "APPLICATION REQUIREMENTS COMPLETE YEAR    0\n",
       "DATE ISSUED YEAR                          0\n",
       "LICENSE STATUS CHANGE YEAR                0\n",
       "LICENSE APPROVED FOR ISSUANCE YEAR        0\n",
       "LICENSE VALIDITY                          0\n",
       "LEGAL TYPE                                0\n",
       "dtype: int64"
      ]
     },
     "execution_count": 295,
     "metadata": {},
     "output_type": "execute_result"
    }
   ],
   "source": [
    "Train.isnull().sum()"
   ]
  },
  {
   "cell_type": "code",
   "execution_count": 296,
   "id": "f32a0047",
   "metadata": {},
   "outputs": [
    {
     "data": {
      "text/plain": [
       "ACCOUNT NUMBER                            0\n",
       "SITE NUMBER                               0\n",
       "CITY                                      0\n",
       "STATE                                     0\n",
       "ZIP CODE                                  0\n",
       "WARD                                      0\n",
       "PRECINCT                                  0\n",
       "WARD PRECINCT                             0\n",
       "POLICE DISTRICT                           0\n",
       "LICENSE CODE                              0\n",
       "LICENSE DESCRIPTION                       0\n",
       "LICENSE NUMBER                            0\n",
       "APPLICATION TYPE                          0\n",
       "CONDITIONAL APPROVAL                      0\n",
       "LATITUDE                                  0\n",
       "LONGITUDE                                 0\n",
       "PAYMENT YEAR                              0\n",
       "PAYMENT MONTH                             0\n",
       "APPLICATION REQUIREMENTS COMPLETE YEAR    0\n",
       "DATE ISSUED YEAR                          0\n",
       "LICENSE STATUS CHANGE YEAR                0\n",
       "LICENSE APPROVED FOR ISSUANCE YEAR        0\n",
       "LICENSE VALIDITY                          0\n",
       "LEGAL TYPE                                0\n",
       "dtype: int64"
      ]
     },
     "execution_count": 296,
     "metadata": {},
     "output_type": "execute_result"
    }
   ],
   "source": [
    "Test.isnull().sum()"
   ]
  },
  {
   "cell_type": "markdown",
   "id": "9128dee9",
   "metadata": {},
   "source": [
    "**Now there is no missing values.**"
   ]
  },
  {
   "cell_type": "markdown",
   "id": "eea2dc06",
   "metadata": {},
   "source": [
    "### Converting Data type"
   ]
  },
  {
   "cell_type": "markdown",
   "id": "1f9ee2f8",
   "metadata": {},
   "source": [
    "**Converting the data types of all the 'Categorical variables'  into 'Interger variables'.**"
   ]
  },
  {
   "cell_type": "code",
   "execution_count": 297,
   "id": "d0706695",
   "metadata": {},
   "outputs": [],
   "source": [
    "#label Encoding on Train \n",
    "from sklearn import preprocessing\n",
    "label_encoder = preprocessing.LabelEncoder()\n",
    "Train['LICENSE STATUS']=label_encoder.fit_transform(Train['LICENSE STATUS'])"
   ]
  },
  {
   "cell_type": "code",
   "execution_count": 298,
   "id": "76345fa8",
   "metadata": {},
   "outputs": [
    {
     "data": {
      "text/plain": [
       "1    55400\n",
       "0    30200\n",
       "4      290\n",
       "3        3\n",
       "2        2\n",
       "Name: LICENSE STATUS, dtype: int64"
      ]
     },
     "execution_count": 298,
     "metadata": {},
     "output_type": "execute_result"
    }
   ],
   "source": [
    "Train['LICENSE STATUS'].value_counts()"
   ]
  },
  {
   "cell_type": "code",
   "execution_count": 299,
   "id": "bd7f11e4",
   "metadata": {},
   "outputs": [],
   "source": [
    "# Function to LabelEncode all the non numerical values\n",
    "def create_dummies(df):\n",
    "    for i in df.columns:\n",
    "        if df[i].dtypes=='object':\n",
    "            print(i,'encoded')\n",
    "            mask = ~df[i].isnull()\n",
    "            label_encoder = LabelEncoder() \n",
    "            try:\n",
    "                df[i][mask] = label_encoder.fit_transform(df[i][mask])\n",
    "                df[i] = df[i].astype(int)\n",
    "            except Exception as e:\n",
    "                print(e)\n",
    "    return df"
   ]
  },
  {
   "cell_type": "code",
   "execution_count": 300,
   "id": "07a967ce",
   "metadata": {},
   "outputs": [
    {
     "name": "stdout",
     "output_type": "stream",
     "text": [
      "CITY encoded\n",
      "STATE encoded\n",
      "ZIP CODE encoded\n",
      "Encoders require their input to be uniformly strings or numbers. Got ['float', 'int', 'str']\n",
      "WARD PRECINCT encoded\n",
      "Encoders require their input to be uniformly strings or numbers. Got ['int', 'str']\n",
      "LICENSE DESCRIPTION encoded\n",
      "APPLICATION TYPE encoded\n",
      "CONDITIONAL APPROVAL encoded\n",
      "LEGAL TYPE encoded\n"
     ]
    },
    {
     "name": "stderr",
     "output_type": "stream",
     "text": [
      "C:\\Users\\BHARTI~1\\AppData\\Local\\Temp/ipykernel_27812/3072490657.py:9: SettingWithCopyWarning: \n",
      "A value is trying to be set on a copy of a slice from a DataFrame\n",
      "\n",
      "See the caveats in the documentation: https://pandas.pydata.org/pandas-docs/stable/user_guide/indexing.html#returning-a-view-versus-a-copy\n",
      "  df[i][mask] = label_encoder.fit_transform(df[i][mask])\n"
     ]
    }
   ],
   "source": [
    "Train= create_dummies(Train)"
   ]
  },
  {
   "cell_type": "code",
   "execution_count": 301,
   "id": "ef498d30",
   "metadata": {},
   "outputs": [
    {
     "name": "stdout",
     "output_type": "stream",
     "text": [
      "CITY encoded\n",
      "STATE encoded\n",
      "WARD PRECINCT encoded\n",
      "Encoders require their input to be uniformly strings or numbers. Got ['int', 'str']\n",
      "LICENSE DESCRIPTION encoded\n",
      "APPLICATION TYPE encoded\n",
      "CONDITIONAL APPROVAL encoded\n",
      "LEGAL TYPE encoded\n"
     ]
    },
    {
     "name": "stderr",
     "output_type": "stream",
     "text": [
      "C:\\Users\\BHARTI~1\\AppData\\Local\\Temp/ipykernel_27812/3072490657.py:9: SettingWithCopyWarning: \n",
      "A value is trying to be set on a copy of a slice from a DataFrame\n",
      "\n",
      "See the caveats in the documentation: https://pandas.pydata.org/pandas-docs/stable/user_guide/indexing.html#returning-a-view-versus-a-copy\n",
      "  df[i][mask] = label_encoder.fit_transform(df[i][mask])\n"
     ]
    }
   ],
   "source": [
    "Test = create_dummies(Test)"
   ]
  },
  {
   "cell_type": "code",
   "execution_count": 302,
   "id": "faab5d1d",
   "metadata": {},
   "outputs": [],
   "source": [
    "encoder = LabelEncoder()\n",
    "Train[\"WARD PRECINCT\"] = encoder.fit_transform(Train[\"WARD PRECINCT\"].astype(str))\n",
    "Test[\"WARD PRECINCT\"] = encoder.fit_transform(Test[\"WARD PRECINCT\"].astype(str))"
   ]
  },
  {
   "cell_type": "code",
   "execution_count": 303,
   "id": "763c3629",
   "metadata": {},
   "outputs": [],
   "source": [
    "encoder = LabelEncoder()\n",
    "Train[\"ZIP CODE\"] = encoder.fit_transform(Train[\"ZIP CODE\"].astype(str))\n",
    "Test[\"ZIP CODE\"] = encoder.fit_transform(Test[\"ZIP CODE\"].astype(str))"
   ]
  },
  {
   "cell_type": "code",
   "execution_count": 304,
   "id": "8c0d6d08",
   "metadata": {},
   "outputs": [
    {
     "data": {
      "image/png": "[encoded data removed]",
      "text/plain": [
       "<Figure size 1440x1440 with 2 Axes>"
      ]
     },
     "metadata": {
      "needs_background": "light"
     },
     "output_type": "display_data"
    }
   ],
   "source": [
    "# Our Subsample\n",
    "sub_sample_corr = new_df.corr()\n",
    "plt.figure(figsize=(20,20))\n",
    "sns.heatmap(sub_sample_corr, cbar=True, square= True, fmt='.1f', annot=True, annot_kws={'size':20}, cmap='Blues')\n",
    "plt.title('Subsample Correlation Matrix \\n (use for reference)', fontsize=14)\n",
    "plt.show()\n"
   ]
  },
  {
   "cell_type": "code",
   "execution_count": 305,
   "id": "210a0665",
   "metadata": {},
   "outputs": [],
   "source": [
    "# Since all the years are highly correlated, we will consider the one that has the least missing values.\n",
    "col_list = ['PAYMENT YEAR', 'APPLICATION REQUIREMENTS COMPLETE YEAR', 'LICENSE APPROVED FOR ISSUANCE YEAR','PAYMENT MONTH']\n",
    "Train = Train.drop(col_list, axis=1)\n",
    "Test = Test.drop(col_list, axis=1)"
   ]
  },
  {
   "cell_type": "code",
   "execution_count": 306,
   "id": "6b9fa985",
   "metadata": {},
   "outputs": [
    {
     "data": {
      "text/html": [
       "<div>\n",
       "<style scoped>\n",
       "    .dataframe tbody tr th:only-of-type {\n",
       "        vertical-align: middle;\n",
       "    }\n",
       "\n",
       "    .dataframe tbody tr th {\n",
       "        vertical-align: top;\n",
       "    }\n",
       "\n",
       "    .dataframe thead th {\n",
       "        text-align: right;\n",
       "    }\n",
       "</style>\n",
       "<table border=\"1\" class=\"dataframe\">\n",
       "  <thead>\n",
       "    <tr style=\"text-align: right;\">\n",
       "      <th></th>\n",
       "      <th>ACCOUNT NUMBER</th>\n",
       "      <th>SITE NUMBER</th>\n",
       "      <th>CITY</th>\n",
       "      <th>STATE</th>\n",
       "      <th>ZIP CODE</th>\n",
       "      <th>WARD</th>\n",
       "      <th>PRECINCT</th>\n",
       "      <th>WARD PRECINCT</th>\n",
       "      <th>POLICE DISTRICT</th>\n",
       "      <th>LICENSE CODE</th>\n",
       "      <th>...</th>\n",
       "      <th>LICENSE NUMBER</th>\n",
       "      <th>APPLICATION TYPE</th>\n",
       "      <th>CONDITIONAL APPROVAL</th>\n",
       "      <th>LATITUDE</th>\n",
       "      <th>LONGITUDE</th>\n",
       "      <th>LICENSE STATUS</th>\n",
       "      <th>DATE ISSUED YEAR</th>\n",
       "      <th>LICENSE STATUS CHANGE YEAR</th>\n",
       "      <th>LICENSE VALIDITY</th>\n",
       "      <th>LEGAL TYPE</th>\n",
       "    </tr>\n",
       "  </thead>\n",
       "  <tbody>\n",
       "    <tr>\n",
       "      <th>0</th>\n",
       "      <td>32811</td>\n",
       "      <td>1</td>\n",
       "      <td>193</td>\n",
       "      <td>16</td>\n",
       "      <td>1470</td>\n",
       "      <td>22.0</td>\n",
       "      <td>28.0</td>\n",
       "      <td>632</td>\n",
       "      <td>10.0</td>\n",
       "      <td>1010</td>\n",
       "      <td>...</td>\n",
       "      <td>35342.0</td>\n",
       "      <td>4</td>\n",
       "      <td>0</td>\n",
       "      <td>41.843613</td>\n",
       "      <td>-87.714618</td>\n",
       "      <td>1</td>\n",
       "      <td>2006</td>\n",
       "      <td>2009.0</td>\n",
       "      <td>1.0</td>\n",
       "      <td>4</td>\n",
       "    </tr>\n",
       "    <tr>\n",
       "      <th>1</th>\n",
       "      <td>262311</td>\n",
       "      <td>29</td>\n",
       "      <td>193</td>\n",
       "      <td>16</td>\n",
       "      <td>1460</td>\n",
       "      <td>33.0</td>\n",
       "      <td>23.0</td>\n",
       "      <td>1113</td>\n",
       "      <td>17.0</td>\n",
       "      <td>1315</td>\n",
       "      <td>...</td>\n",
       "      <td>1358463.0</td>\n",
       "      <td>4</td>\n",
       "      <td>0</td>\n",
       "      <td>41.961132</td>\n",
       "      <td>-87.699626</td>\n",
       "      <td>0</td>\n",
       "      <td>2006</td>\n",
       "      <td>2006.0</td>\n",
       "      <td>1.0</td>\n",
       "      <td>1</td>\n",
       "    </tr>\n",
       "    <tr>\n",
       "      <th>2</th>\n",
       "      <td>345008</td>\n",
       "      <td>1</td>\n",
       "      <td>466</td>\n",
       "      <td>16</td>\n",
       "      <td>944</td>\n",
       "      <td>0.0</td>\n",
       "      <td>0.0</td>\n",
       "      <td>50</td>\n",
       "      <td>0.0</td>\n",
       "      <td>1011</td>\n",
       "      <td>...</td>\n",
       "      <td>1980233.0</td>\n",
       "      <td>3</td>\n",
       "      <td>0</td>\n",
       "      <td>41.880952</td>\n",
       "      <td>-87.681165</td>\n",
       "      <td>1</td>\n",
       "      <td>2009</td>\n",
       "      <td>2009.0</td>\n",
       "      <td>2.0</td>\n",
       "      <td>1</td>\n",
       "    </tr>\n",
       "  </tbody>\n",
       "</table>\n",
       "<p>3 rows × 21 columns</p>\n",
       "</div>"
      ],
      "text/plain": [
       "   ACCOUNT NUMBER  SITE NUMBER  CITY  STATE  ZIP CODE  WARD  PRECINCT  \\\n",
       "0           32811            1   193     16      1470  22.0      28.0   \n",
       "1          262311           29   193     16      1460  33.0      23.0   \n",
       "2          345008            1   466     16       944   0.0       0.0   \n",
       "\n",
       "   WARD PRECINCT  POLICE DISTRICT  LICENSE CODE  ...  LICENSE NUMBER  \\\n",
       "0            632             10.0          1010  ...         35342.0   \n",
       "1           1113             17.0          1315  ...       1358463.0   \n",
       "2             50              0.0          1011  ...       1980233.0   \n",
       "\n",
       "   APPLICATION TYPE  CONDITIONAL APPROVAL   LATITUDE  LONGITUDE  \\\n",
       "0                 4                     0  41.843613 -87.714618   \n",
       "1                 4                     0  41.961132 -87.699626   \n",
       "2                 3                     0  41.880952 -87.681165   \n",
       "\n",
       "   LICENSE STATUS  DATE ISSUED YEAR  LICENSE STATUS CHANGE YEAR  \\\n",
       "0               1              2006                      2009.0   \n",
       "1               0              2006                      2006.0   \n",
       "2               1              2009                      2009.0   \n",
       "\n",
       "   LICENSE VALIDITY  LEGAL TYPE  \n",
       "0               1.0           4  \n",
       "1               1.0           1  \n",
       "2               2.0           1  \n",
       "\n",
       "[3 rows x 21 columns]"
      ]
     },
     "execution_count": 306,
     "metadata": {},
     "output_type": "execute_result"
    }
   ],
   "source": [
    "Train.head(3)"
   ]
  },
  {
   "cell_type": "code",
   "execution_count": 307,
   "id": "8f1fc31f",
   "metadata": {},
   "outputs": [
    {
     "data": {
      "text/html": [
       "<div>\n",
       "<style scoped>\n",
       "    .dataframe tbody tr th:only-of-type {\n",
       "        vertical-align: middle;\n",
       "    }\n",
       "\n",
       "    .dataframe tbody tr th {\n",
       "        vertical-align: top;\n",
       "    }\n",
       "\n",
       "    .dataframe thead th {\n",
       "        text-align: right;\n",
       "    }\n",
       "</style>\n",
       "<table border=\"1\" class=\"dataframe\">\n",
       "  <thead>\n",
       "    <tr style=\"text-align: right;\">\n",
       "      <th></th>\n",
       "      <th>ACCOUNT NUMBER</th>\n",
       "      <th>SITE NUMBER</th>\n",
       "      <th>CITY</th>\n",
       "      <th>STATE</th>\n",
       "      <th>ZIP CODE</th>\n",
       "      <th>WARD</th>\n",
       "      <th>PRECINCT</th>\n",
       "      <th>WARD PRECINCT</th>\n",
       "      <th>POLICE DISTRICT</th>\n",
       "      <th>LICENSE CODE</th>\n",
       "      <th>LICENSE DESCRIPTION</th>\n",
       "      <th>LICENSE NUMBER</th>\n",
       "      <th>APPLICATION TYPE</th>\n",
       "      <th>CONDITIONAL APPROVAL</th>\n",
       "      <th>LATITUDE</th>\n",
       "      <th>LONGITUDE</th>\n",
       "      <th>DATE ISSUED YEAR</th>\n",
       "      <th>LICENSE STATUS CHANGE YEAR</th>\n",
       "      <th>LICENSE VALIDITY</th>\n",
       "      <th>LEGAL TYPE</th>\n",
       "    </tr>\n",
       "  </thead>\n",
       "  <tbody>\n",
       "    <tr>\n",
       "      <th>0</th>\n",
       "      <td>280120</td>\n",
       "      <td>1</td>\n",
       "      <td>59</td>\n",
       "      <td>13</td>\n",
       "      <td>256</td>\n",
       "      <td>42.0</td>\n",
       "      <td>67.0</td>\n",
       "      <td>1588</td>\n",
       "      <td>18.0</td>\n",
       "      <td>1020</td>\n",
       "      <td>81</td>\n",
       "      <td>1516615</td>\n",
       "      <td>5</td>\n",
       "      <td>0</td>\n",
       "      <td>41.890047</td>\n",
       "      <td>-87.637467</td>\n",
       "      <td>2012</td>\n",
       "      <td>2012.0</td>\n",
       "      <td>2.0</td>\n",
       "      <td>2</td>\n",
       "    </tr>\n",
       "    <tr>\n",
       "      <th>1</th>\n",
       "      <td>65043</td>\n",
       "      <td>1</td>\n",
       "      <td>59</td>\n",
       "      <td>13</td>\n",
       "      <td>281</td>\n",
       "      <td>16.0</td>\n",
       "      <td>5.0</td>\n",
       "      <td>344</td>\n",
       "      <td>7.0</td>\n",
       "      <td>1010</td>\n",
       "      <td>47</td>\n",
       "      <td>69813</td>\n",
       "      <td>5</td>\n",
       "      <td>0</td>\n",
       "      <td>41.786485</td>\n",
       "      <td>-87.676665</td>\n",
       "      <td>2012</td>\n",
       "      <td>2012.0</td>\n",
       "      <td>2.0</td>\n",
       "      <td>1</td>\n",
       "    </tr>\n",
       "    <tr>\n",
       "      <th>2</th>\n",
       "      <td>281270</td>\n",
       "      <td>1</td>\n",
       "      <td>59</td>\n",
       "      <td>13</td>\n",
       "      <td>251</td>\n",
       "      <td>4.0</td>\n",
       "      <td>8.0</td>\n",
       "      <td>86</td>\n",
       "      <td>1.0</td>\n",
       "      <td>1020</td>\n",
       "      <td>81</td>\n",
       "      <td>1519227</td>\n",
       "      <td>5</td>\n",
       "      <td>0</td>\n",
       "      <td>41.868269</td>\n",
       "      <td>-87.625695</td>\n",
       "      <td>2004</td>\n",
       "      <td>2011.0</td>\n",
       "      <td>1.0</td>\n",
       "      <td>0</td>\n",
       "    </tr>\n",
       "  </tbody>\n",
       "</table>\n",
       "</div>"
      ],
      "text/plain": [
       "   ACCOUNT NUMBER  SITE NUMBER  CITY  STATE  ZIP CODE  WARD  PRECINCT  \\\n",
       "0          280120            1    59     13       256  42.0      67.0   \n",
       "1           65043            1    59     13       281  16.0       5.0   \n",
       "2          281270            1    59     13       251   4.0       8.0   \n",
       "\n",
       "   WARD PRECINCT  POLICE DISTRICT  LICENSE CODE  LICENSE DESCRIPTION  \\\n",
       "0           1588             18.0          1020                   81   \n",
       "1            344              7.0          1010                   47   \n",
       "2             86              1.0          1020                   81   \n",
       "\n",
       "   LICENSE NUMBER  APPLICATION TYPE  CONDITIONAL APPROVAL   LATITUDE  \\\n",
       "0         1516615                 5                     0  41.890047   \n",
       "1           69813                 5                     0  41.786485   \n",
       "2         1519227                 5                     0  41.868269   \n",
       "\n",
       "   LONGITUDE  DATE ISSUED YEAR  LICENSE STATUS CHANGE YEAR  LICENSE VALIDITY  \\\n",
       "0 -87.637467              2012                      2012.0               2.0   \n",
       "1 -87.676665              2012                      2012.0               2.0   \n",
       "2 -87.625695              2004                      2011.0               1.0   \n",
       "\n",
       "   LEGAL TYPE  \n",
       "0           2  \n",
       "1           1  \n",
       "2           0  "
      ]
     },
     "execution_count": 307,
     "metadata": {},
     "output_type": "execute_result"
    }
   ],
   "source": [
    "Test.head(3)"
   ]
  },
  {
   "cell_type": "code",
   "execution_count": 308,
   "id": "d131a5ce",
   "metadata": {},
   "outputs": [
    {
     "data": {
      "text/plain": [
       "ACCOUNT NUMBER                  int64\n",
       "SITE NUMBER                     int64\n",
       "CITY                            int32\n",
       "STATE                           int32\n",
       "ZIP CODE                        int32\n",
       "WARD                          float64\n",
       "PRECINCT                      float64\n",
       "WARD PRECINCT                   int32\n",
       "POLICE DISTRICT               float64\n",
       "LICENSE CODE                    int64\n",
       "LICENSE DESCRIPTION             int32\n",
       "LICENSE NUMBER                float64\n",
       "APPLICATION TYPE                int32\n",
       "CONDITIONAL APPROVAL            int32\n",
       "LATITUDE                      float64\n",
       "LONGITUDE                     float64\n",
       "LICENSE STATUS                  int32\n",
       "DATE ISSUED YEAR                int64\n",
       "LICENSE STATUS CHANGE YEAR    float64\n",
       "LICENSE VALIDITY              float64\n",
       "LEGAL TYPE                      int32\n",
       "dtype: object"
      ]
     },
     "execution_count": 308,
     "metadata": {},
     "output_type": "execute_result"
    }
   ],
   "source": [
    "Train.dtypes"
   ]
  },
  {
   "cell_type": "code",
   "execution_count": 309,
   "id": "984231f6",
   "metadata": {},
   "outputs": [
    {
     "data": {
      "text/plain": [
       "ACCOUNT NUMBER                  int64\n",
       "SITE NUMBER                     int64\n",
       "CITY                            int32\n",
       "STATE                           int32\n",
       "ZIP CODE                        int32\n",
       "WARD                          float64\n",
       "PRECINCT                      float64\n",
       "WARD PRECINCT                   int32\n",
       "POLICE DISTRICT               float64\n",
       "LICENSE CODE                    int64\n",
       "LICENSE DESCRIPTION             int32\n",
       "LICENSE NUMBER                  int64\n",
       "APPLICATION TYPE                int32\n",
       "CONDITIONAL APPROVAL            int32\n",
       "LATITUDE                      float64\n",
       "LONGITUDE                     float64\n",
       "DATE ISSUED YEAR                int64\n",
       "LICENSE STATUS CHANGE YEAR    float64\n",
       "LICENSE VALIDITY              float64\n",
       "LEGAL TYPE                      int32\n",
       "dtype: object"
      ]
     },
     "execution_count": 309,
     "metadata": {},
     "output_type": "execute_result"
    }
   ],
   "source": [
    "Test.dtypes"
   ]
  },
  {
   "cell_type": "markdown",
   "id": "0d653783",
   "metadata": {},
   "source": [
    "**All the variables are numeric.**"
   ]
  },
  {
   "cell_type": "markdown",
   "id": "7710816f",
   "metadata": {},
   "source": [
    "## Sampling the data"
   ]
  },
  {
   "cell_type": "markdown",
   "id": "ba8b5ec5",
   "metadata": {},
   "source": [
    "**We will oversample the data of REA, REV since we have very few records of those in the training set. We will also \n",
    "undersample the data of AAC and AAI since we have abundance of their data which may add bias to our model. Hence we \n",
    "will train our model on a very balanced data.**"
   ]
  },
  {
   "cell_type": "code",
   "execution_count": 310,
   "id": "0567004c",
   "metadata": {},
   "outputs": [
    {
     "data": {
      "text/html": [
       "<div>\n",
       "<style scoped>\n",
       "    .dataframe tbody tr th:only-of-type {\n",
       "        vertical-align: middle;\n",
       "    }\n",
       "\n",
       "    .dataframe tbody tr th {\n",
       "        vertical-align: top;\n",
       "    }\n",
       "\n",
       "    .dataframe thead th {\n",
       "        text-align: right;\n",
       "    }\n",
       "</style>\n",
       "<table border=\"1\" class=\"dataframe\">\n",
       "  <thead>\n",
       "    <tr style=\"text-align: right;\">\n",
       "      <th></th>\n",
       "      <th>ACCOUNT NUMBER</th>\n",
       "      <th>SITE NUMBER</th>\n",
       "      <th>CITY</th>\n",
       "      <th>STATE</th>\n",
       "      <th>ZIP CODE</th>\n",
       "      <th>WARD</th>\n",
       "      <th>PRECINCT</th>\n",
       "      <th>WARD PRECINCT</th>\n",
       "      <th>POLICE DISTRICT</th>\n",
       "      <th>LICENSE CODE</th>\n",
       "      <th>...</th>\n",
       "      <th>LICENSE NUMBER</th>\n",
       "      <th>APPLICATION TYPE</th>\n",
       "      <th>CONDITIONAL APPROVAL</th>\n",
       "      <th>LATITUDE</th>\n",
       "      <th>LONGITUDE</th>\n",
       "      <th>LICENSE STATUS</th>\n",
       "      <th>DATE ISSUED YEAR</th>\n",
       "      <th>LICENSE STATUS CHANGE YEAR</th>\n",
       "      <th>LICENSE VALIDITY</th>\n",
       "      <th>LEGAL TYPE</th>\n",
       "    </tr>\n",
       "  </thead>\n",
       "  <tbody>\n",
       "    <tr>\n",
       "      <th>18145</th>\n",
       "      <td>9344</td>\n",
       "      <td>1</td>\n",
       "      <td>193</td>\n",
       "      <td>16</td>\n",
       "      <td>1442</td>\n",
       "      <td>15.0</td>\n",
       "      <td>16.0</td>\n",
       "      <td>267</td>\n",
       "      <td>9.0</td>\n",
       "      <td>1470</td>\n",
       "      <td>...</td>\n",
       "      <td>22695.0</td>\n",
       "      <td>4</td>\n",
       "      <td>0</td>\n",
       "      <td>41.815754</td>\n",
       "      <td>-87.665853</td>\n",
       "      <td>4</td>\n",
       "      <td>2010</td>\n",
       "      <td>2010.0</td>\n",
       "      <td>2.0</td>\n",
       "      <td>1</td>\n",
       "    </tr>\n",
       "    <tr>\n",
       "      <th>59068</th>\n",
       "      <td>376132</td>\n",
       "      <td>1</td>\n",
       "      <td>193</td>\n",
       "      <td>16</td>\n",
       "      <td>1462</td>\n",
       "      <td>6.0</td>\n",
       "      <td>0.0</td>\n",
       "      <td>46</td>\n",
       "      <td>0.0</td>\n",
       "      <td>1012</td>\n",
       "      <td>...</td>\n",
       "      <td>2192538.0</td>\n",
       "      <td>3</td>\n",
       "      <td>0</td>\n",
       "      <td>41.756237</td>\n",
       "      <td>-87.623254</td>\n",
       "      <td>0</td>\n",
       "      <td>2012</td>\n",
       "      <td>2012.0</td>\n",
       "      <td>2.0</td>\n",
       "      <td>2</td>\n",
       "    </tr>\n",
       "    <tr>\n",
       "      <th>40866</th>\n",
       "      <td>321342</td>\n",
       "      <td>1</td>\n",
       "      <td>193</td>\n",
       "      <td>16</td>\n",
       "      <td>1470</td>\n",
       "      <td>24.0</td>\n",
       "      <td>37.0</td>\n",
       "      <td>709</td>\n",
       "      <td>10.0</td>\n",
       "      <td>1010</td>\n",
       "      <td>...</td>\n",
       "      <td>1845458.0</td>\n",
       "      <td>4</td>\n",
       "      <td>0</td>\n",
       "      <td>41.859074</td>\n",
       "      <td>-87.715909</td>\n",
       "      <td>4</td>\n",
       "      <td>2010</td>\n",
       "      <td>2013.0</td>\n",
       "      <td>2.0</td>\n",
       "      <td>1</td>\n",
       "    </tr>\n",
       "    <tr>\n",
       "      <th>72792</th>\n",
       "      <td>10848</td>\n",
       "      <td>1</td>\n",
       "      <td>193</td>\n",
       "      <td>16</td>\n",
       "      <td>1499</td>\n",
       "      <td>31.0</td>\n",
       "      <td>10.0</td>\n",
       "      <td>1059</td>\n",
       "      <td>25.0</td>\n",
       "      <td>1474</td>\n",
       "      <td>...</td>\n",
       "      <td>26355.0</td>\n",
       "      <td>4</td>\n",
       "      <td>0</td>\n",
       "      <td>41.924508</td>\n",
       "      <td>-87.733980</td>\n",
       "      <td>4</td>\n",
       "      <td>2007</td>\n",
       "      <td>2007.0</td>\n",
       "      <td>2.0</td>\n",
       "      <td>1</td>\n",
       "    </tr>\n",
       "    <tr>\n",
       "      <th>76817</th>\n",
       "      <td>53529</td>\n",
       "      <td>1</td>\n",
       "      <td>193</td>\n",
       "      <td>16</td>\n",
       "      <td>1456</td>\n",
       "      <td>25.0</td>\n",
       "      <td>14.0</td>\n",
       "      <td>742</td>\n",
       "      <td>9.0</td>\n",
       "      <td>1010</td>\n",
       "      <td>...</td>\n",
       "      <td>30333.0</td>\n",
       "      <td>4</td>\n",
       "      <td>0</td>\n",
       "      <td>41.848925</td>\n",
       "      <td>-87.632076</td>\n",
       "      <td>4</td>\n",
       "      <td>2008</td>\n",
       "      <td>2011.0</td>\n",
       "      <td>2.0</td>\n",
       "      <td>4</td>\n",
       "    </tr>\n",
       "    <tr>\n",
       "      <th>...</th>\n",
       "      <td>...</td>\n",
       "      <td>...</td>\n",
       "      <td>...</td>\n",
       "      <td>...</td>\n",
       "      <td>...</td>\n",
       "      <td>...</td>\n",
       "      <td>...</td>\n",
       "      <td>...</td>\n",
       "      <td>...</td>\n",
       "      <td>...</td>\n",
       "      <td>...</td>\n",
       "      <td>...</td>\n",
       "      <td>...</td>\n",
       "      <td>...</td>\n",
       "      <td>...</td>\n",
       "      <td>...</td>\n",
       "      <td>...</td>\n",
       "      <td>...</td>\n",
       "      <td>...</td>\n",
       "      <td>...</td>\n",
       "      <td>...</td>\n",
       "    </tr>\n",
       "    <tr>\n",
       "      <th>25791</th>\n",
       "      <td>7917</td>\n",
       "      <td>1</td>\n",
       "      <td>193</td>\n",
       "      <td>16</td>\n",
       "      <td>1524</td>\n",
       "      <td>3.0</td>\n",
       "      <td>38.0</td>\n",
       "      <td>2215</td>\n",
       "      <td>2.0</td>\n",
       "      <td>1006</td>\n",
       "      <td>...</td>\n",
       "      <td>19322.0</td>\n",
       "      <td>4</td>\n",
       "      <td>0</td>\n",
       "      <td>41.823931</td>\n",
       "      <td>-87.617911</td>\n",
       "      <td>4</td>\n",
       "      <td>2011</td>\n",
       "      <td>2012.0</td>\n",
       "      <td>2.0</td>\n",
       "      <td>1</td>\n",
       "    </tr>\n",
       "    <tr>\n",
       "      <th>10661</th>\n",
       "      <td>326515</td>\n",
       "      <td>1</td>\n",
       "      <td>193</td>\n",
       "      <td>16</td>\n",
       "      <td>1444</td>\n",
       "      <td>2.0</td>\n",
       "      <td>33.0</td>\n",
       "      <td>2039</td>\n",
       "      <td>18.0</td>\n",
       "      <td>1524</td>\n",
       "      <td>...</td>\n",
       "      <td>1894285.0</td>\n",
       "      <td>4</td>\n",
       "      <td>0</td>\n",
       "      <td>41.911052</td>\n",
       "      <td>-87.632255</td>\n",
       "      <td>4</td>\n",
       "      <td>2012</td>\n",
       "      <td>2012.0</td>\n",
       "      <td>2.0</td>\n",
       "      <td>0</td>\n",
       "    </tr>\n",
       "    <tr>\n",
       "      <th>62245</th>\n",
       "      <td>30562</td>\n",
       "      <td>1</td>\n",
       "      <td>464</td>\n",
       "      <td>16</td>\n",
       "      <td>1277</td>\n",
       "      <td>0.0</td>\n",
       "      <td>0.0</td>\n",
       "      <td>50</td>\n",
       "      <td>0.0</td>\n",
       "      <td>1010</td>\n",
       "      <td>...</td>\n",
       "      <td>26505.0</td>\n",
       "      <td>4</td>\n",
       "      <td>0</td>\n",
       "      <td>41.880952</td>\n",
       "      <td>-87.681165</td>\n",
       "      <td>1</td>\n",
       "      <td>2003</td>\n",
       "      <td>2009.0</td>\n",
       "      <td>1.0</td>\n",
       "      <td>1</td>\n",
       "    </tr>\n",
       "    <tr>\n",
       "      <th>5439</th>\n",
       "      <td>284152</td>\n",
       "      <td>1</td>\n",
       "      <td>193</td>\n",
       "      <td>16</td>\n",
       "      <td>1520</td>\n",
       "      <td>37.0</td>\n",
       "      <td>28.0</td>\n",
       "      <td>1277</td>\n",
       "      <td>25.0</td>\n",
       "      <td>1010</td>\n",
       "      <td>...</td>\n",
       "      <td>1545389.0</td>\n",
       "      <td>4</td>\n",
       "      <td>0</td>\n",
       "      <td>41.907488</td>\n",
       "      <td>-87.746205</td>\n",
       "      <td>0</td>\n",
       "      <td>2005</td>\n",
       "      <td>2006.0</td>\n",
       "      <td>1.0</td>\n",
       "      <td>4</td>\n",
       "    </tr>\n",
       "    <tr>\n",
       "      <th>41199</th>\n",
       "      <td>50251</td>\n",
       "      <td>1</td>\n",
       "      <td>193</td>\n",
       "      <td>16</td>\n",
       "      <td>1470</td>\n",
       "      <td>22.0</td>\n",
       "      <td>4.0</td>\n",
       "      <td>641</td>\n",
       "      <td>10.0</td>\n",
       "      <td>1470</td>\n",
       "      <td>...</td>\n",
       "      <td>723.0</td>\n",
       "      <td>4</td>\n",
       "      <td>0</td>\n",
       "      <td>41.844408</td>\n",
       "      <td>-87.720957</td>\n",
       "      <td>4</td>\n",
       "      <td>2008</td>\n",
       "      <td>2010.0</td>\n",
       "      <td>2.0</td>\n",
       "      <td>1</td>\n",
       "    </tr>\n",
       "  </tbody>\n",
       "</table>\n",
       "<p>904 rows × 21 columns</p>\n",
       "</div>"
      ],
      "text/plain": [
       "       ACCOUNT NUMBER  SITE NUMBER  CITY  STATE  ZIP CODE  WARD  PRECINCT  \\\n",
       "18145            9344            1   193     16      1442  15.0      16.0   \n",
       "59068          376132            1   193     16      1462   6.0       0.0   \n",
       "40866          321342            1   193     16      1470  24.0      37.0   \n",
       "72792           10848            1   193     16      1499  31.0      10.0   \n",
       "76817           53529            1   193     16      1456  25.0      14.0   \n",
       "...               ...          ...   ...    ...       ...   ...       ...   \n",
       "25791            7917            1   193     16      1524   3.0      38.0   \n",
       "10661          326515            1   193     16      1444   2.0      33.0   \n",
       "62245           30562            1   464     16      1277   0.0       0.0   \n",
       "5439           284152            1   193     16      1520  37.0      28.0   \n",
       "41199           50251            1   193     16      1470  22.0       4.0   \n",
       "\n",
       "       WARD PRECINCT  POLICE DISTRICT  LICENSE CODE  ...  LICENSE NUMBER  \\\n",
       "18145            267              9.0          1470  ...         22695.0   \n",
       "59068             46              0.0          1012  ...       2192538.0   \n",
       "40866            709             10.0          1010  ...       1845458.0   \n",
       "72792           1059             25.0          1474  ...         26355.0   \n",
       "76817            742              9.0          1010  ...         30333.0   \n",
       "...              ...              ...           ...  ...             ...   \n",
       "25791           2215              2.0          1006  ...         19322.0   \n",
       "10661           2039             18.0          1524  ...       1894285.0   \n",
       "62245             50              0.0          1010  ...         26505.0   \n",
       "5439            1277             25.0          1010  ...       1545389.0   \n",
       "41199            641             10.0          1470  ...           723.0   \n",
       "\n",
       "       APPLICATION TYPE  CONDITIONAL APPROVAL   LATITUDE  LONGITUDE  \\\n",
       "18145                 4                     0  41.815754 -87.665853   \n",
       "59068                 3                     0  41.756237 -87.623254   \n",
       "40866                 4                     0  41.859074 -87.715909   \n",
       "72792                 4                     0  41.924508 -87.733980   \n",
       "76817                 4                     0  41.848925 -87.632076   \n",
       "...                 ...                   ...        ...        ...   \n",
       "25791                 4                     0  41.823931 -87.617911   \n",
       "10661                 4                     0  41.911052 -87.632255   \n",
       "62245                 4                     0  41.880952 -87.681165   \n",
       "5439                  4                     0  41.907488 -87.746205   \n",
       "41199                 4                     0  41.844408 -87.720957   \n",
       "\n",
       "       LICENSE STATUS  DATE ISSUED YEAR  LICENSE STATUS CHANGE YEAR  \\\n",
       "18145               4              2010                      2010.0   \n",
       "59068               0              2012                      2012.0   \n",
       "40866               4              2010                      2013.0   \n",
       "72792               4              2007                      2007.0   \n",
       "76817               4              2008                      2011.0   \n",
       "...               ...               ...                         ...   \n",
       "25791               4              2011                      2012.0   \n",
       "10661               4              2012                      2012.0   \n",
       "62245               1              2003                      2009.0   \n",
       "5439                0              2005                      2006.0   \n",
       "41199               4              2008                      2010.0   \n",
       "\n",
       "       LICENSE VALIDITY  LEGAL TYPE  \n",
       "18145               2.0           1  \n",
       "59068               2.0           2  \n",
       "40866               2.0           1  \n",
       "72792               2.0           1  \n",
       "76817               2.0           4  \n",
       "...                 ...         ...  \n",
       "25791               2.0           1  \n",
       "10661               2.0           0  \n",
       "62245               1.0           1  \n",
       "5439                1.0           4  \n",
       "41199               2.0           1  \n",
       "\n",
       "[904 rows x 21 columns]"
      ]
     },
     "execution_count": 310,
     "metadata": {},
     "output_type": "execute_result"
    }
   ],
   "source": [
    "# Since our classes are highly skewed we should make them equivalent in order to have a normal distribution of the classes.\n",
    "\n",
    "# Lets shuffle the data before creating the subsamples\n",
    "\n",
    "Train = Train.sample(frac=1)\n",
    "\n",
    "# Amount of fraud classes in proportion.\n",
    "INQ = Train[Train['LICENSE STATUS'] == 2]\n",
    "REA = Train[Train['LICENSE STATUS'] == 3]\n",
    "REV = Train[Train['LICENSE STATUS'] == 4]\n",
    "AAC = Train[Train['LICENSE STATUS'] == 0][:290]\n",
    "AAI = Train[Train['LICENSE STATUS'] == 1][:300]\n",
    "\n",
    "normal_distributed_df = pd.concat([INQ, REA, REV, AAC, AAI, INQ, INQ, INQ, INQ, REA, REA, INQ, REA])\n",
    "\n",
    "# Shuffle dataframe rows\n",
    "New_Train = normal_distributed_df.sample(frac=1, random_state=42)\n",
    "\n",
    "New_Train\n"
   ]
  },
  {
   "cell_type": "code",
   "execution_count": 311,
   "id": "30767def",
   "metadata": {},
   "outputs": [
    {
     "name": "stderr",
     "output_type": "stream",
     "text": [
      "C:\\Users\\Bharti Lenday\\anaconda3\\lib\\site-packages\\seaborn\\_decorators.py:36: FutureWarning: Pass the following variable as a keyword arg: x. From version 0.12, the only valid positional argument will be `data`, and passing other arguments without an explicit keyword will result in an error or misinterpretation.\n",
      "  warnings.warn(\n"
     ]
    },
    {
     "data": {
      "image/png": "[encoded data removed]",
      "text/plain": [
       "<Figure size 432x288 with 1 Axes>"
      ]
     },
     "metadata": {
      "needs_background": "light"
     },
     "output_type": "display_data"
    }
   ],
   "source": [
    "plt.title('Distribution of target variable')\n",
    "sns.countplot(New_Train['LICENSE STATUS'])\n",
    "plt.show()"
   ]
  },
  {
   "cell_type": "code",
   "execution_count": 312,
   "id": "c93d4357",
   "metadata": {},
   "outputs": [
    {
     "data": {
      "text/plain": [
       "1    300\n",
       "4    290\n",
       "0    290\n",
       "2     12\n",
       "3     12\n",
       "Name: LICENSE STATUS, dtype: int64"
      ]
     },
     "execution_count": 312,
     "metadata": {},
     "output_type": "execute_result"
    }
   ],
   "source": [
    "New_Train['LICENSE STATUS'].value_counts()"
   ]
  },
  {
   "cell_type": "markdown",
   "id": "cfb1adf5",
   "metadata": {},
   "source": [
    "**We can see from the above graph that our data is well balanced now. We will train our model on this data.**"
   ]
  },
  {
   "cell_type": "markdown",
   "id": "db012fea",
   "metadata": {},
   "source": [
    "**Saperating The Input and Output Variables.**"
   ]
  },
  {
   "cell_type": "code",
   "execution_count": 313,
   "id": "ee863f81",
   "metadata": {},
   "outputs": [],
   "source": [
    "# Splitting the data into Independent and Dependent variables.\n",
    "\n",
    "X = New_Train.drop('LICENSE STATUS', axis=1)\n",
    "Y = New_Train['LICENSE STATUS']"
   ]
  },
  {
   "cell_type": "code",
   "execution_count": 314,
   "id": "d4190b34",
   "metadata": {},
   "outputs": [
    {
     "name": "stdout",
     "output_type": "stream",
     "text": [
      "(904, 20)\n",
      "(904,)\n"
     ]
    }
   ],
   "source": [
    "# Let's check the Shape of Input and Output variables.\n",
    "\n",
    "print(X.shape)\n",
    "print(Y.shape)"
   ]
  },
  {
   "cell_type": "code",
   "execution_count": 315,
   "id": "c6f3f5ee",
   "metadata": {},
   "outputs": [
    {
     "data": {
      "text/html": [
       "<div>\n",
       "<style scoped>\n",
       "    .dataframe tbody tr th:only-of-type {\n",
       "        vertical-align: middle;\n",
       "    }\n",
       "\n",
       "    .dataframe tbody tr th {\n",
       "        vertical-align: top;\n",
       "    }\n",
       "\n",
       "    .dataframe thead th {\n",
       "        text-align: right;\n",
       "    }\n",
       "</style>\n",
       "<table border=\"1\" class=\"dataframe\">\n",
       "  <thead>\n",
       "    <tr style=\"text-align: right;\">\n",
       "      <th></th>\n",
       "      <th>ACCOUNT NUMBER</th>\n",
       "      <th>SITE NUMBER</th>\n",
       "      <th>CITY</th>\n",
       "      <th>STATE</th>\n",
       "      <th>ZIP CODE</th>\n",
       "      <th>WARD</th>\n",
       "      <th>PRECINCT</th>\n",
       "      <th>WARD PRECINCT</th>\n",
       "      <th>POLICE DISTRICT</th>\n",
       "      <th>LICENSE CODE</th>\n",
       "      <th>LICENSE DESCRIPTION</th>\n",
       "      <th>LICENSE NUMBER</th>\n",
       "      <th>APPLICATION TYPE</th>\n",
       "      <th>CONDITIONAL APPROVAL</th>\n",
       "      <th>LATITUDE</th>\n",
       "      <th>LONGITUDE</th>\n",
       "      <th>DATE ISSUED YEAR</th>\n",
       "      <th>LICENSE STATUS CHANGE YEAR</th>\n",
       "      <th>LICENSE VALIDITY</th>\n",
       "      <th>LEGAL TYPE</th>\n",
       "    </tr>\n",
       "  </thead>\n",
       "  <tbody>\n",
       "    <tr>\n",
       "      <th>18145</th>\n",
       "      <td>9344</td>\n",
       "      <td>1</td>\n",
       "      <td>193</td>\n",
       "      <td>16</td>\n",
       "      <td>1442</td>\n",
       "      <td>15.0</td>\n",
       "      <td>16.0</td>\n",
       "      <td>267</td>\n",
       "      <td>9.0</td>\n",
       "      <td>1470</td>\n",
       "      <td>77</td>\n",
       "      <td>22695.0</td>\n",
       "      <td>4</td>\n",
       "      <td>0</td>\n",
       "      <td>41.815754</td>\n",
       "      <td>-87.665853</td>\n",
       "      <td>2010</td>\n",
       "      <td>2010.0</td>\n",
       "      <td>2.0</td>\n",
       "      <td>1</td>\n",
       "    </tr>\n",
       "    <tr>\n",
       "      <th>59068</th>\n",
       "      <td>376132</td>\n",
       "      <td>1</td>\n",
       "      <td>193</td>\n",
       "      <td>16</td>\n",
       "      <td>1462</td>\n",
       "      <td>6.0</td>\n",
       "      <td>0.0</td>\n",
       "      <td>46</td>\n",
       "      <td>0.0</td>\n",
       "      <td>1012</td>\n",
       "      <td>29</td>\n",
       "      <td>2192538.0</td>\n",
       "      <td>3</td>\n",
       "      <td>0</td>\n",
       "      <td>41.756237</td>\n",
       "      <td>-87.623254</td>\n",
       "      <td>2012</td>\n",
       "      <td>2012.0</td>\n",
       "      <td>2.0</td>\n",
       "      <td>2</td>\n",
       "    </tr>\n",
       "    <tr>\n",
       "      <th>40866</th>\n",
       "      <td>321342</td>\n",
       "      <td>1</td>\n",
       "      <td>193</td>\n",
       "      <td>16</td>\n",
       "      <td>1470</td>\n",
       "      <td>24.0</td>\n",
       "      <td>37.0</td>\n",
       "      <td>709</td>\n",
       "      <td>10.0</td>\n",
       "      <td>1010</td>\n",
       "      <td>40</td>\n",
       "      <td>1845458.0</td>\n",
       "      <td>4</td>\n",
       "      <td>0</td>\n",
       "      <td>41.859074</td>\n",
       "      <td>-87.715909</td>\n",
       "      <td>2010</td>\n",
       "      <td>2013.0</td>\n",
       "      <td>2.0</td>\n",
       "      <td>1</td>\n",
       "    </tr>\n",
       "  </tbody>\n",
       "</table>\n",
       "</div>"
      ],
      "text/plain": [
       "       ACCOUNT NUMBER  SITE NUMBER  CITY  STATE  ZIP CODE  WARD  PRECINCT  \\\n",
       "18145            9344            1   193     16      1442  15.0      16.0   \n",
       "59068          376132            1   193     16      1462   6.0       0.0   \n",
       "40866          321342            1   193     16      1470  24.0      37.0   \n",
       "\n",
       "       WARD PRECINCT  POLICE DISTRICT  LICENSE CODE  LICENSE DESCRIPTION  \\\n",
       "18145            267              9.0          1470                   77   \n",
       "59068             46              0.0          1012                   29   \n",
       "40866            709             10.0          1010                   40   \n",
       "\n",
       "       LICENSE NUMBER  APPLICATION TYPE  CONDITIONAL APPROVAL   LATITUDE  \\\n",
       "18145         22695.0                 4                     0  41.815754   \n",
       "59068       2192538.0                 3                     0  41.756237   \n",
       "40866       1845458.0                 4                     0  41.859074   \n",
       "\n",
       "       LONGITUDE  DATE ISSUED YEAR  LICENSE STATUS CHANGE YEAR  \\\n",
       "18145 -87.665853              2010                      2010.0   \n",
       "59068 -87.623254              2012                      2012.0   \n",
       "40866 -87.715909              2010                      2013.0   \n",
       "\n",
       "       LICENSE VALIDITY  LEGAL TYPE  \n",
       "18145               2.0           1  \n",
       "59068               2.0           2  \n",
       "40866               2.0           1  "
      ]
     },
     "execution_count": 315,
     "metadata": {},
     "output_type": "execute_result"
    }
   ],
   "source": [
    "# Checking the Independent variables.\n",
    "\n",
    "X.head(3)"
   ]
  },
  {
   "cell_type": "code",
   "execution_count": 316,
   "id": "b33c352c",
   "metadata": {},
   "outputs": [
    {
     "data": {
      "text/plain": [
       "18145    4\n",
       "59068    0\n",
       "40866    4\n",
       "72792    4\n",
       "76817    4\n",
       "Name: LICENSE STATUS, dtype: int32"
      ]
     },
     "execution_count": 316,
     "metadata": {},
     "output_type": "execute_result"
    }
   ],
   "source": [
    "# Checking the Dependent variable.\n",
    "\n",
    "Y.head()"
   ]
  },
  {
   "cell_type": "markdown",
   "id": "dd1af84b",
   "metadata": {},
   "source": [
    "### Splitting the Train data"
   ]
  },
  {
   "cell_type": "markdown",
   "id": "a12e4fe0",
   "metadata": {},
   "source": [
    "**Splitting the Train data into train and test set, ratio being 75% and 25% respectively.**"
   ]
  },
  {
   "cell_type": "code",
   "execution_count": 317,
   "id": "a05994c8",
   "metadata": {},
   "outputs": [],
   "source": [
    "# Splitting the data into training set and testset\n",
    "from sklearn.model_selection import train_test_split\n",
    "X_train, X_test, Y_train, Y_test = train_test_split(X,Y, test_size = 0.25, random_state = 42)"
   ]
  },
  {
   "cell_type": "code",
   "execution_count": 318,
   "id": "b62819d0",
   "metadata": {},
   "outputs": [],
   "source": [
    "# A function to create confusion matrix function to find out sensitivity and specificity\n",
    "from sklearn.metrics import confusion_matrix\n",
    "def draw_cm(actual, predicted):\n",
    "    cm = confusion_matrix( actual, predicted, [1,0]).T\n",
    "    sns.heatmap(cm, annot=True,  fmt='.2f', xticklabels = [\"Yes\",\"No\"] , yticklabels = [\"Yes\",\"No\"] )\n",
    "    plt.ylabel('Predicted')\n",
    "    plt.xlabel('Actual')\n",
    "    plt.show()"
   ]
  },
  {
   "cell_type": "markdown",
   "id": "ca9ddeca",
   "metadata": {},
   "source": [
    "## Model Building"
   ]
  },
  {
   "cell_type": "markdown",
   "id": "23a9b877",
   "metadata": {},
   "source": [
    "### 1)  Logistic Regression"
   ]
  },
  {
   "cell_type": "code",
   "execution_count": 205,
   "id": "a725ad42",
   "metadata": {},
   "outputs": [
    {
     "name": "stderr",
     "output_type": "stream",
     "text": [
      "C:\\Users\\Bharti Lenday\\anaconda3\\lib\\site-packages\\sklearn\\linear_model\\_logistic.py:763: ConvergenceWarning: lbfgs failed to converge (status=1):\n",
      "STOP: TOTAL NO. of ITERATIONS REACHED LIMIT.\n",
      "\n",
      "Increase the number of iterations (max_iter) or scale the data as shown in:\n",
      "    https://scikit-learn.org/stable/modules/preprocessing.html\n",
      "Please also refer to the documentation for alternative solver options:\n",
      "    https://scikit-learn.org/stable/modules/linear_model.html#logistic-regression\n",
      "  n_iter_i = _check_optimize_result(\n"
     ]
    },
    {
     "data": {
      "text/plain": [
       "LogisticRegression()"
      ]
     },
     "execution_count": 205,
     "metadata": {},
     "output_type": "execute_result"
    }
   ],
   "source": [
    "# Import library for LogisticRegression\n",
    "from sklearn.linear_model import LogisticRegression\n",
    "\n",
    "# Create a Logistic regression classifier\n",
    "logreg = LogisticRegression()\n",
    "\n",
    "# Train the model using the training sets \n",
    "logreg.fit(X_train, Y_train)"
   ]
  },
  {
   "cell_type": "code",
   "execution_count": 206,
   "id": "ddb33c68",
   "metadata": {},
   "outputs": [],
   "source": [
    "# Prediction on test data\n",
    "Y_pred = logreg.predict(X_test)"
   ]
  },
  {
   "cell_type": "code",
   "execution_count": 207,
   "id": "fe6735be",
   "metadata": {},
   "outputs": [
    {
     "name": "stdout",
     "output_type": "stream",
     "text": [
      "Total Accuracy :  56.19\n"
     ]
    }
   ],
   "source": [
    "# Calculating the accuracy, precision and the recall\n",
    "acc_logreg = round( metrics.accuracy_score(Y_test, Y_pred) * 100, 2 )\n",
    "print( 'Total Accuracy : ', acc_logreg )"
   ]
  },
  {
   "cell_type": "code",
   "execution_count": 208,
   "id": "f238f64e",
   "metadata": {},
   "outputs": [
    {
     "name": "stderr",
     "output_type": "stream",
     "text": [
      "C:\\Users\\Bharti Lenday\\anaconda3\\lib\\site-packages\\sklearn\\utils\\validation.py:70: FutureWarning: Pass labels=[1, 0] as keyword args. From version 1.0 (renaming of 0.25) passing these as positional arguments will result in an error\n",
      "  warnings.warn(f\"Pass {args_msg} as keyword args. From version \"\n"
     ]
    },
    {
     "data": {
      "image/png": "[encoded data removed]",
      "text/plain": [
       "<Figure size 432x288 with 2 Axes>"
      ]
     },
     "metadata": {
      "needs_background": "light"
     },
     "output_type": "display_data"
    }
   ],
   "source": [
    "# Confusion matrix \n",
    "draw_cm(Y_test, Y_pred)"
   ]
  },
  {
   "cell_type": "markdown",
   "id": "86648b10",
   "metadata": {},
   "source": [
    "### 2)  Gaussian Naive Bayes"
   ]
  },
  {
   "cell_type": "code",
   "execution_count": 209,
   "id": "3ad352ba",
   "metadata": {},
   "outputs": [
    {
     "data": {
      "text/plain": [
       "GaussianNB()"
      ]
     },
     "execution_count": 209,
     "metadata": {},
     "output_type": "execute_result"
    }
   ],
   "source": [
    "# Import library of Gaussian Naive Bayes model\n",
    "from sklearn.naive_bayes import GaussianNB\n",
    "\n",
    "# Create a Gaussian Classifier\n",
    "model = GaussianNB()\n",
    "\n",
    "# Train the model using the training sets \n",
    "model.fit(X_train,Y_train)"
   ]
  },
  {
   "cell_type": "code",
   "execution_count": 210,
   "id": "09ea2b8d",
   "metadata": {},
   "outputs": [
    {
     "name": "stdout",
     "output_type": "stream",
     "text": [
      "Total Accuracy :  62.39\n"
     ]
    }
   ],
   "source": [
    "# Prediction on test set\n",
    "Y_pred = model.predict(X_test)\n",
    "# Calculating the accuracy, precision and the recall\n",
    "acc_nb = round( metrics.accuracy_score(Y_test, Y_pred) * 100, 2 )\n",
    "print( 'Total Accuracy : ', acc_nb )"
   ]
  },
  {
   "cell_type": "code",
   "execution_count": 211,
   "id": "15ae4148",
   "metadata": {},
   "outputs": [
    {
     "name": "stderr",
     "output_type": "stream",
     "text": [
      "C:\\Users\\Bharti Lenday\\anaconda3\\lib\\site-packages\\sklearn\\utils\\validation.py:70: FutureWarning: Pass labels=[1, 0] as keyword args. From version 1.0 (renaming of 0.25) passing these as positional arguments will result in an error\n",
      "  warnings.warn(f\"Pass {args_msg} as keyword args. From version \"\n"
     ]
    },
    {
     "data": {
      "image/png": "[encoded data removed]",
      "text/plain": [
       "<Figure size 432x288 with 2 Axes>"
      ]
     },
     "metadata": {
      "needs_background": "light"
     },
     "output_type": "display_data"
    }
   ],
   "source": [
    "# Confusion matrix \n",
    "draw_cm(Y_test, Y_pred)"
   ]
  },
  {
   "cell_type": "markdown",
   "id": "a73af618",
   "metadata": {},
   "source": [
    "### 3)  Decision Tree Classifier"
   ]
  },
  {
   "cell_type": "code",
   "execution_count": 212,
   "id": "d0172d27",
   "metadata": {},
   "outputs": [
    {
     "data": {
      "text/plain": [
       "DecisionTreeClassifier(criterion='entropy', max_depth=10, max_features='sqrt')"
      ]
     },
     "execution_count": 212,
     "metadata": {},
     "output_type": "execute_result"
    }
   ],
   "source": [
    "# Import Decision tree classifier\n",
    "from sklearn.tree import DecisionTreeClassifier\n",
    "\n",
    "# Create a Decision tree classifier model\n",
    "clf = DecisionTreeClassifier()\n",
    "\n",
    "# Hyperparameter Optimization\n",
    "parameters = [{'max_features': ['log2', 'sqrt','auto'], \n",
    "              'criterion': ['entropy', 'gini'],\n",
    "              'max_depth': [2, 3, 5, 10], \n",
    "              'min_samples_split': [2, 3, 50, 100],\n",
    "              'min_samples_leaf': [1, 5, 8, 10]\n",
    "             }]\n",
    "# Run the grid search\n",
    "grid_obj = GridSearchCV(clf, parameters)\n",
    "grid_obj = grid_obj.fit(X_train, Y_train)\n",
    "\n",
    "# Set the clf to the best combination of parameters\n",
    "clf = grid_obj.best_estimator_\n",
    "\n",
    "# Train the model using the training sets \n",
    "clf.fit(X_train, Y_train)\n",
    "              "
   ]
  },
  {
   "cell_type": "code",
   "execution_count": 213,
   "id": "74f35d42",
   "metadata": {},
   "outputs": [],
   "source": [
    "# Import Decision tree classifier\n",
    "from sklearn.tree import DecisionTreeClassifier\n",
    "clf = DecisionTreeClassifier()\n",
    "clf = clf.fit(X_train, Y_train)"
   ]
  },
  {
   "cell_type": "code",
   "execution_count": 214,
   "id": "dd540bf8",
   "metadata": {},
   "outputs": [],
   "source": [
    "# Model prediction on train data\n",
    "Y_pred = clf.predict(X_train)"
   ]
  },
  {
   "cell_type": "code",
   "execution_count": 215,
   "id": "f928bb50",
   "metadata": {},
   "outputs": [],
   "source": [
    "# Finding the variable with more importance\n",
    "feature_importance = pd.DataFrame([X_train.columns, clf.tree_.compute_feature_importances()])\n",
    "feature_importance = feature_importance.T.sort_values(by = 1, ascending=False)[1:10]"
   ]
  },
  {
   "cell_type": "code",
   "execution_count": 216,
   "id": "c110d7cc",
   "metadata": {},
   "outputs": [
    {
     "name": "stderr",
     "output_type": "stream",
     "text": [
      "No handles with labels found to put in legend.\n"
     ]
    },
    {
     "data": {
      "image/png": "[encoded data removed]",
      "text/plain": [
       "<Figure size 432x288 with 1 Axes>"
      ]
     },
     "metadata": {
      "needs_background": "light"
     },
     "output_type": "display_data"
    }
   ],
   "source": [
    "sns.barplot(x=feature_importance[1], y=feature_importance[0])\n",
    "# Add labels to the graph\n",
    "plt.xlabel('Feature Importance Score')\n",
    "plt.ylabel('Features')\n",
    "plt.title(\"Visualizing Important Features\")\n",
    "plt.legend()\n",
    "plt.show()"
   ]
  },
  {
   "cell_type": "code",
   "execution_count": 217,
   "id": "724d8918",
   "metadata": {},
   "outputs": [],
   "source": [
    "# Prediction on test set\n",
    "Y_pred = clf.predict(X_test)"
   ]
  },
  {
   "cell_type": "code",
   "execution_count": 218,
   "id": "025c3515",
   "metadata": {},
   "outputs": [
    {
     "name": "stderr",
     "output_type": "stream",
     "text": [
      "C:\\Users\\Bharti Lenday\\anaconda3\\lib\\site-packages\\sklearn\\utils\\validation.py:70: FutureWarning: Pass labels=[1, 0] as keyword args. From version 1.0 (renaming of 0.25) passing these as positional arguments will result in an error\n",
      "  warnings.warn(f\"Pass {args_msg} as keyword args. From version \"\n"
     ]
    },
    {
     "data": {
      "image/png": "[encoded data removed]",
      "text/plain": [
       "<Figure size 432x288 with 2 Axes>"
      ]
     },
     "metadata": {
      "needs_background": "light"
     },
     "output_type": "display_data"
    }
   ],
   "source": [
    "# Confusion matrix\n",
    "draw_cm(Y_test, Y_pred)"
   ]
  },
  {
   "cell_type": "code",
   "execution_count": 219,
   "id": "3ed41a10",
   "metadata": {},
   "outputs": [
    {
     "name": "stdout",
     "output_type": "stream",
     "text": [
      "Total Accuracy :  84.07\n"
     ]
    }
   ],
   "source": [
    "# Calculating the accuracy, precision and the recall\n",
    "acc_dt = round( metrics.accuracy_score(Y_test, Y_pred) * 100, 2 )\n",
    "print( 'Total Accuracy : ', acc_dt )"
   ]
  },
  {
   "cell_type": "markdown",
   "id": "1eb68b74",
   "metadata": {},
   "source": [
    "### 4)  Random Forest Classifier"
   ]
  },
  {
   "cell_type": "code",
   "execution_count": 220,
   "id": "2db539cd",
   "metadata": {},
   "outputs": [
    {
     "data": {
      "text/plain": [
       "RandomForestClassifier(max_depth=10, min_samples_split=3, n_estimators=9)"
      ]
     },
     "execution_count": 220,
     "metadata": {},
     "output_type": "execute_result"
    }
   ],
   "source": [
    "# Random Forest Classifier\n",
    "\n",
    "# Import library of RandomForestClassifier model\n",
    "from sklearn.ensemble import RandomForestClassifier\n",
    "\n",
    "# Create a Random Forest Classifier\n",
    "rf = RandomForestClassifier()\n",
    "\n",
    "# Hyperparameter Optimization\n",
    "parameters = {'n_estimators': [4, 6, 9, 10, 15], \n",
    "              'max_features': ['log2', 'sqrt','auto'], \n",
    "              'criterion': ['entropy', 'gini'],\n",
    "              'max_depth': [2, 3, 5, 10], \n",
    "              'min_samples_split': [2, 3, 5],\n",
    "              'min_samples_leaf': [1, 5, 8]\n",
    "             }\n",
    "\n",
    "# Run the grid search\n",
    "grid_obj = GridSearchCV(rf, parameters)\n",
    "grid_obj = grid_obj.fit(X_train, Y_train)\n",
    "\n",
    "# Set the rf to the best combination of parameters\n",
    "rf = grid_obj.best_estimator_\n",
    "\n",
    "# Train the model using the training sets \n",
    "rf.fit(X_train,Y_train)"
   ]
  },
  {
   "cell_type": "code",
   "execution_count": 221,
   "id": "ead362f4",
   "metadata": {},
   "outputs": [
    {
     "name": "stderr",
     "output_type": "stream",
     "text": [
      "No handles with labels found to put in legend.\n"
     ]
    },
    {
     "data": {
      "image/png": "[encoded data removed]",
      "text/plain": [
       "<Figure size 432x288 with 1 Axes>"
      ]
     },
     "metadata": {
      "needs_background": "light"
     },
     "output_type": "display_data"
    }
   ],
   "source": [
    "# Finding the variable with more importance\n",
    "feature_imp = pd.Series(rf.feature_importances_,index= X_train.columns).sort_values(ascending=False)\n",
    "# Creating a bar plot\n",
    "feature_imp=feature_imp[0:10,]\n",
    "sns.barplot(x=feature_imp, y=feature_imp.index)\n",
    "# Add labels to the graph\n",
    "plt.xlabel('Feature Importance Score')\n",
    "plt.ylabel('Features')\n",
    "plt.title(\"Visualizing Important Features\")\n",
    "plt.legend()\n",
    "plt.show()"
   ]
  },
  {
   "cell_type": "code",
   "execution_count": 222,
   "id": "1ef15d73",
   "metadata": {},
   "outputs": [
    {
     "name": "stderr",
     "output_type": "stream",
     "text": [
      "C:\\Users\\Bharti Lenday\\anaconda3\\lib\\site-packages\\sklearn\\utils\\validation.py:70: FutureWarning: Pass labels=[1, 0] as keyword args. From version 1.0 (renaming of 0.25) passing these as positional arguments will result in an error\n",
      "  warnings.warn(f\"Pass {args_msg} as keyword args. From version \"\n"
     ]
    },
    {
     "data": {
      "image/png": "[encoded data removed]",
      "text/plain": [
       "<Figure size 432x288 with 2 Axes>"
      ]
     },
     "metadata": {
      "needs_background": "light"
     },
     "output_type": "display_data"
    }
   ],
   "source": [
    "# Prediction on test data\n",
    "Y_pred = rf.predict(X_test)\n",
    "# Confusion metrix\n",
    "draw_cm(Y_test, Y_pred)"
   ]
  },
  {
   "cell_type": "code",
   "execution_count": 223,
   "id": "8425c454",
   "metadata": {},
   "outputs": [
    {
     "name": "stdout",
     "output_type": "stream",
     "text": [
      "Total Accuracy :  90.71\n"
     ]
    }
   ],
   "source": [
    "# Calculating the accuracy, precision and the recall\n",
    "acc_rf = round( metrics.accuracy_score(Y_test, Y_pred) * 100 , 2 )\n",
    "print( 'Total Accuracy : ', acc_rf )"
   ]
  },
  {
   "cell_type": "markdown",
   "id": "52f6d5d2",
   "metadata": {},
   "source": [
    "### 5)  SVM Classifier"
   ]
  },
  {
   "cell_type": "code",
   "execution_count": 224,
   "id": "d7a602ad",
   "metadata": {},
   "outputs": [],
   "source": [
    "# Creating scaled set to be used in model to improve the results\n",
    "from sklearn.preprocessing import StandardScaler\n",
    "sc = StandardScaler()\n",
    "X_train = sc.fit_transform(X_train)\n",
    "X_test = sc.transform(X_test)"
   ]
  },
  {
   "cell_type": "code",
   "execution_count": 225,
   "id": "eccb209e",
   "metadata": {},
   "outputs": [
    {
     "data": {
      "text/plain": [
       "SVC(C=1000, gamma=0.001)"
      ]
     },
     "execution_count": 225,
     "metadata": {},
     "output_type": "execute_result"
    }
   ],
   "source": [
    "# Import Library of Support Vector Machine model\n",
    "from sklearn import svm\n",
    "\n",
    "# Create a Support Vector Classifier\n",
    "svc = svm.SVC()\n",
    "\n",
    "# Hyperparameter Optimization\n",
    "parameters = [\n",
    "  {'C': [1, 10, 100, 1000], 'kernel': ['linear']},\n",
    "  {'C': [1, 10, 100, 1000], 'gamma': [0.001, 0.0001], 'kernel': ['rbf']},\n",
    "]\n",
    "\n",
    "# Run the grid search\n",
    "grid_obj = GridSearchCV(svc, parameters)\n",
    "grid_obj = grid_obj.fit(X_train, Y_train)\n",
    "\n",
    "# Set the svc to the best combination of parameters\n",
    "svc = grid_obj.best_estimator_\n",
    "\n",
    "# Train the model using the training sets \n",
    "svc.fit(X_train,Y_train)"
   ]
  },
  {
   "cell_type": "code",
   "execution_count": 226,
   "id": "1bd1482e",
   "metadata": {},
   "outputs": [
    {
     "name": "stderr",
     "output_type": "stream",
     "text": [
      "C:\\Users\\Bharti Lenday\\anaconda3\\lib\\site-packages\\sklearn\\utils\\validation.py:70: FutureWarning: Pass labels=[1, 0] as keyword args. From version 1.0 (renaming of 0.25) passing these as positional arguments will result in an error\n",
      "  warnings.warn(f\"Pass {args_msg} as keyword args. From version \"\n"
     ]
    },
    {
     "data": {
      "image/png": "[encoded data removed]",
      "text/plain": [
       "<Figure size 432x288 with 2 Axes>"
      ]
     },
     "metadata": {
      "needs_background": "light"
     },
     "output_type": "display_data"
    }
   ],
   "source": [
    "# Prediction on test data\n",
    "Y_pred = svc.predict(X_test)\n",
    "# Confusion Matrix\n",
    "draw_cm(Y_test, Y_pred)"
   ]
  },
  {
   "cell_type": "code",
   "execution_count": 227,
   "id": "3a928192",
   "metadata": {},
   "outputs": [
    {
     "name": "stdout",
     "output_type": "stream",
     "text": [
      "Total Accuracy :  84.51\n"
     ]
    }
   ],
   "source": [
    "# Calculating the accuracy, precision and the recall\n",
    "acc_svm = round( metrics.accuracy_score(Y_test, Y_pred) * 100, 2 )\n",
    "print( 'Total Accuracy : ', acc_svm )"
   ]
  },
  {
   "cell_type": "markdown",
   "id": "01fa7384",
   "metadata": {},
   "source": [
    "### 6)  K - Nearest Neighbors"
   ]
  },
  {
   "cell_type": "code",
   "execution_count": 228,
   "id": "4dcdce5f",
   "metadata": {},
   "outputs": [
    {
     "data": {
      "text/plain": [
       "KNeighborsClassifier(leaf_size=10, n_neighbors=10, weights='distance')"
      ]
     },
     "execution_count": 228,
     "metadata": {},
     "output_type": "execute_result"
    }
   ],
   "source": [
    "# Import library of KNeighborsClassifier model\n",
    "from sklearn.neighbors import KNeighborsClassifier\n",
    "\n",
    "# Create a KNN Classifier\n",
    "knn = KNeighborsClassifier()\n",
    "\n",
    "# Hyperparameter Optimization\n",
    "parameters = {'n_neighbors': [3, 4, 5, 10], \n",
    "              'weights': ['uniform', 'distance'],\n",
    "              'algorithm' : ['auto', 'ball_tree', 'kd_tree', 'brute'],\n",
    "              'leaf_size' : [10, 20, 30, 50]\n",
    "             }\n",
    "\n",
    "# Run the grid search\n",
    "grid_obj = GridSearchCV(knn, parameters)\n",
    "grid_obj = grid_obj.fit(X_train, Y_train)\n",
    "\n",
    "# Set the knn to the best combination of parameters\n",
    "knn = grid_obj.best_estimator_\n",
    "\n",
    "# Train the model using the training sets \n",
    "knn.fit(X_train,Y_train)"
   ]
  },
  {
   "cell_type": "code",
   "execution_count": 229,
   "id": "bc6877b4",
   "metadata": {},
   "outputs": [],
   "source": [
    "# Prediction on test data\n",
    "Y_pred = knn.predict(X_test)"
   ]
  },
  {
   "cell_type": "code",
   "execution_count": 230,
   "id": "85e8792a",
   "metadata": {},
   "outputs": [
    {
     "name": "stderr",
     "output_type": "stream",
     "text": [
      "C:\\Users\\Bharti Lenday\\anaconda3\\lib\\site-packages\\sklearn\\utils\\validation.py:70: FutureWarning: Pass labels=[1, 0] as keyword args. From version 1.0 (renaming of 0.25) passing these as positional arguments will result in an error\n",
      "  warnings.warn(f\"Pass {args_msg} as keyword args. From version \"\n"
     ]
    },
    {
     "data": {
      "image/png": "[encoded data removed]",
      "text/plain": [
       "<Figure size 432x288 with 2 Axes>"
      ]
     },
     "metadata": {
      "needs_background": "light"
     },
     "output_type": "display_data"
    }
   ],
   "source": [
    "# Confusion Matrix\n",
    "draw_cm(Y_test, Y_pred)"
   ]
  },
  {
   "cell_type": "code",
   "execution_count": 231,
   "id": "fa52cf38",
   "metadata": {},
   "outputs": [
    {
     "name": "stdout",
     "output_type": "stream",
     "text": [
      "Total Accuracy :  81.42\n"
     ]
    }
   ],
   "source": [
    "# Calculating the accuracy, precision and the recall\n",
    "acc_knn = round( metrics.accuracy_score(Y_test, Y_pred) * 100, 2 )\n",
    "print( 'Total Accuracy : ', acc_knn )"
   ]
  },
  {
   "cell_type": "markdown",
   "id": "e5842792",
   "metadata": {},
   "source": [
    "### 7) XGB Classifier"
   ]
  },
  {
   "cell_type": "code",
   "execution_count": 319,
   "id": "64c0cc36",
   "metadata": {},
   "outputs": [
    {
     "name": "stderr",
     "output_type": "stream",
     "text": [
      "C:\\Users\\Bharti Lenday\\anaconda3\\lib\\site-packages\\xgboost\\sklearn.py:1146: UserWarning: The use of label encoder in XGBClassifier is deprecated and will be removed in a future release. To remove this warning, do the following: 1) Pass option use_label_encoder=False when constructing XGBClassifier object; and 2) Encode your labels (y) as integers starting with 0, i.e. 0, 1, 2, ..., [num_class - 1].\n",
      "  warnings.warn(label_encoder_deprecation_msg, UserWarning)\n"
     ]
    },
    {
     "name": "stdout",
     "output_type": "stream",
     "text": [
      "[22:22:17] WARNING: C:/Users/Administrator/workspace/xgboost-win64_release_1.4.0/src/learner.cc:1095: Starting in XGBoost 1.3.0, the default evaluation metric used with the objective 'multi:softprob' was changed from 'merror' to 'mlogloss'. Explicitly set eval_metric if you'd like to restore the old behavior.\n"
     ]
    },
    {
     "data": {
      "text/plain": [
       "XGBClassifier(base_score=0.5, booster='gbtree', colsample_bylevel=1,\n",
       "              colsample_bynode=1, colsample_bytree=1, gamma=0, gpu_id=-1,\n",
       "              importance_type='gain', interaction_constraints='',\n",
       "              learning_rate=0.300000012, max_delta_step=0, max_depth=6,\n",
       "              min_child_weight=1, missing=nan, monotone_constraints='()',\n",
       "              n_estimators=100, n_jobs=8, num_parallel_tree=1,\n",
       "              objective='multi:softprob', random_state=0, reg_alpha=0,\n",
       "              reg_lambda=1, scale_pos_weight=None, subsample=1,\n",
       "              tree_method='exact', validate_parameters=1, verbosity=None)"
      ]
     },
     "execution_count": 319,
     "metadata": {},
     "output_type": "execute_result"
    }
   ],
   "source": [
    "# Import library of xgboost model\n",
    "from xgboost import XGBClassifier\n",
    "\n",
    "# Create a XGB Classifier\n",
    "# gbm = XGBClassifier(learning_rate = 0.02, n_estimators= 2000, max_depth= 4, min_child_weight= 2, gamma=1, subsample=0.8, \n",
    "#                     colsample_bytree=0.8, objective= 'binary:logistic', nthread= -1, scale_pos_weight=1)\n",
    "gbm = XGBClassifier()\n",
    "\n",
    "# Train the model using the training sets\n",
    "gbm.fit(X_train, Y_train)"
   ]
  },
  {
   "cell_type": "code",
   "execution_count": 320,
   "id": "cdda756e",
   "metadata": {},
   "outputs": [
    {
     "name": "stdout",
     "output_type": "stream",
     "text": [
      "Total Accuracy :  91.15\n"
     ]
    }
   ],
   "source": [
    "# Prediction on test data\n",
    "Y_pred = gbm.predict(X_test)\n",
    "# Calculating the accuracy, precision and the recall\n",
    "acc_xgb = round( metrics.accuracy_score(Y_test, Y_pred) * 100 , 2 )\n",
    "print( 'Total Accuracy : ', acc_xgb )"
   ]
  },
  {
   "cell_type": "code",
   "execution_count": 321,
   "id": "6a14f9fd",
   "metadata": {},
   "outputs": [
    {
     "name": "stderr",
     "output_type": "stream",
     "text": [
      "C:\\Users\\Bharti Lenday\\anaconda3\\lib\\site-packages\\sklearn\\utils\\validation.py:70: FutureWarning: Pass labels=[1, 0] as keyword args. From version 1.0 (renaming of 0.25) passing these as positional arguments will result in an error\n",
      "  warnings.warn(f\"Pass {args_msg} as keyword args. From version \"\n"
     ]
    },
    {
     "data": {
      "image/png": "[encoded data removed]",
      "text/plain": [
       "<Figure size 432x288 with 2 Axes>"
      ]
     },
     "metadata": {
      "needs_background": "light"
     },
     "output_type": "display_data"
    }
   ],
   "source": [
    "# Confusion matrix \n",
    "draw_cm(Y_test, Y_pred)"
   ]
  },
  {
   "cell_type": "markdown",
   "id": "ffeb9a00",
   "metadata": {},
   "source": [
    "## Evaluation and Comparision of all the models"
   ]
  },
  {
   "cell_type": "code",
   "execution_count": 322,
   "id": "63588f63",
   "metadata": {},
   "outputs": [
    {
     "data": {
      "text/html": [
       "<div>\n",
       "<style scoped>\n",
       "    .dataframe tbody tr th:only-of-type {\n",
       "        vertical-align: middle;\n",
       "    }\n",
       "\n",
       "    .dataframe tbody tr th {\n",
       "        vertical-align: top;\n",
       "    }\n",
       "\n",
       "    .dataframe thead th {\n",
       "        text-align: right;\n",
       "    }\n",
       "</style>\n",
       "<table border=\"1\" class=\"dataframe\">\n",
       "  <thead>\n",
       "    <tr style=\"text-align: right;\">\n",
       "      <th></th>\n",
       "      <th>Model</th>\n",
       "      <th>Score</th>\n",
       "    </tr>\n",
       "  </thead>\n",
       "  <tbody>\n",
       "    <tr>\n",
       "      <th>6</th>\n",
       "      <td>XGBoost</td>\n",
       "      <td>91.15</td>\n",
       "    </tr>\n",
       "    <tr>\n",
       "      <th>3</th>\n",
       "      <td>Random Forest</td>\n",
       "      <td>90.71</td>\n",
       "    </tr>\n",
       "    <tr>\n",
       "      <th>4</th>\n",
       "      <td>Support Vector Machines</td>\n",
       "      <td>84.51</td>\n",
       "    </tr>\n",
       "    <tr>\n",
       "      <th>2</th>\n",
       "      <td>Decision Tree</td>\n",
       "      <td>84.07</td>\n",
       "    </tr>\n",
       "    <tr>\n",
       "      <th>5</th>\n",
       "      <td>K - Nearest Neighbors</td>\n",
       "      <td>81.42</td>\n",
       "    </tr>\n",
       "    <tr>\n",
       "      <th>1</th>\n",
       "      <td>Naive Bayes</td>\n",
       "      <td>62.39</td>\n",
       "    </tr>\n",
       "    <tr>\n",
       "      <th>0</th>\n",
       "      <td>Logistic Regression</td>\n",
       "      <td>56.19</td>\n",
       "    </tr>\n",
       "  </tbody>\n",
       "</table>\n",
       "</div>"
      ],
      "text/plain": [
       "                     Model  Score\n",
       "6                  XGBoost  91.15\n",
       "3            Random Forest  90.71\n",
       "4  Support Vector Machines  84.51\n",
       "2            Decision Tree  84.07\n",
       "5    K - Nearest Neighbors  81.42\n",
       "1              Naive Bayes  62.39\n",
       "0      Logistic Regression  56.19"
      ]
     },
     "execution_count": 322,
     "metadata": {},
     "output_type": "execute_result"
    }
   ],
   "source": [
    "models = pd.DataFrame({\n",
    "    'Model': ['Logistic Regression', 'Naive Bayes', 'Decision Tree', 'Random Forest', 'Support Vector Machines', \n",
    "              'K - Nearest Neighbors', 'XGBoost'],\n",
    "    'Score': [acc_logreg, acc_nb, acc_dt, acc_rf, acc_svm, acc_knn, acc_xgb]})\n",
    "models.sort_values(by='Score', ascending=False)"
   ]
  },
  {
   "cell_type": "markdown",
   "id": "b27d4063",
   "metadata": {},
   "source": [
    "- **I have build 7 models (Logistic Regression, Naive Bayes, Decision Tree, Random Forest, Support Vector Machines, \n",
    "    K - Nearest Neighbors, XGBoost).**\n",
    "- **I have checked the accuracy in each of this model.**\n",
    "- **I have notice that XGBoost Classifier Model has more accuracy compare to the other model.**\n",
    "- **I have fixed XGBoost Classifier Model (XGB) as my final model.** "
   ]
  },
  {
   "cell_type": "markdown",
   "id": "f2553c88",
   "metadata": {},
   "source": [
    "## Fixed XGBoost Classifier Model (XGB) as my final model"
   ]
  },
  {
   "cell_type": "markdown",
   "id": "f7ef5bb0",
   "metadata": {},
   "source": [
    "**Now we will predict 'LICENSE STATUS' for Test data using XGBoost Classifier Model (XGB).**"
   ]
  },
  {
   "cell_type": "code",
   "execution_count": 323,
   "id": "1a03617b",
   "metadata": {},
   "outputs": [
    {
     "data": {
      "text/plain": [
       "(85895, 21)"
      ]
     },
     "execution_count": 323,
     "metadata": {},
     "output_type": "execute_result"
    }
   ],
   "source": [
    "Train.shape"
   ]
  },
  {
   "cell_type": "code",
   "execution_count": 324,
   "id": "fd2f665c",
   "metadata": {},
   "outputs": [
    {
     "data": {
      "text/plain": [
       "(57239, 20)"
      ]
     },
     "execution_count": 324,
     "metadata": {},
     "output_type": "execute_result"
    }
   ],
   "source": [
    "Test.shape"
   ]
  },
  {
   "cell_type": "code",
   "execution_count": 326,
   "id": "8e06dc98",
   "metadata": {},
   "outputs": [],
   "source": [
    "# Predicting on the test dataset\n",
    "my_prediction = gbm.predict(Test.values)"
   ]
  },
  {
   "cell_type": "code",
   "execution_count": 327,
   "id": "317a155e",
   "metadata": {},
   "outputs": [],
   "source": [
    "my_submission['LICENSE STATUS'] = my_prediction"
   ]
  },
  {
   "cell_type": "code",
   "execution_count": 332,
   "id": "40ff61c7",
   "metadata": {},
   "outputs": [],
   "source": [
    "my_submission['LICENSE STATUS'] = my_submission['LICENSE STATUS'].replace(0, 'AAI')\n",
    "my_submission['LICENSE STATUS'] = my_submission['LICENSE STATUS'].replace(1, 'REA')\n",
    "my_submission['LICENSE STATUS'] = my_submission['LICENSE STATUS'].replace(2, 'REV')\n",
    "my_submission['LICENSE STATUS'] = my_submission['LICENSE STATUS'].replace(3, 'INQ')\n",
    "my_submission['LICENSE STATUS'] = my_submission['LICENSE STATUS'].replace(4, 'AAC')"
   ]
  },
  {
   "cell_type": "code",
   "execution_count": 333,
   "id": "81e64fa0",
   "metadata": {},
   "outputs": [
    {
     "data": {
      "text/plain": [
       "AAC    36126\n",
       "REV    19687\n",
       "INQ     1115\n",
       "AAI      270\n",
       "REA       41\n",
       "Name: LICENSE STATUS, dtype: int64"
      ]
     },
     "execution_count": 333,
     "metadata": {},
     "output_type": "execute_result"
    }
   ],
   "source": [
    "my_submission['LICENSE STATUS'].value_counts()"
   ]
  },
  {
   "cell_type": "code",
   "execution_count": 334,
   "id": "cadbbffd",
   "metadata": {},
   "outputs": [],
   "source": [
    "# Saving predictions to file\n",
    "my_submission.to_csv('submission.csv', index=False)"
   ]
  },
  {
   "cell_type": "code",
   "execution_count": null,
   "id": "0691a958",
   "metadata": {},
   "outputs": [],
   "source": []
  }
 ],
 "metadata": {
  "kernelspec": {
   "display_name": "Python 3 (ipykernel)",
   "language": "python",
   "name": "python3"
  },
  "language_info": {
   "codemirror_mode": {
    "name": "ipython",
    "version": 3
   },
   "file_extension": ".py",
   "mimetype": "text/x-python",
   "name": "python",
   "nbconvert_exporter": "python",
   "pygments_lexer": "ipython3",
   "version": "3.8.5"
  }
 },
 "nbformat": 4,
 "nbformat_minor": 5
}
